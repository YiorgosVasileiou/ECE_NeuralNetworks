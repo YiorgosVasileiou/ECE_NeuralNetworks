{
  "nbformat": 4,
  "nbformat_minor": 0,
  "metadata": {
    "colab": {
      "name": "big_dataset.ipynb",
      "provenance": [],
      "collapsed_sections": [],
      "toc_visible": true
    },
    "kernelspec": {
      "display_name": "Python 3",
      "language": "python",
      "name": "python3"
    },
    "language_info": {
      "codemirror_mode": {
        "name": "ipython",
        "version": 3
      },
      "file_extension": ".py",
      "mimetype": "text/x-python",
      "name": "python",
      "nbconvert_exporter": "python",
      "pygments_lexer": "ipython3",
      "version": "3.7.7"
    },
    "toc": {
      "base_numbering": 1,
      "nav_menu": {},
      "number_sections": true,
      "sideBar": true,
      "skip_h1_title": false,
      "title_cell": "Table of Contents",
      "title_sidebar": "Contents",
      "toc_cell": false,
      "toc_position": {},
      "toc_section_display": true,
      "toc_window_display": true
    },
    "varInspector": {
      "cols": {
        "lenName": 16,
        "lenType": 16,
        "lenVar": 40
      },
      "kernels_config": {
        "python": {
          "delete_cmd_postfix": "",
          "delete_cmd_prefix": "del ",
          "library": "var_list.py",
          "varRefreshCmd": "print(var_dic_list())"
        },
        "r": {
          "delete_cmd_postfix": ") ",
          "delete_cmd_prefix": "rm(",
          "library": "var_list.r",
          "varRefreshCmd": "cat(var_dic_list()) "
        }
      },
      "position": {
        "height": "682.85px",
        "left": "1475px",
        "right": "20px",
        "top": "120px",
        "width": "361px"
      },
      "types_to_exclude": [
        "module",
        "function",
        "builtin_function_or_method",
        "instance",
        "_Feature"
      ],
      "window_display": false
    }
  },
  "cells": [
    {
      "cell_type": "code",
      "metadata": {
        "colab": {
          "base_uri": "https://localhost:8080/",
          "height": 1000
        },
        "id": "wVeTFMhlNC55",
        "scrolled": true,
        "outputId": "d9e29b26-5e44-4df2-acb7-ffd65b591bf2"
      },
      "source": [
        "!pip install --upgrade pip #upgrade pip package installer\n",
        "!pip install scikit-learn --upgrade #upgrade scikit-learn package\n",
        "!pip install numpy --upgrade #upgrade numpy package\n",
        "!pip install pandas --upgrade #--upgrade #upgrade pandas package\n",
        "!pip install imbalanced-learn --upgrade\n",
        "!pip install plotly --upgrade"
      ],
      "execution_count": null,
      "outputs": [
        {
          "output_type": "stream",
          "text": [
            "Collecting pip\n",
            "\u001b[?25l  Downloading https://files.pythonhosted.org/packages/ab/11/2dc62c5263d9eb322f2f028f7b56cd9d096bb8988fcf82d65fa2e4057afe/pip-20.3.1-py2.py3-none-any.whl (1.5MB)\n",
            "\u001b[K     |████████████████████████████████| 1.5MB 5.8MB/s \n",
            "\u001b[?25hInstalling collected packages: pip\n",
            "  Found existing installation: pip 19.3.1\n",
            "    Uninstalling pip-19.3.1:\n",
            "      Successfully uninstalled pip-19.3.1\n",
            "Successfully installed pip-20.3.1\n",
            "Requirement already satisfied: scikit-learn in /usr/local/lib/python3.6/dist-packages (0.22.2.post1)\n",
            "Collecting scikit-learn\n",
            "  Downloading scikit_learn-0.23.2-cp36-cp36m-manylinux1_x86_64.whl (6.8 MB)\n",
            "\u001b[K     |████████████████████████████████| 6.8 MB 4.1 MB/s \n",
            "\u001b[?25hRequirement already satisfied: scipy>=0.19.1 in /usr/local/lib/python3.6/dist-packages (from scikit-learn) (1.4.1)\n",
            "Requirement already satisfied: joblib>=0.11 in /usr/local/lib/python3.6/dist-packages (from scikit-learn) (0.17.0)\n",
            "Requirement already satisfied: numpy>=1.13.3 in /usr/local/lib/python3.6/dist-packages (from scikit-learn) (1.18.5)\n",
            "Requirement already satisfied: numpy>=1.13.3 in /usr/local/lib/python3.6/dist-packages (from scikit-learn) (1.18.5)\n",
            "Collecting threadpoolctl>=2.0.0\n",
            "  Downloading threadpoolctl-2.1.0-py3-none-any.whl (12 kB)\n",
            "Installing collected packages: threadpoolctl, scikit-learn\n",
            "  Attempting uninstall: scikit-learn\n",
            "    Found existing installation: scikit-learn 0.22.2.post1\n",
            "    Uninstalling scikit-learn-0.22.2.post1:\n",
            "      Successfully uninstalled scikit-learn-0.22.2.post1\n",
            "Successfully installed scikit-learn-0.23.2 threadpoolctl-2.1.0\n",
            "Requirement already satisfied: numpy in /usr/local/lib/python3.6/dist-packages (1.18.5)\n",
            "Collecting numpy\n",
            "  Downloading numpy-1.19.4-cp36-cp36m-manylinux2010_x86_64.whl (14.5 MB)\n",
            "\u001b[K     |████████████████████████████████| 14.5 MB 101 kB/s \n",
            "\u001b[?25hInstalling collected packages: numpy\n",
            "  Attempting uninstall: numpy\n",
            "    Found existing installation: numpy 1.18.5\n",
            "    Uninstalling numpy-1.18.5:\n",
            "      Successfully uninstalled numpy-1.18.5\n",
            "\u001b[31mERROR: pip's dependency resolver does not currently take into account all the packages that are installed. This behaviour is the source of the following dependency conflicts.\n",
            "tensorflow 2.3.0 requires numpy<1.19.0,>=1.16.0, but you have numpy 1.19.4 which is incompatible.\n",
            "datascience 0.10.6 requires folium==0.2.1, but you have folium 0.8.3 which is incompatible.\n",
            "albumentations 0.1.12 requires imgaug<0.2.7,>=0.2.5, but you have imgaug 0.2.9 which is incompatible.\u001b[0m\n",
            "Successfully installed numpy-1.19.4\n"
          ],
          "name": "stdout"
        },
        {
          "output_type": "display_data",
          "data": {
            "application/vnd.colab-display-data+json": {
              "pip_warning": {
                "packages": [
                  "numpy"
                ]
              }
            }
          },
          "metadata": {
            "tags": []
          }
        },
        {
          "output_type": "stream",
          "text": [
            "Requirement already satisfied: pandas in /usr/local/lib/python3.6/dist-packages (1.1.4)\n",
            "Requirement already satisfied: numpy>=1.15.4 in /usr/local/lib/python3.6/dist-packages (from pandas) (1.19.4)\n",
            "Requirement already satisfied: python-dateutil>=2.7.3 in /usr/local/lib/python3.6/dist-packages (from pandas) (2.8.1)\n",
            "Requirement already satisfied: pytz>=2017.2 in /usr/local/lib/python3.6/dist-packages (from pandas) (2018.9)\n",
            "Requirement already satisfied: six>=1.5 in /usr/local/lib/python3.6/dist-packages (from python-dateutil>=2.7.3->pandas) (1.15.0)\n",
            "Requirement already satisfied: imbalanced-learn in /usr/local/lib/python3.6/dist-packages (0.4.3)\n",
            "Collecting imbalanced-learn\n",
            "  Downloading imbalanced_learn-0.7.0-py3-none-any.whl (167 kB)\n",
            "\u001b[K     |████████████████████████████████| 167 kB 4.4 MB/s \n",
            "\u001b[?25hRequirement already satisfied: joblib>=0.11 in /usr/local/lib/python3.6/dist-packages (from imbalanced-learn) (0.17.0)\n",
            "Requirement already satisfied: scipy>=0.19.1 in /usr/local/lib/python3.6/dist-packages (from imbalanced-learn) (1.4.1)\n",
            "Requirement already satisfied: numpy>=1.13.3 in /usr/local/lib/python3.6/dist-packages (from imbalanced-learn) (1.19.4)\n",
            "Requirement already satisfied: scikit-learn>=0.23 in /usr/local/lib/python3.6/dist-packages (from imbalanced-learn) (0.23.2)\n",
            "Requirement already satisfied: joblib>=0.11 in /usr/local/lib/python3.6/dist-packages (from imbalanced-learn) (0.17.0)\n",
            "Requirement already satisfied: scipy>=0.19.1 in /usr/local/lib/python3.6/dist-packages (from imbalanced-learn) (1.4.1)\n",
            "Requirement already satisfied: numpy>=1.13.3 in /usr/local/lib/python3.6/dist-packages (from imbalanced-learn) (1.19.4)\n",
            "Requirement already satisfied: threadpoolctl>=2.0.0 in /usr/local/lib/python3.6/dist-packages (from scikit-learn>=0.23->imbalanced-learn) (2.1.0)\n",
            "Requirement already satisfied: numpy>=1.13.3 in /usr/local/lib/python3.6/dist-packages (from imbalanced-learn) (1.19.4)\n",
            "Installing collected packages: imbalanced-learn\n",
            "  Attempting uninstall: imbalanced-learn\n",
            "    Found existing installation: imbalanced-learn 0.4.3\n",
            "    Uninstalling imbalanced-learn-0.4.3:\n",
            "      Successfully uninstalled imbalanced-learn-0.4.3\n",
            "Successfully installed imbalanced-learn-0.7.0\n",
            "Requirement already satisfied: plotly in /usr/local/lib/python3.6/dist-packages (4.4.1)\n",
            "Collecting plotly\n",
            "  Downloading plotly-4.13.0-py2.py3-none-any.whl (13.1 MB)\n",
            "\u001b[K     |████████████████████████████████| 13.1 MB 4.1 MB/s \n",
            "\u001b[?25hRequirement already satisfied: six in /usr/local/lib/python3.6/dist-packages (from plotly) (1.15.0)\n",
            "Requirement already satisfied: retrying>=1.3.3 in /usr/local/lib/python3.6/dist-packages (from plotly) (1.3.3)\n",
            "Requirement already satisfied: six in /usr/local/lib/python3.6/dist-packages (from plotly) (1.15.0)\n",
            "Installing collected packages: plotly\n",
            "  Attempting uninstall: plotly\n",
            "    Found existing installation: plotly 4.4.1\n",
            "    Uninstalling plotly-4.4.1:\n",
            "      Successfully uninstalled plotly-4.4.1\n",
            "Successfully installed plotly-4.13.0\n"
          ],
          "name": "stdout"
        }
      ]
    },
    {
      "cell_type": "markdown",
      "metadata": {
        "id": "rsO9PnfsgOOh"
      },
      "source": [
        "# Μεγάλο Dataset (B10)\n",
        "Epileptic Seizure Recognition Data Set"
      ]
    },
    {
      "cell_type": "markdown",
      "metadata": {
        "id": "A6HZlhPv1ovc"
      },
      "source": [
        "## Βασικές Πληροφορίες\n",
        "Το Dataset περιέχει δεδομέvα εγκεφαλικής δραστηριότητας 500 ασθενών,\n",
        "καταγεγραμένα με εγκεφαλογράφημα (Electroencephalogtam - EEG) για 23.5\n",
        "δευτερόλεπτα. Η εγκεφαλική δραστηριότητα του κάθε ασθενούς χωρίζεται σε\n",
        "χρονοσειρές (σειρές - rows) του ενός δευτερολέπτου, τα οποία στη συνέχεια\n",
        "αντιστοιχίζονται σε μια από 5 πέντε labels (Y = {1,2,3,4,5}). Οι ταμπέλες\n",
        "αντιστοιχίζονται ως εξής:\n",
        "1. Υ = 1. Τα δεδομέvα λήφθηκαν κατά επιληπτικό επεισόδιο.\n",
        "2. Υ = 2. Τα δεδομέvα λήφθηκαν από περιοχή με όγκο.\n",
        "3. Υ = 3. Τα δεδομέvα λήφθηκαν από εγκέφαλο με όγκο, αλλά υγιή εγκεφαλική\n",
        "   περιοχή.\n",
        "4. Υ = 4. Τα δεδομέvα λήφθηκαν με τον ασθενή να έχει τα μάτια κλειστά.\n",
        "5. Υ = 5. Τα δεδομέvα λήφθηκαν με τον ασθενή να έχει τα μάτια ανοιχτά.\n",
        "\n",
        "Επισημαίνεται ότι οι ασθενείς στις κλάσεις 2,3,4 και 5 δεν είχαν επιληπτικό\n",
        "επεισόδιο, και η συχνότερη χρήση του dataset είναι για δυαδική ταξινόμηση\n",
        "(binary classification) της κλάσης 1 έναντι των υπολοίπων (πρόβλεψη εμφάνισης επιληπιτκού επεισοδίου). Κάθε γραμμή (δείγμα) του ενός δευτερολέπτου περιέχει 178 data points εγκεφαλικής δραστηριότητας - 178 χαρακτηριστικά, όλα διατεταγμένα. Επιπλέον, το dataset περιέχει ένα label ανά δείγμα, και έχει 23 * 500 = 11500 γραμμές (δείγματα)."
      ]
    },
    {
      "cell_type": "code",
      "metadata": {
        "colab": {
          "base_uri": "https://localhost:8080/",
          "height": 273
        },
        "id": "rBK8-UJ2LVGs",
        "outputId": "490ab76e-f303-4928-bcf6-a29e8101a739"
      },
      "source": [
        "import pandas as pd\n",
        "from sklearn.dummy import DummyClassifier\n",
        "from datetime import datetime\n",
        "from sklearn.model_selection import train_test_split\n",
        "from sklearn.naive_bayes import GaussianNB\n",
        "from sklearn.neural_network import MLPClassifier\n",
        "from imblearn.over_sampling import RandomOverSampler\n",
        "from sklearn.neighbors import KNeighborsClassifier\n",
        "from sklearn.svm import SVC, LinearSVC\n",
        "from sklearn.metrics import f1_score, confusion_matrix, classification_report, plot_confusion_matrix\n",
        "import matplotlib.pyplot as plt\n",
        "import numpy as np\n",
        "from sklearn.model_selection import GridSearchCV\n",
        "from sklearn.pipeline import Pipeline\n",
        "\n",
        "from sklearn.feature_selection import VarianceThreshold\n",
        "from sklearn.preprocessing import StandardScaler\n",
        "from sklearn.decomposition import PCA\n",
        "import plotly.graph_objects as go\n",
        "\n",
        "\n",
        "df = pd.read_csv(\"big_dataset_data.csv\")\n",
        "df.head()"
      ],
      "execution_count": null,
      "outputs": [
        {
          "output_type": "execute_result",
          "data": {
            "text/html": [
              "<div>\n",
              "<style scoped>\n",
              "    .dataframe tbody tr th:only-of-type {\n",
              "        vertical-align: middle;\n",
              "    }\n",
              "\n",
              "    .dataframe tbody tr th {\n",
              "        vertical-align: top;\n",
              "    }\n",
              "\n",
              "    .dataframe thead th {\n",
              "        text-align: right;\n",
              "    }\n",
              "</style>\n",
              "<table border=\"1\" class=\"dataframe\">\n",
              "  <thead>\n",
              "    <tr style=\"text-align: right;\">\n",
              "      <th></th>\n",
              "      <th>Unnamed: 0</th>\n",
              "      <th>X1</th>\n",
              "      <th>X2</th>\n",
              "      <th>X3</th>\n",
              "      <th>X4</th>\n",
              "      <th>X5</th>\n",
              "      <th>X6</th>\n",
              "      <th>X7</th>\n",
              "      <th>X8</th>\n",
              "      <th>X9</th>\n",
              "      <th>X10</th>\n",
              "      <th>X11</th>\n",
              "      <th>X12</th>\n",
              "      <th>X13</th>\n",
              "      <th>X14</th>\n",
              "      <th>X15</th>\n",
              "      <th>X16</th>\n",
              "      <th>X17</th>\n",
              "      <th>X18</th>\n",
              "      <th>X19</th>\n",
              "      <th>X20</th>\n",
              "      <th>X21</th>\n",
              "      <th>X22</th>\n",
              "      <th>X23</th>\n",
              "      <th>X24</th>\n",
              "      <th>X25</th>\n",
              "      <th>X26</th>\n",
              "      <th>X27</th>\n",
              "      <th>X28</th>\n",
              "      <th>X29</th>\n",
              "      <th>X30</th>\n",
              "      <th>X31</th>\n",
              "      <th>X32</th>\n",
              "      <th>X33</th>\n",
              "      <th>X34</th>\n",
              "      <th>X35</th>\n",
              "      <th>X36</th>\n",
              "      <th>X37</th>\n",
              "      <th>X38</th>\n",
              "      <th>X39</th>\n",
              "      <th>...</th>\n",
              "      <th>X140</th>\n",
              "      <th>X141</th>\n",
              "      <th>X142</th>\n",
              "      <th>X143</th>\n",
              "      <th>X144</th>\n",
              "      <th>X145</th>\n",
              "      <th>X146</th>\n",
              "      <th>X147</th>\n",
              "      <th>X148</th>\n",
              "      <th>X149</th>\n",
              "      <th>X150</th>\n",
              "      <th>X151</th>\n",
              "      <th>X152</th>\n",
              "      <th>X153</th>\n",
              "      <th>X154</th>\n",
              "      <th>X155</th>\n",
              "      <th>X156</th>\n",
              "      <th>X157</th>\n",
              "      <th>X158</th>\n",
              "      <th>X159</th>\n",
              "      <th>X160</th>\n",
              "      <th>X161</th>\n",
              "      <th>X162</th>\n",
              "      <th>X163</th>\n",
              "      <th>X164</th>\n",
              "      <th>X165</th>\n",
              "      <th>X166</th>\n",
              "      <th>X167</th>\n",
              "      <th>X168</th>\n",
              "      <th>X169</th>\n",
              "      <th>X170</th>\n",
              "      <th>X171</th>\n",
              "      <th>X172</th>\n",
              "      <th>X173</th>\n",
              "      <th>X174</th>\n",
              "      <th>X175</th>\n",
              "      <th>X176</th>\n",
              "      <th>X177</th>\n",
              "      <th>X178</th>\n",
              "      <th>y</th>\n",
              "    </tr>\n",
              "  </thead>\n",
              "  <tbody>\n",
              "    <tr>\n",
              "      <th>0</th>\n",
              "      <td>X21.V1.791</td>\n",
              "      <td>135</td>\n",
              "      <td>190</td>\n",
              "      <td>229</td>\n",
              "      <td>223</td>\n",
              "      <td>192</td>\n",
              "      <td>125</td>\n",
              "      <td>55</td>\n",
              "      <td>-9</td>\n",
              "      <td>-33</td>\n",
              "      <td>-38</td>\n",
              "      <td>-10</td>\n",
              "      <td>35</td>\n",
              "      <td>64</td>\n",
              "      <td>113</td>\n",
              "      <td>152</td>\n",
              "      <td>164</td>\n",
              "      <td>127</td>\n",
              "      <td>50</td>\n",
              "      <td>-47</td>\n",
              "      <td>-121</td>\n",
              "      <td>-138</td>\n",
              "      <td>-125</td>\n",
              "      <td>-101</td>\n",
              "      <td>-50</td>\n",
              "      <td>11</td>\n",
              "      <td>39</td>\n",
              "      <td>24</td>\n",
              "      <td>48</td>\n",
              "      <td>64</td>\n",
              "      <td>46</td>\n",
              "      <td>13</td>\n",
              "      <td>-19</td>\n",
              "      <td>-61</td>\n",
              "      <td>-96</td>\n",
              "      <td>-130</td>\n",
              "      <td>-132</td>\n",
              "      <td>-116</td>\n",
              "      <td>-115</td>\n",
              "      <td>-71</td>\n",
              "      <td>...</td>\n",
              "      <td>54</td>\n",
              "      <td>90</td>\n",
              "      <td>111</td>\n",
              "      <td>107</td>\n",
              "      <td>64</td>\n",
              "      <td>32</td>\n",
              "      <td>18</td>\n",
              "      <td>-25</td>\n",
              "      <td>-69</td>\n",
              "      <td>-65</td>\n",
              "      <td>-44</td>\n",
              "      <td>-33</td>\n",
              "      <td>-57</td>\n",
              "      <td>-88</td>\n",
              "      <td>-114</td>\n",
              "      <td>-130</td>\n",
              "      <td>-114</td>\n",
              "      <td>-83</td>\n",
              "      <td>-53</td>\n",
              "      <td>-79</td>\n",
              "      <td>-72</td>\n",
              "      <td>-85</td>\n",
              "      <td>-109</td>\n",
              "      <td>-98</td>\n",
              "      <td>-72</td>\n",
              "      <td>-65</td>\n",
              "      <td>-63</td>\n",
              "      <td>-11</td>\n",
              "      <td>10</td>\n",
              "      <td>8</td>\n",
              "      <td>-17</td>\n",
              "      <td>-15</td>\n",
              "      <td>-31</td>\n",
              "      <td>-77</td>\n",
              "      <td>-103</td>\n",
              "      <td>-127</td>\n",
              "      <td>-116</td>\n",
              "      <td>-83</td>\n",
              "      <td>-51</td>\n",
              "      <td>4</td>\n",
              "    </tr>\n",
              "    <tr>\n",
              "      <th>1</th>\n",
              "      <td>X15.V1.924</td>\n",
              "      <td>386</td>\n",
              "      <td>382</td>\n",
              "      <td>356</td>\n",
              "      <td>331</td>\n",
              "      <td>320</td>\n",
              "      <td>315</td>\n",
              "      <td>307</td>\n",
              "      <td>272</td>\n",
              "      <td>244</td>\n",
              "      <td>232</td>\n",
              "      <td>237</td>\n",
              "      <td>258</td>\n",
              "      <td>212</td>\n",
              "      <td>2</td>\n",
              "      <td>-267</td>\n",
              "      <td>-605</td>\n",
              "      <td>-850</td>\n",
              "      <td>-1001</td>\n",
              "      <td>-1109</td>\n",
              "      <td>-1090</td>\n",
              "      <td>-967</td>\n",
              "      <td>-746</td>\n",
              "      <td>-464</td>\n",
              "      <td>-152</td>\n",
              "      <td>118</td>\n",
              "      <td>318</td>\n",
              "      <td>427</td>\n",
              "      <td>473</td>\n",
              "      <td>485</td>\n",
              "      <td>447</td>\n",
              "      <td>397</td>\n",
              "      <td>339</td>\n",
              "      <td>312</td>\n",
              "      <td>314</td>\n",
              "      <td>326</td>\n",
              "      <td>335</td>\n",
              "      <td>332</td>\n",
              "      <td>324</td>\n",
              "      <td>310</td>\n",
              "      <td>...</td>\n",
              "      <td>27</td>\n",
              "      <td>146</td>\n",
              "      <td>229</td>\n",
              "      <td>269</td>\n",
              "      <td>297</td>\n",
              "      <td>307</td>\n",
              "      <td>303</td>\n",
              "      <td>305</td>\n",
              "      <td>306</td>\n",
              "      <td>307</td>\n",
              "      <td>280</td>\n",
              "      <td>231</td>\n",
              "      <td>159</td>\n",
              "      <td>85</td>\n",
              "      <td>51</td>\n",
              "      <td>43</td>\n",
              "      <td>62</td>\n",
              "      <td>63</td>\n",
              "      <td>63</td>\n",
              "      <td>69</td>\n",
              "      <td>89</td>\n",
              "      <td>123</td>\n",
              "      <td>136</td>\n",
              "      <td>127</td>\n",
              "      <td>102</td>\n",
              "      <td>95</td>\n",
              "      <td>105</td>\n",
              "      <td>131</td>\n",
              "      <td>163</td>\n",
              "      <td>168</td>\n",
              "      <td>164</td>\n",
              "      <td>150</td>\n",
              "      <td>146</td>\n",
              "      <td>152</td>\n",
              "      <td>157</td>\n",
              "      <td>156</td>\n",
              "      <td>154</td>\n",
              "      <td>143</td>\n",
              "      <td>129</td>\n",
              "      <td>1</td>\n",
              "    </tr>\n",
              "    <tr>\n",
              "      <th>2</th>\n",
              "      <td>X8.V1.1</td>\n",
              "      <td>-32</td>\n",
              "      <td>-39</td>\n",
              "      <td>-47</td>\n",
              "      <td>-37</td>\n",
              "      <td>-32</td>\n",
              "      <td>-36</td>\n",
              "      <td>-57</td>\n",
              "      <td>-73</td>\n",
              "      <td>-85</td>\n",
              "      <td>-94</td>\n",
              "      <td>-99</td>\n",
              "      <td>-94</td>\n",
              "      <td>-96</td>\n",
              "      <td>-104</td>\n",
              "      <td>-103</td>\n",
              "      <td>-92</td>\n",
              "      <td>-75</td>\n",
              "      <td>-69</td>\n",
              "      <td>-69</td>\n",
              "      <td>-53</td>\n",
              "      <td>-37</td>\n",
              "      <td>-14</td>\n",
              "      <td>-10</td>\n",
              "      <td>-39</td>\n",
              "      <td>-78</td>\n",
              "      <td>-102</td>\n",
              "      <td>-98</td>\n",
              "      <td>-80</td>\n",
              "      <td>-54</td>\n",
              "      <td>-40</td>\n",
              "      <td>-35</td>\n",
              "      <td>-39</td>\n",
              "      <td>-32</td>\n",
              "      <td>-13</td>\n",
              "      <td>7</td>\n",
              "      <td>34</td>\n",
              "      <td>41</td>\n",
              "      <td>33</td>\n",
              "      <td>6</td>\n",
              "      <td>...</td>\n",
              "      <td>-82</td>\n",
              "      <td>-107</td>\n",
              "      <td>-126</td>\n",
              "      <td>-124</td>\n",
              "      <td>-108</td>\n",
              "      <td>-84</td>\n",
              "      <td>-68</td>\n",
              "      <td>-61</td>\n",
              "      <td>-56</td>\n",
              "      <td>-63</td>\n",
              "      <td>-62</td>\n",
              "      <td>-33</td>\n",
              "      <td>1</td>\n",
              "      <td>28</td>\n",
              "      <td>45</td>\n",
              "      <td>37</td>\n",
              "      <td>48</td>\n",
              "      <td>62</td>\n",
              "      <td>80</td>\n",
              "      <td>66</td>\n",
              "      <td>23</td>\n",
              "      <td>-11</td>\n",
              "      <td>-39</td>\n",
              "      <td>-44</td>\n",
              "      <td>-42</td>\n",
              "      <td>-45</td>\n",
              "      <td>-48</td>\n",
              "      <td>-42</td>\n",
              "      <td>-6</td>\n",
              "      <td>29</td>\n",
              "      <td>57</td>\n",
              "      <td>64</td>\n",
              "      <td>48</td>\n",
              "      <td>19</td>\n",
              "      <td>-12</td>\n",
              "      <td>-30</td>\n",
              "      <td>-35</td>\n",
              "      <td>-35</td>\n",
              "      <td>-36</td>\n",
              "      <td>5</td>\n",
              "    </tr>\n",
              "    <tr>\n",
              "      <th>3</th>\n",
              "      <td>X16.V1.60</td>\n",
              "      <td>-105</td>\n",
              "      <td>-101</td>\n",
              "      <td>-96</td>\n",
              "      <td>-92</td>\n",
              "      <td>-89</td>\n",
              "      <td>-95</td>\n",
              "      <td>-102</td>\n",
              "      <td>-100</td>\n",
              "      <td>-87</td>\n",
              "      <td>-79</td>\n",
              "      <td>-72</td>\n",
              "      <td>-68</td>\n",
              "      <td>-74</td>\n",
              "      <td>-80</td>\n",
              "      <td>-83</td>\n",
              "      <td>-73</td>\n",
              "      <td>-68</td>\n",
              "      <td>-61</td>\n",
              "      <td>-58</td>\n",
              "      <td>-59</td>\n",
              "      <td>-64</td>\n",
              "      <td>-79</td>\n",
              "      <td>-84</td>\n",
              "      <td>-97</td>\n",
              "      <td>-94</td>\n",
              "      <td>-84</td>\n",
              "      <td>-77</td>\n",
              "      <td>-75</td>\n",
              "      <td>-72</td>\n",
              "      <td>-68</td>\n",
              "      <td>-76</td>\n",
              "      <td>-76</td>\n",
              "      <td>-72</td>\n",
              "      <td>-67</td>\n",
              "      <td>-69</td>\n",
              "      <td>-69</td>\n",
              "      <td>-69</td>\n",
              "      <td>-67</td>\n",
              "      <td>-68</td>\n",
              "      <td>...</td>\n",
              "      <td>-69</td>\n",
              "      <td>-66</td>\n",
              "      <td>-74</td>\n",
              "      <td>-69</td>\n",
              "      <td>-61</td>\n",
              "      <td>-51</td>\n",
              "      <td>-45</td>\n",
              "      <td>-45</td>\n",
              "      <td>-49</td>\n",
              "      <td>-58</td>\n",
              "      <td>-64</td>\n",
              "      <td>-78</td>\n",
              "      <td>-80</td>\n",
              "      <td>-90</td>\n",
              "      <td>-87</td>\n",
              "      <td>-83</td>\n",
              "      <td>-78</td>\n",
              "      <td>-64</td>\n",
              "      <td>-38</td>\n",
              "      <td>-22</td>\n",
              "      <td>-29</td>\n",
              "      <td>-42</td>\n",
              "      <td>-51</td>\n",
              "      <td>-68</td>\n",
              "      <td>-71</td>\n",
              "      <td>-69</td>\n",
              "      <td>-69</td>\n",
              "      <td>-74</td>\n",
              "      <td>-74</td>\n",
              "      <td>-80</td>\n",
              "      <td>-82</td>\n",
              "      <td>-81</td>\n",
              "      <td>-80</td>\n",
              "      <td>-77</td>\n",
              "      <td>-85</td>\n",
              "      <td>-77</td>\n",
              "      <td>-72</td>\n",
              "      <td>-69</td>\n",
              "      <td>-65</td>\n",
              "      <td>5</td>\n",
              "    </tr>\n",
              "    <tr>\n",
              "      <th>4</th>\n",
              "      <td>X20.V1.54</td>\n",
              "      <td>-9</td>\n",
              "      <td>-65</td>\n",
              "      <td>-98</td>\n",
              "      <td>-102</td>\n",
              "      <td>-78</td>\n",
              "      <td>-48</td>\n",
              "      <td>-16</td>\n",
              "      <td>0</td>\n",
              "      <td>-21</td>\n",
              "      <td>-59</td>\n",
              "      <td>-90</td>\n",
              "      <td>-103</td>\n",
              "      <td>-84</td>\n",
              "      <td>-43</td>\n",
              "      <td>-9</td>\n",
              "      <td>3</td>\n",
              "      <td>-21</td>\n",
              "      <td>-60</td>\n",
              "      <td>-96</td>\n",
              "      <td>-103</td>\n",
              "      <td>-75</td>\n",
              "      <td>-29</td>\n",
              "      <td>14</td>\n",
              "      <td>55</td>\n",
              "      <td>78</td>\n",
              "      <td>73</td>\n",
              "      <td>28</td>\n",
              "      <td>-13</td>\n",
              "      <td>-43</td>\n",
              "      <td>-68</td>\n",
              "      <td>-78</td>\n",
              "      <td>-75</td>\n",
              "      <td>-55</td>\n",
              "      <td>-41</td>\n",
              "      <td>-19</td>\n",
              "      <td>-20</td>\n",
              "      <td>-29</td>\n",
              "      <td>-36</td>\n",
              "      <td>-20</td>\n",
              "      <td>...</td>\n",
              "      <td>38</td>\n",
              "      <td>26</td>\n",
              "      <td>10</td>\n",
              "      <td>-4</td>\n",
              "      <td>-13</td>\n",
              "      <td>-8</td>\n",
              "      <td>0</td>\n",
              "      <td>10</td>\n",
              "      <td>19</td>\n",
              "      <td>29</td>\n",
              "      <td>57</td>\n",
              "      <td>63</td>\n",
              "      <td>45</td>\n",
              "      <td>7</td>\n",
              "      <td>-13</td>\n",
              "      <td>-23</td>\n",
              "      <td>-9</td>\n",
              "      <td>9</td>\n",
              "      <td>11</td>\n",
              "      <td>3</td>\n",
              "      <td>-1</td>\n",
              "      <td>-2</td>\n",
              "      <td>4</td>\n",
              "      <td>18</td>\n",
              "      <td>27</td>\n",
              "      <td>27</td>\n",
              "      <td>14</td>\n",
              "      <td>15</td>\n",
              "      <td>11</td>\n",
              "      <td>10</td>\n",
              "      <td>4</td>\n",
              "      <td>2</td>\n",
              "      <td>-12</td>\n",
              "      <td>-32</td>\n",
              "      <td>-41</td>\n",
              "      <td>-65</td>\n",
              "      <td>-83</td>\n",
              "      <td>-89</td>\n",
              "      <td>-73</td>\n",
              "      <td>5</td>\n",
              "    </tr>\n",
              "  </tbody>\n",
              "</table>\n",
              "<p>5 rows × 180 columns</p>\n",
              "</div>"
            ],
            "text/plain": [
              "   Unnamed: 0   X1   X2   X3   X4   X5  ...  X174  X175  X176  X177  X178  y\n",
              "0  X21.V1.791  135  190  229  223  192  ...  -103  -127  -116   -83   -51  4\n",
              "1  X15.V1.924  386  382  356  331  320  ...   157   156   154   143   129  1\n",
              "2     X8.V1.1  -32  -39  -47  -37  -32  ...   -12   -30   -35   -35   -36  5\n",
              "3   X16.V1.60 -105 -101  -96  -92  -89  ...   -85   -77   -72   -69   -65  5\n",
              "4   X20.V1.54   -9  -65  -98 -102  -78  ...   -41   -65   -83   -89   -73  5\n",
              "\n",
              "[5 rows x 180 columns]"
            ]
          },
          "metadata": {
            "tags": []
          },
          "execution_count": 2
        }
      ]
    },
    {
      "cell_type": "code",
      "metadata": {
        "colab": {
          "base_uri": "https://localhost:8080/"
        },
        "id": "fCsR6nwXNi-u",
        "outputId": "f90f5260-986f-4bac-8caa-7abe0bddc608"
      },
      "source": [
        "df.shape"
      ],
      "execution_count": null,
      "outputs": [
        {
          "output_type": "execute_result",
          "data": {
            "text/plain": [
              "(11500, 180)"
            ]
          },
          "metadata": {
            "tags": []
          },
          "execution_count": 3
        }
      ]
    },
    {
      "cell_type": "markdown",
      "metadata": {
        "id": "mNMesZ-UMt1W"
      },
      "source": [
        "Όπως φαίνεται παραπάνω κάθε entry του dataset είναι αριθμημένο, και έχει 180 στήλες. Η πρώτη, μη οναμασμένη στήλη είναι το μοναδικό id της χρονοσειράς. Οι επόμενες στήλες, με επικεφαλίδες Χ1 έως Χ178 είναι τα 178 δείγματα που λήφθηκαν από τον ασθενή κατά το ένα δευτερόλεπτο EEG και τέλος, η στήλη 180 έχει οναμστεί y και είναι η ετικέτα κλάσης του δείγματος. Επιπλέον, βλέπουμε οτι το dataset περιέχει 11500 δείγματα, όπως περιμέναμε.\n",
        "\n",
        "Για την εισαγωγή αυτών των δεδομένων, δεν χρειάστηκαν μετατροπές στο αρχείο εισόδου. Αφού όμως θα κάνουμε binary classification στην εμφάνιση ή μη επιληπτικού επεισοδίου, ενδιαφερόμαστε για όταν στο δείγμα ανήκει στην κλάση y = 1 ή όχι (y = 2,3,4,5). Για αυτό θα προσθέσουμε κατάλληλη στήλη εξόδου."
      ]
    },
    {
      "cell_type": "code",
      "metadata": {
        "id": "5XzNUlAzCexJ"
      },
      "source": [
        "df[\"out_label\"] = (df['y'] ==  1)\n",
        "df[\"out_label\"] = df[\"out_label\"].astype(int)\n",
        "# df.head()"
      ],
      "execution_count": null,
      "outputs": []
    },
    {
      "cell_type": "markdown",
      "metadata": {
        "id": "m_elE_hUCexS"
      },
      "source": [
        "Πλέον, μπορούμε να αφαιρέσουμε τις στήλες με τα id, και το y."
      ]
    },
    {
      "cell_type": "code",
      "metadata": {
        "colab": {
          "base_uri": "https://localhost:8080/",
          "height": 256
        },
        "id": "mfnPM9IZCexT",
        "outputId": "23e0b9bd-db20-41b9-da58-8d433b523f6a"
      },
      "source": [
        "df.drop(columns = ['Unnamed: 0'], axis=1, inplace = True)\n",
        "df.drop(columns = ['y'], axis=1, inplace = True)\n",
        "# keep column names for use in later training and test dataframes\n",
        "data_column_names = df.columns[:-1]\n",
        "df.head()"
      ],
      "execution_count": null,
      "outputs": [
        {
          "output_type": "execute_result",
          "data": {
            "text/html": [
              "<div>\n",
              "<style scoped>\n",
              "    .dataframe tbody tr th:only-of-type {\n",
              "        vertical-align: middle;\n",
              "    }\n",
              "\n",
              "    .dataframe tbody tr th {\n",
              "        vertical-align: top;\n",
              "    }\n",
              "\n",
              "    .dataframe thead th {\n",
              "        text-align: right;\n",
              "    }\n",
              "</style>\n",
              "<table border=\"1\" class=\"dataframe\">\n",
              "  <thead>\n",
              "    <tr style=\"text-align: right;\">\n",
              "      <th></th>\n",
              "      <th>X1</th>\n",
              "      <th>X2</th>\n",
              "      <th>X3</th>\n",
              "      <th>X4</th>\n",
              "      <th>X5</th>\n",
              "      <th>X6</th>\n",
              "      <th>X7</th>\n",
              "      <th>X8</th>\n",
              "      <th>X9</th>\n",
              "      <th>X10</th>\n",
              "      <th>X11</th>\n",
              "      <th>X12</th>\n",
              "      <th>X13</th>\n",
              "      <th>X14</th>\n",
              "      <th>X15</th>\n",
              "      <th>X16</th>\n",
              "      <th>X17</th>\n",
              "      <th>X18</th>\n",
              "      <th>X19</th>\n",
              "      <th>X20</th>\n",
              "      <th>X21</th>\n",
              "      <th>X22</th>\n",
              "      <th>X23</th>\n",
              "      <th>X24</th>\n",
              "      <th>X25</th>\n",
              "      <th>X26</th>\n",
              "      <th>X27</th>\n",
              "      <th>X28</th>\n",
              "      <th>X29</th>\n",
              "      <th>X30</th>\n",
              "      <th>X31</th>\n",
              "      <th>X32</th>\n",
              "      <th>X33</th>\n",
              "      <th>X34</th>\n",
              "      <th>X35</th>\n",
              "      <th>X36</th>\n",
              "      <th>X37</th>\n",
              "      <th>X38</th>\n",
              "      <th>X39</th>\n",
              "      <th>X40</th>\n",
              "      <th>...</th>\n",
              "      <th>X140</th>\n",
              "      <th>X141</th>\n",
              "      <th>X142</th>\n",
              "      <th>X143</th>\n",
              "      <th>X144</th>\n",
              "      <th>X145</th>\n",
              "      <th>X146</th>\n",
              "      <th>X147</th>\n",
              "      <th>X148</th>\n",
              "      <th>X149</th>\n",
              "      <th>X150</th>\n",
              "      <th>X151</th>\n",
              "      <th>X152</th>\n",
              "      <th>X153</th>\n",
              "      <th>X154</th>\n",
              "      <th>X155</th>\n",
              "      <th>X156</th>\n",
              "      <th>X157</th>\n",
              "      <th>X158</th>\n",
              "      <th>X159</th>\n",
              "      <th>X160</th>\n",
              "      <th>X161</th>\n",
              "      <th>X162</th>\n",
              "      <th>X163</th>\n",
              "      <th>X164</th>\n",
              "      <th>X165</th>\n",
              "      <th>X166</th>\n",
              "      <th>X167</th>\n",
              "      <th>X168</th>\n",
              "      <th>X169</th>\n",
              "      <th>X170</th>\n",
              "      <th>X171</th>\n",
              "      <th>X172</th>\n",
              "      <th>X173</th>\n",
              "      <th>X174</th>\n",
              "      <th>X175</th>\n",
              "      <th>X176</th>\n",
              "      <th>X177</th>\n",
              "      <th>X178</th>\n",
              "      <th>out_label</th>\n",
              "    </tr>\n",
              "  </thead>\n",
              "  <tbody>\n",
              "    <tr>\n",
              "      <th>0</th>\n",
              "      <td>135</td>\n",
              "      <td>190</td>\n",
              "      <td>229</td>\n",
              "      <td>223</td>\n",
              "      <td>192</td>\n",
              "      <td>125</td>\n",
              "      <td>55</td>\n",
              "      <td>-9</td>\n",
              "      <td>-33</td>\n",
              "      <td>-38</td>\n",
              "      <td>-10</td>\n",
              "      <td>35</td>\n",
              "      <td>64</td>\n",
              "      <td>113</td>\n",
              "      <td>152</td>\n",
              "      <td>164</td>\n",
              "      <td>127</td>\n",
              "      <td>50</td>\n",
              "      <td>-47</td>\n",
              "      <td>-121</td>\n",
              "      <td>-138</td>\n",
              "      <td>-125</td>\n",
              "      <td>-101</td>\n",
              "      <td>-50</td>\n",
              "      <td>11</td>\n",
              "      <td>39</td>\n",
              "      <td>24</td>\n",
              "      <td>48</td>\n",
              "      <td>64</td>\n",
              "      <td>46</td>\n",
              "      <td>13</td>\n",
              "      <td>-19</td>\n",
              "      <td>-61</td>\n",
              "      <td>-96</td>\n",
              "      <td>-130</td>\n",
              "      <td>-132</td>\n",
              "      <td>-116</td>\n",
              "      <td>-115</td>\n",
              "      <td>-71</td>\n",
              "      <td>-14</td>\n",
              "      <td>...</td>\n",
              "      <td>54</td>\n",
              "      <td>90</td>\n",
              "      <td>111</td>\n",
              "      <td>107</td>\n",
              "      <td>64</td>\n",
              "      <td>32</td>\n",
              "      <td>18</td>\n",
              "      <td>-25</td>\n",
              "      <td>-69</td>\n",
              "      <td>-65</td>\n",
              "      <td>-44</td>\n",
              "      <td>-33</td>\n",
              "      <td>-57</td>\n",
              "      <td>-88</td>\n",
              "      <td>-114</td>\n",
              "      <td>-130</td>\n",
              "      <td>-114</td>\n",
              "      <td>-83</td>\n",
              "      <td>-53</td>\n",
              "      <td>-79</td>\n",
              "      <td>-72</td>\n",
              "      <td>-85</td>\n",
              "      <td>-109</td>\n",
              "      <td>-98</td>\n",
              "      <td>-72</td>\n",
              "      <td>-65</td>\n",
              "      <td>-63</td>\n",
              "      <td>-11</td>\n",
              "      <td>10</td>\n",
              "      <td>8</td>\n",
              "      <td>-17</td>\n",
              "      <td>-15</td>\n",
              "      <td>-31</td>\n",
              "      <td>-77</td>\n",
              "      <td>-103</td>\n",
              "      <td>-127</td>\n",
              "      <td>-116</td>\n",
              "      <td>-83</td>\n",
              "      <td>-51</td>\n",
              "      <td>0</td>\n",
              "    </tr>\n",
              "    <tr>\n",
              "      <th>1</th>\n",
              "      <td>386</td>\n",
              "      <td>382</td>\n",
              "      <td>356</td>\n",
              "      <td>331</td>\n",
              "      <td>320</td>\n",
              "      <td>315</td>\n",
              "      <td>307</td>\n",
              "      <td>272</td>\n",
              "      <td>244</td>\n",
              "      <td>232</td>\n",
              "      <td>237</td>\n",
              "      <td>258</td>\n",
              "      <td>212</td>\n",
              "      <td>2</td>\n",
              "      <td>-267</td>\n",
              "      <td>-605</td>\n",
              "      <td>-850</td>\n",
              "      <td>-1001</td>\n",
              "      <td>-1109</td>\n",
              "      <td>-1090</td>\n",
              "      <td>-967</td>\n",
              "      <td>-746</td>\n",
              "      <td>-464</td>\n",
              "      <td>-152</td>\n",
              "      <td>118</td>\n",
              "      <td>318</td>\n",
              "      <td>427</td>\n",
              "      <td>473</td>\n",
              "      <td>485</td>\n",
              "      <td>447</td>\n",
              "      <td>397</td>\n",
              "      <td>339</td>\n",
              "      <td>312</td>\n",
              "      <td>314</td>\n",
              "      <td>326</td>\n",
              "      <td>335</td>\n",
              "      <td>332</td>\n",
              "      <td>324</td>\n",
              "      <td>310</td>\n",
              "      <td>312</td>\n",
              "      <td>...</td>\n",
              "      <td>27</td>\n",
              "      <td>146</td>\n",
              "      <td>229</td>\n",
              "      <td>269</td>\n",
              "      <td>297</td>\n",
              "      <td>307</td>\n",
              "      <td>303</td>\n",
              "      <td>305</td>\n",
              "      <td>306</td>\n",
              "      <td>307</td>\n",
              "      <td>280</td>\n",
              "      <td>231</td>\n",
              "      <td>159</td>\n",
              "      <td>85</td>\n",
              "      <td>51</td>\n",
              "      <td>43</td>\n",
              "      <td>62</td>\n",
              "      <td>63</td>\n",
              "      <td>63</td>\n",
              "      <td>69</td>\n",
              "      <td>89</td>\n",
              "      <td>123</td>\n",
              "      <td>136</td>\n",
              "      <td>127</td>\n",
              "      <td>102</td>\n",
              "      <td>95</td>\n",
              "      <td>105</td>\n",
              "      <td>131</td>\n",
              "      <td>163</td>\n",
              "      <td>168</td>\n",
              "      <td>164</td>\n",
              "      <td>150</td>\n",
              "      <td>146</td>\n",
              "      <td>152</td>\n",
              "      <td>157</td>\n",
              "      <td>156</td>\n",
              "      <td>154</td>\n",
              "      <td>143</td>\n",
              "      <td>129</td>\n",
              "      <td>1</td>\n",
              "    </tr>\n",
              "    <tr>\n",
              "      <th>2</th>\n",
              "      <td>-32</td>\n",
              "      <td>-39</td>\n",
              "      <td>-47</td>\n",
              "      <td>-37</td>\n",
              "      <td>-32</td>\n",
              "      <td>-36</td>\n",
              "      <td>-57</td>\n",
              "      <td>-73</td>\n",
              "      <td>-85</td>\n",
              "      <td>-94</td>\n",
              "      <td>-99</td>\n",
              "      <td>-94</td>\n",
              "      <td>-96</td>\n",
              "      <td>-104</td>\n",
              "      <td>-103</td>\n",
              "      <td>-92</td>\n",
              "      <td>-75</td>\n",
              "      <td>-69</td>\n",
              "      <td>-69</td>\n",
              "      <td>-53</td>\n",
              "      <td>-37</td>\n",
              "      <td>-14</td>\n",
              "      <td>-10</td>\n",
              "      <td>-39</td>\n",
              "      <td>-78</td>\n",
              "      <td>-102</td>\n",
              "      <td>-98</td>\n",
              "      <td>-80</td>\n",
              "      <td>-54</td>\n",
              "      <td>-40</td>\n",
              "      <td>-35</td>\n",
              "      <td>-39</td>\n",
              "      <td>-32</td>\n",
              "      <td>-13</td>\n",
              "      <td>7</td>\n",
              "      <td>34</td>\n",
              "      <td>41</td>\n",
              "      <td>33</td>\n",
              "      <td>6</td>\n",
              "      <td>-15</td>\n",
              "      <td>...</td>\n",
              "      <td>-82</td>\n",
              "      <td>-107</td>\n",
              "      <td>-126</td>\n",
              "      <td>-124</td>\n",
              "      <td>-108</td>\n",
              "      <td>-84</td>\n",
              "      <td>-68</td>\n",
              "      <td>-61</td>\n",
              "      <td>-56</td>\n",
              "      <td>-63</td>\n",
              "      <td>-62</td>\n",
              "      <td>-33</td>\n",
              "      <td>1</td>\n",
              "      <td>28</td>\n",
              "      <td>45</td>\n",
              "      <td>37</td>\n",
              "      <td>48</td>\n",
              "      <td>62</td>\n",
              "      <td>80</td>\n",
              "      <td>66</td>\n",
              "      <td>23</td>\n",
              "      <td>-11</td>\n",
              "      <td>-39</td>\n",
              "      <td>-44</td>\n",
              "      <td>-42</td>\n",
              "      <td>-45</td>\n",
              "      <td>-48</td>\n",
              "      <td>-42</td>\n",
              "      <td>-6</td>\n",
              "      <td>29</td>\n",
              "      <td>57</td>\n",
              "      <td>64</td>\n",
              "      <td>48</td>\n",
              "      <td>19</td>\n",
              "      <td>-12</td>\n",
              "      <td>-30</td>\n",
              "      <td>-35</td>\n",
              "      <td>-35</td>\n",
              "      <td>-36</td>\n",
              "      <td>0</td>\n",
              "    </tr>\n",
              "    <tr>\n",
              "      <th>3</th>\n",
              "      <td>-105</td>\n",
              "      <td>-101</td>\n",
              "      <td>-96</td>\n",
              "      <td>-92</td>\n",
              "      <td>-89</td>\n",
              "      <td>-95</td>\n",
              "      <td>-102</td>\n",
              "      <td>-100</td>\n",
              "      <td>-87</td>\n",
              "      <td>-79</td>\n",
              "      <td>-72</td>\n",
              "      <td>-68</td>\n",
              "      <td>-74</td>\n",
              "      <td>-80</td>\n",
              "      <td>-83</td>\n",
              "      <td>-73</td>\n",
              "      <td>-68</td>\n",
              "      <td>-61</td>\n",
              "      <td>-58</td>\n",
              "      <td>-59</td>\n",
              "      <td>-64</td>\n",
              "      <td>-79</td>\n",
              "      <td>-84</td>\n",
              "      <td>-97</td>\n",
              "      <td>-94</td>\n",
              "      <td>-84</td>\n",
              "      <td>-77</td>\n",
              "      <td>-75</td>\n",
              "      <td>-72</td>\n",
              "      <td>-68</td>\n",
              "      <td>-76</td>\n",
              "      <td>-76</td>\n",
              "      <td>-72</td>\n",
              "      <td>-67</td>\n",
              "      <td>-69</td>\n",
              "      <td>-69</td>\n",
              "      <td>-69</td>\n",
              "      <td>-67</td>\n",
              "      <td>-68</td>\n",
              "      <td>-69</td>\n",
              "      <td>...</td>\n",
              "      <td>-69</td>\n",
              "      <td>-66</td>\n",
              "      <td>-74</td>\n",
              "      <td>-69</td>\n",
              "      <td>-61</td>\n",
              "      <td>-51</td>\n",
              "      <td>-45</td>\n",
              "      <td>-45</td>\n",
              "      <td>-49</td>\n",
              "      <td>-58</td>\n",
              "      <td>-64</td>\n",
              "      <td>-78</td>\n",
              "      <td>-80</td>\n",
              "      <td>-90</td>\n",
              "      <td>-87</td>\n",
              "      <td>-83</td>\n",
              "      <td>-78</td>\n",
              "      <td>-64</td>\n",
              "      <td>-38</td>\n",
              "      <td>-22</td>\n",
              "      <td>-29</td>\n",
              "      <td>-42</td>\n",
              "      <td>-51</td>\n",
              "      <td>-68</td>\n",
              "      <td>-71</td>\n",
              "      <td>-69</td>\n",
              "      <td>-69</td>\n",
              "      <td>-74</td>\n",
              "      <td>-74</td>\n",
              "      <td>-80</td>\n",
              "      <td>-82</td>\n",
              "      <td>-81</td>\n",
              "      <td>-80</td>\n",
              "      <td>-77</td>\n",
              "      <td>-85</td>\n",
              "      <td>-77</td>\n",
              "      <td>-72</td>\n",
              "      <td>-69</td>\n",
              "      <td>-65</td>\n",
              "      <td>0</td>\n",
              "    </tr>\n",
              "    <tr>\n",
              "      <th>4</th>\n",
              "      <td>-9</td>\n",
              "      <td>-65</td>\n",
              "      <td>-98</td>\n",
              "      <td>-102</td>\n",
              "      <td>-78</td>\n",
              "      <td>-48</td>\n",
              "      <td>-16</td>\n",
              "      <td>0</td>\n",
              "      <td>-21</td>\n",
              "      <td>-59</td>\n",
              "      <td>-90</td>\n",
              "      <td>-103</td>\n",
              "      <td>-84</td>\n",
              "      <td>-43</td>\n",
              "      <td>-9</td>\n",
              "      <td>3</td>\n",
              "      <td>-21</td>\n",
              "      <td>-60</td>\n",
              "      <td>-96</td>\n",
              "      <td>-103</td>\n",
              "      <td>-75</td>\n",
              "      <td>-29</td>\n",
              "      <td>14</td>\n",
              "      <td>55</td>\n",
              "      <td>78</td>\n",
              "      <td>73</td>\n",
              "      <td>28</td>\n",
              "      <td>-13</td>\n",
              "      <td>-43</td>\n",
              "      <td>-68</td>\n",
              "      <td>-78</td>\n",
              "      <td>-75</td>\n",
              "      <td>-55</td>\n",
              "      <td>-41</td>\n",
              "      <td>-19</td>\n",
              "      <td>-20</td>\n",
              "      <td>-29</td>\n",
              "      <td>-36</td>\n",
              "      <td>-20</td>\n",
              "      <td>1</td>\n",
              "      <td>...</td>\n",
              "      <td>38</td>\n",
              "      <td>26</td>\n",
              "      <td>10</td>\n",
              "      <td>-4</td>\n",
              "      <td>-13</td>\n",
              "      <td>-8</td>\n",
              "      <td>0</td>\n",
              "      <td>10</td>\n",
              "      <td>19</td>\n",
              "      <td>29</td>\n",
              "      <td>57</td>\n",
              "      <td>63</td>\n",
              "      <td>45</td>\n",
              "      <td>7</td>\n",
              "      <td>-13</td>\n",
              "      <td>-23</td>\n",
              "      <td>-9</td>\n",
              "      <td>9</td>\n",
              "      <td>11</td>\n",
              "      <td>3</td>\n",
              "      <td>-1</td>\n",
              "      <td>-2</td>\n",
              "      <td>4</td>\n",
              "      <td>18</td>\n",
              "      <td>27</td>\n",
              "      <td>27</td>\n",
              "      <td>14</td>\n",
              "      <td>15</td>\n",
              "      <td>11</td>\n",
              "      <td>10</td>\n",
              "      <td>4</td>\n",
              "      <td>2</td>\n",
              "      <td>-12</td>\n",
              "      <td>-32</td>\n",
              "      <td>-41</td>\n",
              "      <td>-65</td>\n",
              "      <td>-83</td>\n",
              "      <td>-89</td>\n",
              "      <td>-73</td>\n",
              "      <td>0</td>\n",
              "    </tr>\n",
              "  </tbody>\n",
              "</table>\n",
              "<p>5 rows × 179 columns</p>\n",
              "</div>"
            ],
            "text/plain": [
              "    X1   X2   X3   X4   X5   X6  ...  X174  X175  X176  X177  X178  out_label\n",
              "0  135  190  229  223  192  125  ...  -103  -127  -116   -83   -51          0\n",
              "1  386  382  356  331  320  315  ...   157   156   154   143   129          1\n",
              "2  -32  -39  -47  -37  -32  -36  ...   -12   -30   -35   -35   -36          0\n",
              "3 -105 -101  -96  -92  -89  -95  ...   -85   -77   -72   -69   -65          0\n",
              "4   -9  -65  -98 -102  -78  -48  ...   -41   -65   -83   -89   -73          0\n",
              "\n",
              "[5 rows x 179 columns]"
            ]
          },
          "metadata": {
            "tags": []
          },
          "execution_count": 5
        }
      ]
    },
    {
      "cell_type": "markdown",
      "metadata": {
        "id": "691eZEoYCexm"
      },
      "source": [
        "Στο dataframe που θα χρησημοποιήσουμε λοιπόν θα έχουμε 179 στήλες, οι πρώτες 178 θα αποτελούν τα χαρακτηριστικά του δείγματος και η 179η στήλη, με το όνομα `out_label` την ετικέτα. Όλα όσα προαναφέραμε για το μη-τροποποιημένο dataset ισχύουν.\n",
        "\n",
        "Στην συνέχεια, βρίσκουμε ότι το dataset δεν περιέχει δείγματα με απουσιάζουσες τιμες."
      ]
    },
    {
      "cell_type": "code",
      "metadata": {
        "colab": {
          "base_uri": "https://localhost:8080/"
        },
        "id": "dIQUAqIYCexo",
        "outputId": "f1a61cab-1d3c-411c-f655-f7df31c72326"
      },
      "source": [
        "entries_w_na = 0\n",
        "for index, data in df.iterrows():\n",
        "    entries_w_na += (data.isna().sum() != 0)\n",
        "print(\"Samples with NaN datapoints: \"+str(entries_w_na))"
      ],
      "execution_count": null,
      "outputs": [
        {
          "output_type": "stream",
          "text": [
            "Samples with NaN datapoints: 0\n"
          ],
          "name": "stdout"
        }
      ]
    },
    {
      "cell_type": "markdown",
      "metadata": {
        "id": "q77rt4y3Cexx"
      },
      "source": [
        "Και επιπλέον, υπολογίζουμε ότι 20% των δειγμάτων ανήκουν στην κλάση 1, δηλαδή στα δείγματα που εμφανίζουν επιληπτικό επεισόδιο. Αντιλαμβανόμαστε λοιπόν ότι τo dataset δεν είναι ισορροπημένο."
      ]
    },
    {
      "cell_type": "code",
      "metadata": {
        "colab": {
          "base_uri": "https://localhost:8080/"
        },
        "id": "SGNsI-ATCexz",
        "outputId": "b1db9105-4ac0-4b49-cdfa-ad8a3a45a2d6"
      },
      "source": [
        "def calc_percent_true(array):\n",
        "    return sum(array) / len(array)\n",
        "percent_true = calc_percent_true(df[\"out_label\"].values)\n",
        "print(\"Percentage of class 0 samples: \"+str(1 - percent_true))\n",
        "print(\"Percentage of class 1 samples: \"+str(percent_true))"
      ],
      "execution_count": null,
      "outputs": [
        {
          "output_type": "stream",
          "text": [
            "Percentage of class 0 samples: 0.8\n",
            "Percentage of class 1 samples: 0.2\n"
          ],
          "name": "stdout"
        }
      ]
    },
    {
      "cell_type": "markdown",
      "metadata": {
        "id": "lj5QAuuVCex7"
      },
      "source": [
        "Στην συνέχεια θα χωρίσουμε το δοσμένο dataset σε δεδομένα εκπαίδευσης και δεδομένα αξιολόγησης των μοντέλων.\n",
        "Επιλέγουμε ποσοστό 70% - 30% αντίστοιχα. Θα εφαρμόσουμε την τεχνική random oversampling στα δεδομένα εκπαίδευσης, με στόχο να έχουμε ένα ισορροπημένα δεδομένα εκπαίδευσης, με ίσο αριθμό δειγμάτων και στις 2 κλάσεις."
      ]
    },
    {
      "cell_type": "code",
      "metadata": {
        "id": "PiUpk1UCCex8"
      },
      "source": [
        "(train_df, test_df) = train_test_split(df, test_size=0.3)"
      ],
      "execution_count": null,
      "outputs": []
    },
    {
      "cell_type": "code",
      "metadata": {
        "colab": {
          "base_uri": "https://localhost:8080/"
        },
        "id": "KttUXb16CeyE",
        "outputId": "203d267f-a9e4-4aa4-dc54-f7eb9446abd2"
      },
      "source": [
        "print(\"train_df shape: (\" + str(train_df.shape[0])+\", \"+ str(train_df.shape[1])+\").\")\n",
        "print(\"test_df shape: (\" + str(test_df.shape[0])+\", \"+ str(test_df.shape[1])+\").\")"
      ],
      "execution_count": null,
      "outputs": [
        {
          "output_type": "stream",
          "text": [
            "train_df shape: (8050, 179).\n",
            "test_df shape: (3450, 179).\n"
          ],
          "name": "stdout"
        }
      ]
    },
    {
      "cell_type": "markdown",
      "metadata": {
        "id": "lM6mBc5KCeyL"
      },
      "source": [
        "Για τις ανάγκες oversampling, πρέπει να χωρίσουμε τα χαρακτηριστικά του dataframe από τις αντίστοιχες ταμπέλες."
      ]
    },
    {
      "cell_type": "code",
      "metadata": {
        "id": "hSRIQHiPCeyM"
      },
      "source": [
        "train_labels = train_df.pop('out_label').values\n",
        "train_data = train_df.values\n",
        "test_labels = test_df.pop('out_label').values\n",
        "test_data = test_df.values"
      ],
      "execution_count": null,
      "outputs": []
    },
    {
      "cell_type": "code",
      "metadata": {
        "colab": {
          "base_uri": "https://localhost:8080/"
        },
        "id": "F9UxSSIWCeya",
        "outputId": "7e2a75f9-db10-437c-f89b-d1fe9a89b748"
      },
      "source": [
        "ros = RandomOverSampler(random_state=0)\n",
        "\n",
        "train_data_resampled, train_labels_resampled = ros.fit_sample(train_data,train_labels);\n",
        "percent_true = calc_percent_true(train_labels_resampled)\n",
        "print(\"Percentage of class 0 samples: \"+str(1 - percent_true))\n",
        "print(\"Percentage of class 1 samples: \"+str(percent_true))"
      ],
      "execution_count": null,
      "outputs": [
        {
          "output_type": "stream",
          "text": [
            "Percentage of class 0 samples: 0.5\n",
            "Percentage of class 1 samples: 0.5\n"
          ],
          "name": "stdout"
        }
      ]
    },
    {
      "cell_type": "markdown",
      "metadata": {
        "id": "vQPL5hMtGAtt"
      },
      "source": [
        "## Baseline Classifiers\n",
        "\n",
        "Όπως προαναφέραμε, στο dataset δεν έχουμε απουσιάζουσες τιμές και επανάληψη δειγμάτων. Για την ενότητα αυτή θα εκπαιδεύσουμε τους ταξινομητές μας χρησημοποιώντας τα δεδομένα που δεν έχουν υποβληθεί σε προεπεξεργασία και επιπλέον δεν θα αλλάξουμε τις υπερπαραμέτρους των ταξινομητών."
      ]
    },
    {
      "cell_type": "code",
      "metadata": {
        "colab": {
          "base_uri": "https://localhost:8080/"
        },
        "id": "HuGQXhW-gOP1",
        "outputId": "1319cdd9-d4b6-4971-95ed-142e9de4992c"
      },
      "source": [
        "start = datetime.now() # <-- Start timing from here\n",
        "dummy_clf = DummyClassifier(strategy  = 'stratified', random_state=0)\n",
        "dummy_clf.fit(train_data,train_labels)\n",
        "end = datetime.now() # <-- Stop timing here\n",
        "print('Training Dummy done. Time: '+str(end-start))\n",
        "\n",
        "dummy_predict = dummy_clf.predict(test_data)"
      ],
      "execution_count": null,
      "outputs": [
        {
          "output_type": "stream",
          "text": [
            "Training Dummy done. Time: 0:00:00.001567\n"
          ],
          "name": "stdout"
        }
      ]
    },
    {
      "cell_type": "code",
      "metadata": {
        "colab": {
          "base_uri": "https://localhost:8080/"
        },
        "id": "9rpkFYy5gOP6",
        "outputId": "e429d32e-e84e-4c8e-def4-74755c1f6642"
      },
      "source": [
        "start = datetime.now() # <-- Start timing from here\n",
        "gaussian_clf = GaussianNB()\n",
        "gaussian_clf.fit(train_data, train_labels)\n",
        "end = datetime.now() # <-- Stop timing here\n",
        "print('Training done. Time: '+str(end-start))\n",
        "\n",
        "gaussian_predict = gaussian_clf.predict(test_data)"
      ],
      "execution_count": null,
      "outputs": [
        {
          "output_type": "stream",
          "text": [
            "Training done. Time: 0:00:00.046867\n"
          ],
          "name": "stdout"
        }
      ]
    },
    {
      "cell_type": "code",
      "metadata": {
        "colab": {
          "base_uri": "https://localhost:8080/"
        },
        "id": "yW1UG4WBgOP-",
        "outputId": "08e5b92b-1702-4619-ceb7-d1700549adf4"
      },
      "source": [
        "start = datetime.now() # <-- Start timing from here\n",
        "knn_clf = KNeighborsClassifier(n_jobs=-1)\n",
        "knn_clf.fit(train_data, train_labels)\n",
        "end = datetime.now() # <-- Stop timing here\n",
        "print('Training done. Time: '+str(end-start))\n",
        "\n",
        "knn_predict = knn_clf.predict(test_data)"
      ],
      "execution_count": null,
      "outputs": [
        {
          "output_type": "stream",
          "text": [
            "Training done. Time: 0:00:00.323190\n"
          ],
          "name": "stdout"
        }
      ]
    },
    {
      "cell_type": "code",
      "metadata": {
        "colab": {
          "base_uri": "https://localhost:8080/"
        },
        "id": "9IswLoRvgOQC",
        "outputId": "825103a6-13a6-48eb-a68e-8b34161b9ff7"
      },
      "source": [
        "start = datetime.now() # <-- Start timing from here\n",
        "mlp_clf = MLPClassifier(random_state=0)\n",
        "mlp_clf.fit(train_data, train_labels)\n",
        "end = datetime.now() # <-- Stop timing here\n",
        "print('Training done. Time: '+str(end-start))\n",
        "\n",
        "mlp_predict = mlp_clf.predict(test_data)"
      ],
      "execution_count": null,
      "outputs": [
        {
          "output_type": "stream",
          "text": [
            "Training done. Time: 0:00:14.430830\n"
          ],
          "name": "stdout"
        }
      ]
    },
    {
      "cell_type": "code",
      "metadata": {
        "colab": {
          "base_uri": "https://localhost:8080/"
        },
        "id": "HVkTzp0MgOQF",
        "outputId": "f42a3759-c4e6-441e-977f-6337ff4e0611"
      },
      "source": [
        "start = datetime.now() # <-- Start timing from here\n",
        "svm_clf = SVC()\n",
        "svm_clf.fit(train_data, train_labels)\n",
        "end = datetime.now() # <-- Stop timing here\n",
        "print('Training done. Time: '+str(end-start))\n",
        "\n",
        "svm_predict = svm_clf.predict(test_data)"
      ],
      "execution_count": null,
      "outputs": [
        {
          "output_type": "stream",
          "text": [
            "Training done. Time: 0:00:08.328335\n"
          ],
          "name": "stdout"
        }
      ]
    },
    {
      "cell_type": "markdown",
      "metadata": {
        "id": "LavxrGRQgOQI"
      },
      "source": [
        "Σημειώνουμε ότι σύμφωνα με το documentation, η ρουτίνα classification report παραλείπει το f1 micro score στην εμφάνιση των αποτελεσμάτων επειδή για προβλήματα δυαδικής ταξινόμησης (όπως αυτό) ταυτίζεται με το accuracy του ταξινομητή.\n",
        "\n",
        "### Dummy Classifier"
      ]
    },
    {
      "cell_type": "code",
      "metadata": {
        "id": "IwHxjOrNgOQJ"
      },
      "source": [
        "classifiers = ['Dummy','GNB', 'KNN','MLP','SVM']\n",
        "f1_scores_micro = np.zeros(5)\n",
        "f1_scores_macro = np.zeros(5)"
      ],
      "execution_count": null,
      "outputs": []
    },
    {
      "cell_type": "code",
      "metadata": {
        "colab": {
          "base_uri": "https://localhost:8080/",
          "height": 507
        },
        "id": "W1T-BG0YgOQM",
        "outputId": "0255a5c3-b3db-455a-debf-1ec89167e7a9"
      },
      "source": [
        "f1_scores_micro[0] = f1_score(test_labels, dummy_predict, average='micro', zero_division=0)\n",
        "f1_scores_macro[0] = f1_score(test_labels, dummy_predict, average='macro', zero_division=0)\n",
        "\n",
        "# print a pretty confusion matrix version\n",
        "class_labels = [\"No Seizure\", \"Seizure\"]\n",
        "print(\"Classification report for Dummy Classifier.\\n\")\n",
        "print(classification_report(test_labels, dummy_predict,\n",
        "                            target_names=class_labels, zero_division=0))\n",
        "disp = plot_confusion_matrix(dummy_clf, test_data, test_labels,\n",
        "                             display_labels=class_labels,\n",
        "                             cmap=plt.cm.Blues, normalize='true')\n",
        "print(disp.confusion_matrix)"
      ],
      "execution_count": null,
      "outputs": [
        {
          "output_type": "stream",
          "text": [
            "Classification report for Dummy Classifier.\n",
            "\n",
            "              precision    recall  f1-score   support\n",
            "\n",
            "  No Seizure       0.79      0.50      0.61      2763\n",
            "     Seizure       0.19      0.48      0.28       687\n",
            "\n",
            "    accuracy                           0.49      3450\n",
            "   macro avg       0.49      0.49      0.44      3450\n",
            "weighted avg       0.67      0.49      0.54      3450\n",
            "\n",
            "[[0.49583786 0.50416214]\n",
            " [0.51528384 0.48471616]]\n"
          ],
          "name": "stdout"
        },
        {
          "output_type": "display_data",
          "data": {
            "image/png": "[encoded data removed]",
            "text/plain": [
              "<Figure size 432x288 with 2 Axes>"
            ]
          },
          "metadata": {
            "tags": [],
            "needs_background": "light"
          }
        }
      ]
    },
    {
      "cell_type": "markdown",
      "metadata": {
        "id": "Z2rkyviQgOQQ"
      },
      "source": [
        "### Gaussian Naive Bayesian Classifier"
      ]
    },
    {
      "cell_type": "code",
      "metadata": {
        "colab": {
          "base_uri": "https://localhost:8080/",
          "height": 505
        },
        "id": "5nv5mmkXgOQR",
        "outputId": "3ba7e76b-ccaf-4b38-df28-4b48bd05ca58"
      },
      "source": [
        "f1_scores_micro[1] = f1_score(test_labels, gaussian_predict, average='micro', zero_division=0)\n",
        "f1_scores_macro[1] = f1_score(test_labels, gaussian_predict, average='macro', zero_division=0)\n",
        "\n",
        "print(\"Classification report for Gaussian Naive Bayesian Classifier.\\n\")\n",
        "print(classification_report(test_labels, gaussian_predict,\n",
        "                            target_names=class_labels, zero_division=0))\n",
        "disp = plot_confusion_matrix(gaussian_clf, test_data, test_labels,\n",
        "                             display_labels=class_labels,\n",
        "                             cmap=plt.cm.Blues, normalize='true')\n",
        "print(disp.confusion_matrix)"
      ],
      "execution_count": null,
      "outputs": [
        {
          "output_type": "stream",
          "text": [
            "Classification report for Gaussian Naive Bayesian Classifier.\n",
            "\n",
            "              precision    recall  f1-score   support\n",
            "\n",
            "  No Seizure       0.97      0.97      0.97      2763\n",
            "     Seizure       0.87      0.90      0.88       687\n",
            "\n",
            "    accuracy                           0.95      3450\n",
            "   macro avg       0.92      0.93      0.93      3450\n",
            "weighted avg       0.95      0.95      0.95      3450\n",
            "\n",
            "[[0.96742671 0.03257329]\n",
            " [0.10334789 0.89665211]]\n"
          ],
          "name": "stdout"
        },
        {
          "output_type": "display_data",
          "data": {
            "image/png": "[encoded data removed]",
            "text/plain": [
              "<Figure size 432x288 with 2 Axes>"
            ]
          },
          "metadata": {
            "tags": [],
            "needs_background": "light"
          }
        }
      ]
    },
    {
      "cell_type": "markdown",
      "metadata": {
        "id": "VxRBeabmgOQV"
      },
      "source": [
        "### KNN Classsifier"
      ]
    },
    {
      "cell_type": "code",
      "metadata": {
        "colab": {
          "base_uri": "https://localhost:8080/",
          "height": 505
        },
        "id": "2dbvQvfDgOQX",
        "outputId": "3c335e01-2de7-4138-b5c6-e45687f7b198"
      },
      "source": [
        "f1_scores_micro[2] = f1_score(test_labels, knn_predict, average='micro', zero_division=0)\n",
        "f1_scores_macro[2] = f1_score(test_labels, knn_predict, average='macro', zero_division=0)\n",
        "\n",
        "print(\"Classification report for KNN Classifier.\\n\")\n",
        "print(classification_report(test_labels, knn_predict,\n",
        "                            target_names=class_labels, zero_division=0))\n",
        "disp = plot_confusion_matrix(knn_clf, test_data, test_labels,\n",
        "                             display_labels=class_labels,\n",
        "                             cmap=plt.cm.Blues, normalize='true')\n",
        "print(disp.confusion_matrix)"
      ],
      "execution_count": null,
      "outputs": [
        {
          "output_type": "stream",
          "text": [
            "Classification report for KNN Classifier.\n",
            "\n",
            "              precision    recall  f1-score   support\n",
            "\n",
            "  No Seizure       0.95      0.99      0.97      2763\n",
            "     Seizure       0.96      0.79      0.86       687\n",
            "\n",
            "    accuracy                           0.95      3450\n",
            "   macro avg       0.95      0.89      0.92      3450\n",
            "weighted avg       0.95      0.95      0.95      3450\n",
            "\n",
            "[[0.99203764 0.00796236]\n",
            " [0.2139738  0.7860262 ]]\n"
          ],
          "name": "stdout"
        },
        {
          "output_type": "display_data",
          "data": {
            "image/png": "[encoded data removed]",
            "text/plain": [
              "<Figure size 432x288 with 2 Axes>"
            ]
          },
          "metadata": {
            "tags": [],
            "needs_background": "light"
          }
        }
      ]
    },
    {
      "cell_type": "markdown",
      "metadata": {
        "id": "0iJNereJgOQa"
      },
      "source": [
        "### Multi-layer Perceptron Classifier"
      ]
    },
    {
      "cell_type": "code",
      "metadata": {
        "colab": {
          "base_uri": "https://localhost:8080/",
          "height": 508
        },
        "id": "Sam3eZ6ngOQa",
        "outputId": "c6733e94-5f00-4dfa-b5e8-ee2b12ad73f7"
      },
      "source": [
        "f1_scores_micro[3] = f1_score(test_labels, mlp_predict, average='micro', zero_division=0)\n",
        "f1_scores_macro[3] = f1_score(test_labels, mlp_predict, average='macro', zero_division=0)\n",
        "\n",
        "print(\"Classification report for MLP Classifier.\\n\")\n",
        "print(classification_report(test_labels, mlp_predict,\n",
        "                            target_names=class_labels, zero_division=0))\n",
        "disp = plot_confusion_matrix(mlp_clf, test_data, test_labels,\n",
        "                             display_labels=class_labels,\n",
        "                             cmap=plt.cm.Blues, normalize='true')\n",
        "print(disp.confusion_matrix)"
      ],
      "execution_count": null,
      "outputs": [
        {
          "output_type": "stream",
          "text": [
            "Classification report for MLP Classifier.\n",
            "\n",
            "              precision    recall  f1-score   support\n",
            "\n",
            "  No Seizure       0.94      0.90      0.92      2763\n",
            "     Seizure       0.67      0.77      0.72       687\n",
            "\n",
            "    accuracy                           0.88      3450\n",
            "   macro avg       0.80      0.84      0.82      3450\n",
            "weighted avg       0.89      0.88      0.88      3450\n",
            "\n",
            "[[0.90481361 0.09518639]\n",
            " [0.22998544 0.77001456]]\n"
          ],
          "name": "stdout"
        },
        {
          "output_type": "display_data",
          "data": {
            "image/png": "[encoded data removed]",
            "text/plain": [
              "<Figure size 432x288 with 2 Axes>"
            ]
          },
          "metadata": {
            "tags": [],
            "needs_background": "light"
          }
        }
      ]
    },
    {
      "cell_type": "markdown",
      "metadata": {
        "id": "wrZmHR4cgOQe"
      },
      "source": [
        "### Support Vector Classifier"
      ]
    },
    {
      "cell_type": "code",
      "metadata": {
        "colab": {
          "base_uri": "https://localhost:8080/",
          "height": 505
        },
        "id": "_JLBRYKJgOQf",
        "outputId": "cda00365-baaf-4117-fc24-8b69f9dc4394"
      },
      "source": [
        "f1_scores_micro[4] = f1_score(test_labels, svm_predict, average='micro', zero_division=0)\n",
        "f1_scores_macro[4] = f1_score(test_labels, svm_predict, average='macro', zero_division=0)\n",
        "\n",
        "print(\"Classification report for SVM Classifier.\\n\")\n",
        "print(classification_report(test_labels, svm_predict,\n",
        "                            target_names=class_labels, zero_division=0))\n",
        "disp = plot_confusion_matrix(svm_clf, test_data, test_labels,\n",
        "                             display_labels=class_labels,\n",
        "                             cmap=plt.cm.Blues, normalize='true')\n",
        "print(disp.confusion_matrix)"
      ],
      "execution_count": null,
      "outputs": [
        {
          "output_type": "stream",
          "text": [
            "Classification report for SVM Classifier.\n",
            "\n",
            "              precision    recall  f1-score   support\n",
            "\n",
            "  No Seizure       0.99      0.98      0.98      2763\n",
            "     Seizure       0.91      0.94      0.92       687\n",
            "\n",
            "    accuracy                           0.97      3450\n",
            "   macro avg       0.95      0.96      0.95      3450\n",
            "weighted avg       0.97      0.97      0.97      3450\n",
            "\n",
            "[[0.97538907 0.02461093]\n",
            " [0.05531295 0.94468705]]\n"
          ],
          "name": "stdout"
        },
        {
          "output_type": "display_data",
          "data": {
            "image/png": "[encoded data removed]",
            "text/plain": [
              "<Figure size 432x288 with 2 Axes>"
            ]
          },
          "metadata": {
            "tags": [],
            "needs_background": "light"
          }
        }
      ]
    },
    {
      "cell_type": "markdown",
      "metadata": {
        "id": "7WRfDUEbgOQj"
      },
      "source": [
        "## Σύγκριση των Baseline Classifiers\n",
        "\n",
        "Στην συνέχεια θα παρουσιάσουμε την αποδοτικότητα των παραπάνω ταξινομητών με χρήση των f1 micro average και f1 macro average ως μετρικών απόδοσης."
      ]
    },
    {
      "cell_type": "code",
      "metadata": {
        "colab": {
          "base_uri": "https://localhost:8080/",
          "height": 542
        },
        "id": "qgVnfqX3gOQj",
        "outputId": "204755c6-cf25-4c3b-bd4b-22cff2487b43"
      },
      "source": [
        "fig = go.Figure([\n",
        "    go.Bar(name='Macro',x=classifiers, y=f1_scores_macro,\n",
        "          text=f1_scores_macro),\n",
        "    go.Bar(name='Micro',x=classifiers, y=f1_scores_micro,\n",
        "          text=f1_scores_micro)\n",
        "])\n",
        "fig.update_traces(texttemplate='%{text:.3p}',\n",
        "                  textposition='outside')\n",
        "fig.update_layout(\n",
        "    title_text='F1 Average Scores',\n",
        "    xaxis_title='Classifier',\n",
        "    legend_title='Averaging Strategy'\n",
        ")\n",
        "fig.show()"
      ],
      "execution_count": null,
      "outputs": [
        {
          "output_type": "display_data",
          "data": {
            "text/html": [
              "<html>\n",
              "<head><meta charset=\"utf-8\" /></head>\n",
              "<body>\n",
              "    <div>            <script src=\"https://cdnjs.cloudflare.com/ajax/libs/mathjax/2.7.5/MathJax.js?config=TeX-AMS-MML_SVG\"></script><script type=\"text/javascript\">if (window.MathJax) {MathJax.Hub.Config({SVG: {font: \"STIX-Web\"}});}</script>                <script type=\"text/javascript\">window.PlotlyConfig = {MathJaxConfig: 'local'};</script>\n",
              "        <script src=\"https://cdn.plot.ly/plotly-latest.min.js\"></script>                <div id=\"dcc501c0-5098-4761-92e9-c797d58b18ef\" class=\"plotly-graph-div\" style=\"height:525px; width:100%;\"></div>            <script type=\"text/javascript\">                                    window.PLOTLYENV=window.PLOTLYENV || {};                                    if (document.getElementById(\"dcc501c0-5098-4761-92e9-c797d58b18ef\")) {                    Plotly.newPlot(                        \"dcc501c0-5098-4761-92e9-c797d58b18ef\",                        [{\"name\": \"Macro\", \"text\": [0.4897751237570437, 0.9313444453845503, 0.8627496820157625, 0.7953922842526617, 0.9464790589622367], \"textposition\": \"outside\", \"texttemplate\": \"%{text:.3p}\", \"type\": \"bar\", \"x\": [\"Dummy\", \"GNB\", \"KNN\", \"MLP\", \"SVM\"], \"y\": [0.4897751237570437, 0.9313444453845503, 0.8627496820157625, 0.7953922842526617, 0.9464790589622367]}, {\"name\": \"Micro\", \"text\": [0.668695652173913, 0.957391304347826, 0.9272463768115942, 0.8686956521739131, 0.967536231884058], \"textposition\": \"outside\", \"texttemplate\": \"%{text:.3p}\", \"type\": \"bar\", \"x\": [\"Dummy\", \"GNB\", \"KNN\", \"MLP\", \"SVM\"], \"y\": [0.668695652173913, 0.957391304347826, 0.9272463768115942, 0.8686956521739131, 0.967536231884058]}],                        {\"legend\": {\"title\": {\"text\": \"Averaging Strategy\"}}, \"template\": {\"data\": {\"bar\": [{\"error_x\": {\"color\": \"#2a3f5f\"}, \"error_y\": {\"color\": \"#2a3f5f\"}, \"marker\": {\"line\": {\"color\": \"#E5ECF6\", \"width\": 0.5}}, \"type\": \"bar\"}], \"barpolar\": [{\"marker\": {\"line\": {\"color\": \"#E5ECF6\", \"width\": 0.5}}, \"type\": \"barpolar\"}], \"carpet\": [{\"aaxis\": {\"endlinecolor\": \"#2a3f5f\", \"gridcolor\": \"white\", \"linecolor\": \"white\", \"minorgridcolor\": \"white\", \"startlinecolor\": \"#2a3f5f\"}, \"baxis\": {\"endlinecolor\": \"#2a3f5f\", \"gridcolor\": \"white\", \"linecolor\": \"white\", \"minorgridcolor\": \"white\", \"startlinecolor\": \"#2a3f5f\"}, \"type\": \"carpet\"}], \"choropleth\": [{\"colorbar\": {\"outlinewidth\": 0, \"ticks\": \"\"}, \"type\": \"choropleth\"}], \"contour\": [{\"colorbar\": {\"outlinewidth\": 0, \"ticks\": \"\"}, \"colorscale\": [[0.0, \"#0d0887\"], [0.1111111111111111, \"#46039f\"], [0.2222222222222222, \"#7201a8\"], [0.3333333333333333, \"#9c179e\"], [0.4444444444444444, \"#bd3786\"], [0.5555555555555556, \"#d8576b\"], [0.6666666666666666, \"#ed7953\"], [0.7777777777777778, \"#fb9f3a\"], [0.8888888888888888, \"#fdca26\"], [1.0, \"#f0f921\"]], \"type\": \"contour\"}], \"contourcarpet\": [{\"colorbar\": {\"outlinewidth\": 0, \"ticks\": \"\"}, \"type\": \"contourcarpet\"}], \"heatmap\": [{\"colorbar\": {\"outlinewidth\": 0, \"ticks\": \"\"}, \"colorscale\": [[0.0, \"#0d0887\"], [0.1111111111111111, \"#46039f\"], [0.2222222222222222, \"#7201a8\"], [0.3333333333333333, \"#9c179e\"], [0.4444444444444444, \"#bd3786\"], [0.5555555555555556, \"#d8576b\"], [0.6666666666666666, \"#ed7953\"], [0.7777777777777778, \"#fb9f3a\"], [0.8888888888888888, \"#fdca26\"], [1.0, \"#f0f921\"]], \"type\": \"heatmap\"}], \"heatmapgl\": [{\"colorbar\": {\"outlinewidth\": 0, \"ticks\": \"\"}, \"colorscale\": [[0.0, \"#0d0887\"], [0.1111111111111111, \"#46039f\"], [0.2222222222222222, \"#7201a8\"], [0.3333333333333333, \"#9c179e\"], [0.4444444444444444, \"#bd3786\"], [0.5555555555555556, \"#d8576b\"], [0.6666666666666666, \"#ed7953\"], [0.7777777777777778, \"#fb9f3a\"], [0.8888888888888888, \"#fdca26\"], [1.0, \"#f0f921\"]], \"type\": \"heatmapgl\"}], \"histogram\": [{\"marker\": {\"colorbar\": {\"outlinewidth\": 0, \"ticks\": \"\"}}, \"type\": \"histogram\"}], \"histogram2d\": [{\"colorbar\": {\"outlinewidth\": 0, \"ticks\": \"\"}, \"colorscale\": [[0.0, \"#0d0887\"], [0.1111111111111111, \"#46039f\"], [0.2222222222222222, \"#7201a8\"], [0.3333333333333333, \"#9c179e\"], [0.4444444444444444, \"#bd3786\"], [0.5555555555555556, \"#d8576b\"], [0.6666666666666666, \"#ed7953\"], [0.7777777777777778, \"#fb9f3a\"], [0.8888888888888888, \"#fdca26\"], [1.0, \"#f0f921\"]], \"type\": \"histogram2d\"}], \"histogram2dcontour\": [{\"colorbar\": {\"outlinewidth\": 0, \"ticks\": \"\"}, \"colorscale\": [[0.0, \"#0d0887\"], [0.1111111111111111, \"#46039f\"], [0.2222222222222222, \"#7201a8\"], [0.3333333333333333, \"#9c179e\"], [0.4444444444444444, \"#bd3786\"], [0.5555555555555556, \"#d8576b\"], [0.6666666666666666, \"#ed7953\"], [0.7777777777777778, \"#fb9f3a\"], [0.8888888888888888, \"#fdca26\"], [1.0, \"#f0f921\"]], \"type\": \"histogram2dcontour\"}], \"mesh3d\": [{\"colorbar\": {\"outlinewidth\": 0, \"ticks\": \"\"}, \"type\": \"mesh3d\"}], \"parcoords\": [{\"line\": {\"colorbar\": {\"outlinewidth\": 0, \"ticks\": \"\"}}, \"type\": \"parcoords\"}], \"pie\": [{\"automargin\": true, \"type\": \"pie\"}], \"scatter\": [{\"marker\": {\"colorbar\": {\"outlinewidth\": 0, \"ticks\": \"\"}}, \"type\": \"scatter\"}], \"scatter3d\": [{\"line\": {\"colorbar\": {\"outlinewidth\": 0, \"ticks\": \"\"}}, \"marker\": {\"colorbar\": {\"outlinewidth\": 0, \"ticks\": \"\"}}, \"type\": \"scatter3d\"}], \"scattercarpet\": [{\"marker\": {\"colorbar\": {\"outlinewidth\": 0, \"ticks\": \"\"}}, \"type\": \"scattercarpet\"}], \"scattergeo\": [{\"marker\": {\"colorbar\": {\"outlinewidth\": 0, \"ticks\": \"\"}}, \"type\": \"scattergeo\"}], \"scattergl\": [{\"marker\": {\"colorbar\": {\"outlinewidth\": 0, \"ticks\": \"\"}}, \"type\": \"scattergl\"}], \"scattermapbox\": [{\"marker\": {\"colorbar\": {\"outlinewidth\": 0, \"ticks\": \"\"}}, \"type\": \"scattermapbox\"}], \"scatterpolar\": [{\"marker\": {\"colorbar\": {\"outlinewidth\": 0, \"ticks\": \"\"}}, \"type\": \"scatterpolar\"}], \"scatterpolargl\": [{\"marker\": {\"colorbar\": {\"outlinewidth\": 0, \"ticks\": \"\"}}, \"type\": \"scatterpolargl\"}], \"scatterternary\": [{\"marker\": {\"colorbar\": {\"outlinewidth\": 0, \"ticks\": \"\"}}, \"type\": \"scatterternary\"}], \"surface\": [{\"colorbar\": {\"outlinewidth\": 0, \"ticks\": \"\"}, \"colorscale\": [[0.0, \"#0d0887\"], [0.1111111111111111, \"#46039f\"], [0.2222222222222222, \"#7201a8\"], [0.3333333333333333, \"#9c179e\"], [0.4444444444444444, \"#bd3786\"], [0.5555555555555556, \"#d8576b\"], [0.6666666666666666, \"#ed7953\"], [0.7777777777777778, \"#fb9f3a\"], [0.8888888888888888, \"#fdca26\"], [1.0, \"#f0f921\"]], \"type\": \"surface\"}], \"table\": [{\"cells\": {\"fill\": {\"color\": \"#EBF0F8\"}, \"line\": {\"color\": \"white\"}}, \"header\": {\"fill\": {\"color\": \"#C8D4E3\"}, \"line\": {\"color\": \"white\"}}, \"type\": \"table\"}]}, \"layout\": {\"annotationdefaults\": {\"arrowcolor\": \"#2a3f5f\", \"arrowhead\": 0, \"arrowwidth\": 1}, \"coloraxis\": {\"colorbar\": {\"outlinewidth\": 0, \"ticks\": \"\"}}, \"colorscale\": {\"diverging\": [[0, \"#8e0152\"], [0.1, \"#c51b7d\"], [0.2, \"#de77ae\"], [0.3, \"#f1b6da\"], [0.4, \"#fde0ef\"], [0.5, \"#f7f7f7\"], [0.6, \"#e6f5d0\"], [0.7, \"#b8e186\"], [0.8, \"#7fbc41\"], [0.9, \"#4d9221\"], [1, \"#276419\"]], \"sequential\": [[0.0, \"#0d0887\"], [0.1111111111111111, \"#46039f\"], [0.2222222222222222, \"#7201a8\"], [0.3333333333333333, \"#9c179e\"], [0.4444444444444444, \"#bd3786\"], [0.5555555555555556, \"#d8576b\"], [0.6666666666666666, \"#ed7953\"], [0.7777777777777778, \"#fb9f3a\"], [0.8888888888888888, \"#fdca26\"], [1.0, \"#f0f921\"]], \"sequentialminus\": [[0.0, \"#0d0887\"], [0.1111111111111111, \"#46039f\"], [0.2222222222222222, \"#7201a8\"], [0.3333333333333333, \"#9c179e\"], [0.4444444444444444, \"#bd3786\"], [0.5555555555555556, \"#d8576b\"], [0.6666666666666666, \"#ed7953\"], [0.7777777777777778, \"#fb9f3a\"], [0.8888888888888888, \"#fdca26\"], [1.0, \"#f0f921\"]]}, \"colorway\": [\"#636efa\", \"#EF553B\", \"#00cc96\", \"#ab63fa\", \"#FFA15A\", \"#19d3f3\", \"#FF6692\", \"#B6E880\", \"#FF97FF\", \"#FECB52\"], \"font\": {\"color\": \"#2a3f5f\"}, \"geo\": {\"bgcolor\": \"white\", \"lakecolor\": \"white\", \"landcolor\": \"#E5ECF6\", \"showlakes\": true, \"showland\": true, \"subunitcolor\": \"white\"}, \"hoverlabel\": {\"align\": \"left\"}, \"hovermode\": \"closest\", \"mapbox\": {\"style\": \"light\"}, \"paper_bgcolor\": \"white\", \"plot_bgcolor\": \"#E5ECF6\", \"polar\": {\"angularaxis\": {\"gridcolor\": \"white\", \"linecolor\": \"white\", \"ticks\": \"\"}, \"bgcolor\": \"#E5ECF6\", \"radialaxis\": {\"gridcolor\": \"white\", \"linecolor\": \"white\", \"ticks\": \"\"}}, \"scene\": {\"xaxis\": {\"backgroundcolor\": \"#E5ECF6\", \"gridcolor\": \"white\", \"gridwidth\": 2, \"linecolor\": \"white\", \"showbackground\": true, \"ticks\": \"\", \"zerolinecolor\": \"white\"}, \"yaxis\": {\"backgroundcolor\": \"#E5ECF6\", \"gridcolor\": \"white\", \"gridwidth\": 2, \"linecolor\": \"white\", \"showbackground\": true, \"ticks\": \"\", \"zerolinecolor\": \"white\"}, \"zaxis\": {\"backgroundcolor\": \"#E5ECF6\", \"gridcolor\": \"white\", \"gridwidth\": 2, \"linecolor\": \"white\", \"showbackground\": true, \"ticks\": \"\", \"zerolinecolor\": \"white\"}}, \"shapedefaults\": {\"line\": {\"color\": \"#2a3f5f\"}}, \"ternary\": {\"aaxis\": {\"gridcolor\": \"white\", \"linecolor\": \"white\", \"ticks\": \"\"}, \"baxis\": {\"gridcolor\": \"white\", \"linecolor\": \"white\", \"ticks\": \"\"}, \"bgcolor\": \"#E5ECF6\", \"caxis\": {\"gridcolor\": \"white\", \"linecolor\": \"white\", \"ticks\": \"\"}}, \"title\": {\"x\": 0.05}, \"xaxis\": {\"automargin\": true, \"gridcolor\": \"white\", \"linecolor\": \"white\", \"ticks\": \"\", \"title\": {\"standoff\": 15}, \"zerolinecolor\": \"white\", \"zerolinewidth\": 2}, \"yaxis\": {\"automargin\": true, \"gridcolor\": \"white\", \"linecolor\": \"white\", \"ticks\": \"\", \"title\": {\"standoff\": 15}, \"zerolinecolor\": \"white\", \"zerolinewidth\": 2}}}, \"title\": {\"text\": \"F1 Average Scores\"}, \"xaxis\": {\"title\": {\"text\": \"Classifier\"}}},                        {\"responsive\": true}                    ).then(function(){\n",
              "                            \n",
              "var gd = document.getElementById('dcc501c0-5098-4761-92e9-c797d58b18ef');\n",
              "var x = new MutationObserver(function (mutations, observer) {{\n",
              "        var display = window.getComputedStyle(gd).display;\n",
              "        if (!display || display === 'none') {{\n",
              "            console.log([gd, 'removed!']);\n",
              "            Plotly.purge(gd);\n",
              "            observer.disconnect();\n",
              "        }}\n",
              "}});\n",
              "\n",
              "// Listen for the removal of the full notebook cells\n",
              "var notebookContainer = gd.closest('#notebook-container');\n",
              "if (notebookContainer) {{\n",
              "    x.observe(notebookContainer, {childList: true});\n",
              "}}\n",
              "\n",
              "// Listen for the clearing of the current output cell\n",
              "var outputEl = gd.closest('.output');\n",
              "if (outputEl) {{\n",
              "    x.observe(outputEl, {childList: true});\n",
              "}}\n",
              "\n",
              "                        })                };                            </script>        </div>\n",
              "</body>\n",
              "</html>"
            ]
          },
          "metadata": {
            "tags": []
          }
        }
      ]
    },
    {
      "cell_type": "markdown",
      "metadata": {
        "id": "SBFRB8MhgOQo"
      },
      "source": [
        "Εξετάζοντας πρώτα την απόδοση του κάθε ταξινομητή ξεχωριστά με χρήση των confusion matrices σημειώνουμε οτι όλοι έχουν καλύτερη επιτυχία να προβλέπουν τα true negatives παρά τα true positives. Μια πιθανή αιτία για αυτό είναι οτι οι baseline ταξινομητές εκπαιδεύτηκαν με δεδομένα που δεν είχαν γίνει oversampled και άρα εκπαιδεύτηκαν ταυτόχρονα και στην μικρότερη πιθανότητα ένα δείγμα να είναι θετικό.\n",
        "\n",
        "Στο παραπάνω διάγραμμα παρατηρούμε ότι και οι δύο μετρικές έχουν την ίδια μορφή για όλους τους ταξινομητές: το macro average είναι χαμηλότερο από το micro, και γενικά οι ταξινομητές έχουν μια καλή πιθανότητα πρόβλεψης. Αυτό μας προϊδεάζει για την βελτίωση της απόδοσης τους με την ενσωμάτωση της προεπεξεργασίας και βελτιστοποίησης υπερπαραμέτρων. Επίσης, την καλύτερη αρχική απόδοση είχαν οι ταξινομητές GNB και SVM."
      ]
    },
    {
      "cell_type": "markdown",
      "metadata": {
        "id": "sxOXzU00gOQp"
      },
      "source": [
        "## Βελτιστοποίηση Ταξινομητών\n",
        "\n",
        "Στην ενότητα αυτή θα προσπαθήσουμε να βελτιώσουμε την απόδοση των προηγούμενων ταξινομητών 1) μέσω της χρήσης προεπεξεργασμένων δεδομένων εκπαίδευσης και 2) την επιλογή κατάλληλων υπερπαραμέτρων για τους ταξινομητές. Για να βρεθεί ο βέλτιστος συνδυασμός υπερπαραμέτρων θα θεωρήσουμε pipelines προεπεξεργασίας - ταξινόμησης, και θα τα συγκρίνουμε με της μέθοδο (5 fold) cross validation."
      ]
    },
    {
      "cell_type": "markdown",
      "metadata": {
        "id": "YliKCJy_ZJuL"
      },
      "source": [
        "### Dummy Classifier"
      ]
    },
    {
      "cell_type": "code",
      "metadata": {
        "id": "qPTpghz2ULSs"
      },
      "source": [
        "train_data = train_data_resampled\n",
        "train_labels = train_labels_resampled\n",
        "f1_best_micro = np.zeros(7)\n",
        "f1_best_macro = np.zeros(7)"
      ],
      "execution_count": null,
      "outputs": []
    },
    {
      "cell_type": "code",
      "metadata": {
        "id": "q94NdxTHOa1R",
        "colab": {
          "base_uri": "https://localhost:8080/"
        },
        "outputId": "96dbde80-6792-4314-9046-5d60a3dd7aa8"
      },
      "source": [
        "dummy_pipe = Pipeline([\n",
        "    ('selector', VarianceThreshold()),\n",
        "    ('scaler', StandardScaler()),\n",
        "    ('pca',PCA()),\n",
        "    ('dummy',DummyClassifier()),\n",
        "], memory='tmp')\n",
        "\n",
        "dummy_strategy = ['stratified','most_frequent','prior','uniform','constant']\n",
        "n_components = [10, 20, 40,50,70,80,100, 150]\n",
        "vthreshold = [0, 52000,55000, 57000, 60000, ]\n",
        "\n",
        "params = dict(\n",
        "    selector__threshold = vthreshold,\n",
        "    dummy__strategy=dummy_strategy,\n",
        "    pca__n_components = n_components,\n",
        ")\n",
        "\n",
        "start = datetime.now() # <-- Start timing from here\n",
        "dummy_cv_1 = GridSearchCV(dummy_pipe, params, scoring='f1_macro',cv=5,n_jobs=-1)\n",
        "dummy_cv_1.fit(train_data,train_labels)\n",
        "dummy_cv_2 = GridSearchCV(dummy_pipe, params, scoring='f1_micro',cv=5,n_jobs=-1)\n",
        "dummy_cv_2.fit(train_data,train_labels)\n",
        "end = datetime.now() # <-- Stop timing here\n",
        "print('Training Dummy done. Time: '+str(end-start))\n",
        "\n",
        "dummy_predict_1 = dummy_cv_1.predict(test_data)\n",
        "dummy_predict_2 = dummy_cv_2.predict(test_data)\n",
        "print(\"Macro Optimization best params:\")\n",
        "print(dummy_cv_1.best_params_)\n",
        "print(\"Micro Optimization best params:\")\n",
        "print(dummy_cv_2.best_params_)"
      ],
      "execution_count": null,
      "outputs": [
        {
          "output_type": "stream",
          "text": [
            "Training Dummy done. Time: 0:03:15.344607\n",
            "Macro Optimization best params:\n",
            "{'dummy__strategy': 'stratified', 'pca__n_components': 70, 'selector__threshold': 52000}\n",
            "Micro Optimization best params:\n",
            "{'dummy__strategy': 'uniform', 'pca__n_components': 100, 'selector__threshold': 52000}\n"
          ],
          "name": "stdout"
        }
      ]
    },
    {
      "cell_type": "markdown",
      "metadata": {
        "id": "Fcj_-MA2ZRQX"
      },
      "source": [
        "Βλέπουμε ότι η καλύτερη παραμετρικοποίηση του ταξινομητή εξαρτάται και από την μετρική αξιολόγησής του. Κρατάμε τις σχετικές αποδόσεις για την τελική σύγκριση."
      ]
    },
    {
      "cell_type": "code",
      "metadata": {
        "id": "K99HDB0jaX0W",
        "colab": {
          "base_uri": "https://localhost:8080/",
          "height": 505
        },
        "outputId": "cd2af6f6-4491-45d7-a192-460947e4a828"
      },
      "source": [
        "f1_best_micro[0] = f1_score(test_labels, dummy_predict_2, average='micro', zero_division=0)\n",
        "f1_best_macro[0] = f1_score(test_labels, dummy_predict_1, average='macro', zero_division=0)\n",
        "\n",
        "# print a pretty confusion matrix version\n",
        "print(\"Classification report for Best Dummy Classifier.\\n\")\n",
        "print(\"Best Macro Average: \"+str(f1_best_macro[0]))\n",
        "print(classification_report(test_labels, dummy_predict_1,\n",
        "                            target_names=class_labels, zero_division=0))\n",
        "plot_confusion_matrix(dummy_cv_1.best_estimator_, test_data, test_labels,\n",
        "                             display_labels=class_labels,\n",
        "                             cmap=plt.cm.Blues, normalize='true')"
      ],
      "execution_count": null,
      "outputs": [
        {
          "output_type": "stream",
          "text": [
            "Classification report for Best Dummy Classifier.\n",
            "\n",
            "Best Macro Average: 0.45119329430497873\n",
            "              precision    recall  f1-score   support\n",
            "\n",
            "  No Seizure       0.81      0.50      0.62      2782\n",
            "     Seizure       0.20      0.51      0.28       668\n",
            "\n",
            "    accuracy                           0.50      3450\n",
            "   macro avg       0.50      0.50      0.45      3450\n",
            "weighted avg       0.69      0.50      0.55      3450\n",
            "\n"
          ],
          "name": "stdout"
        },
        {
          "output_type": "execute_result",
          "data": {
            "text/plain": [
              "<sklearn.metrics._plot.confusion_matrix.ConfusionMatrixDisplay at 0x7ff02918a898>"
            ]
          },
          "metadata": {
            "tags": []
          },
          "execution_count": 25
        },
        {
          "output_type": "display_data",
          "data": {
            "image/png": "[encoded data removed]",
            "text/plain": [
              "<Figure size 432x288 with 2 Axes>"
            ]
          },
          "metadata": {
            "tags": [],
            "needs_background": "light"
          }
        }
      ]
    },
    {
      "cell_type": "code",
      "metadata": {
        "id": "pbpbXaMQcPxw",
        "colab": {
          "base_uri": "https://localhost:8080/",
          "height": 470
        },
        "outputId": "c9c77e5f-dc18-4e98-aa64-fd937144c7f8"
      },
      "source": [
        "print(\"Best Micro Average:\"+str(f1_best_micro[0]))\n",
        "print(classification_report(test_labels, dummy_predict_2,\n",
        "                            target_names=class_labels, zero_division=0))\n",
        "plot_confusion_matrix(dummy_cv_2.best_estimator_, test_data, test_labels,\n",
        "                             display_labels=class_labels,\n",
        "                             cmap=plt.cm.Blues, normalize='true')"
      ],
      "execution_count": null,
      "outputs": [
        {
          "output_type": "stream",
          "text": [
            "Best Micro Average:0.49130434782608695\n",
            "              precision    recall  f1-score   support\n",
            "\n",
            "  No Seizure       0.80      0.49      0.61      2782\n",
            "     Seizure       0.18      0.48      0.27       668\n",
            "\n",
            "    accuracy                           0.49      3450\n",
            "   macro avg       0.49      0.49      0.44      3450\n",
            "weighted avg       0.68      0.49      0.54      3450\n",
            "\n"
          ],
          "name": "stdout"
        },
        {
          "output_type": "execute_result",
          "data": {
            "text/plain": [
              "<sklearn.metrics._plot.confusion_matrix.ConfusionMatrixDisplay at 0x7ff029120898>"
            ]
          },
          "metadata": {
            "tags": []
          },
          "execution_count": 26
        },
        {
          "output_type": "display_data",
          "data": {
            "image/png": "[encoded data removed]",
            "text/plain": [
              "<Figure size 432x288 with 2 Axes>"
            ]
          },
          "metadata": {
            "tags": [],
            "needs_background": "light"
          }
        }
      ]
    },
    {
      "cell_type": "markdown",
      "metadata": {
        "id": "fnH4ZgxibiLW"
      },
      "source": [
        "### Gaussian Naive Bayesian Classifier"
      ]
    },
    {
      "cell_type": "code",
      "metadata": {
        "colab": {
          "base_uri": "https://localhost:8080/"
        },
        "id": "uFGPQoU8Oa1R",
        "outputId": "a64461ba-5df6-454b-9071-a0376452c468"
      },
      "source": [
        "# GaussianNB has no super-parameters to optimize\n",
        "# so just use better training data\n",
        "\n",
        "gnb_pipe = Pipeline([\n",
        "    ('selector', VarianceThreshold()),\n",
        "    ('scaler', StandardScaler()),\n",
        "    ('pca',PCA()),\n",
        "    ('gnb',GaussianNB()),\n",
        "], memory='tmp')\n",
        "\n",
        "n_components = [10, 20, 30, 40,60,70,80,100,150]\n",
        "vthreshold = [0, 55000, 57000, 60000,62000,64000]\n",
        "\n",
        "params = dict(\n",
        "    selector__threshold = vthreshold,\n",
        "    pca__n_components = n_components,\n",
        ")\n",
        "\n",
        "start = datetime.now() # <-- Start timing from here\n",
        "gnb_cv_1 = GridSearchCV(gnb_pipe, params, scoring='f1_macro',cv=5,n_jobs=-1)\n",
        "gnb_cv_1.fit(train_data, train_labels)\n",
        "gnb_cv_2 = GridSearchCV(gnb_pipe, params, scoring='f1_micro',cv=5,n_jobs=-1)\n",
        "gnb_cv_2.fit(train_data, train_labels)\n",
        "end = datetime.now() # <-- Stop timing here\n",
        "print('Training GNB done. Time: '+str(end-start))\n",
        "\n",
        "gaussian_predict_1 = gnb_cv_1.predict(test_data)\n",
        "gaussian_predict_2 = gnb_cv_1.predict(test_data)\n",
        "print(\"Macro Optimization best params:\")\n",
        "print(gnb_cv_1.best_params_)\n",
        "print(\"Micro Optimization best params:\")\n",
        "print(gnb_cv_2.best_params_)"
      ],
      "execution_count": null,
      "outputs": [
        {
          "output_type": "stream",
          "text": [
            "Training GNB done. Time: 0:00:48.745215\n",
            "Macro Optimization best params:\n",
            "{'pca__n_components': 20, 'selector__threshold': 0}\n",
            "Micro Optimization best params:\n",
            "{'pca__n_components': 20, 'selector__threshold': 0}\n"
          ],
          "name": "stdout"
        }
      ]
    },
    {
      "cell_type": "markdown",
      "metadata": {
        "id": "_VdrmanbdNK2"
      },
      "source": [
        "Βλέπουμε οτι σε αυτή τη περίπτωση, και οι δύο ταξινομητές συνέκλιναν στις ίδιες υπερπαραμέτρους. Δίνουμε λοιπόν εννιαίο classification report."
      ]
    },
    {
      "cell_type": "code",
      "metadata": {
        "colab": {
          "base_uri": "https://localhost:8080/",
          "height": 540
        },
        "id": "p3rDnuWibu-C",
        "outputId": "71fdd0f7-1477-43ad-924e-debace449a0e"
      },
      "source": [
        "f1_best_micro[1] = f1_score(test_labels, gaussian_predict_2, average='micro', zero_division=0)\n",
        "f1_best_macro[1] = f1_score(test_labels, gaussian_predict_1, average='macro', zero_division=0)\n",
        "\n",
        "# print a pretty confusion matrix version\n",
        "print(\"Classification report for GNB Classifier.\\n\")\n",
        "print(\"Best Macro Average: \"+str(f1_best_macro[1]))\n",
        "print(\"Best Micro Average: \"+str(f1_best_micro[1]))\n",
        "print(classification_report(test_labels, gaussian_predict_1,\n",
        "                            target_names=class_labels, zero_division=0))\n",
        "disp = plot_confusion_matrix(gnb_cv_1.best_estimator_, test_data, test_labels,\n",
        "                             display_labels=class_labels,\n",
        "                             cmap=plt.cm.Blues, normalize='true')\n",
        "print(disp.confusion_matrix)"
      ],
      "execution_count": null,
      "outputs": [
        {
          "output_type": "stream",
          "text": [
            "Classification report for GNB Classifier.\n",
            "\n",
            "Best Macro Average: 0.945604652853197\n",
            "Best Micro Average: 0.9657971014492753\n",
            "              precision    recall  f1-score   support\n",
            "\n",
            "  No Seizure       0.98      0.98      0.98      2782\n",
            "     Seizure       0.90      0.92      0.91       668\n",
            "\n",
            "    accuracy                           0.97      3450\n",
            "   macro avg       0.94      0.95      0.95      3450\n",
            "weighted avg       0.97      0.97      0.97      3450\n",
            "\n",
            "[[0.97663551 0.02336449]\n",
            " [0.07934132 0.92065868]]\n"
          ],
          "name": "stdout"
        },
        {
          "output_type": "display_data",
          "data": {
            "image/png": "[encoded data removed]",
            "text/plain": [
              "<Figure size 432x288 with 2 Axes>"
            ]
          },
          "metadata": {
            "tags": [],
            "needs_background": "light"
          }
        }
      ]
    },
    {
      "cell_type": "markdown",
      "metadata": {
        "id": "qo33EcaVfQ7J"
      },
      "source": [
        "### KNN Classifier"
      ]
    },
    {
      "cell_type": "code",
      "metadata": {
        "id": "nVyNBgCNOa1R"
      },
      "source": [
        "%%capture output\n",
        "knn_pipe = Pipeline([\n",
        "    ('selector', VarianceThreshold()),\n",
        "    ('scaler', StandardScaler()),\n",
        "    ('pca',PCA()),\n",
        "    ('knn',KNeighborsClassifier(n_jobs=-1)),\n",
        "], memory='tmp')\n",
        "\n",
        "n_components = [10, 20, 30, 40,60,70,80,100,150]\n",
        "vthreshold = [0, 55000, 57000, 60000,62000,64000]\n",
        "neighbors = [1,2,3,4]\n",
        "weights = ['uniform','distance']\n",
        "metrics = ['euclidean','manhattan','chebyshev','minkowski','mahalanobis','wminkowski']\n",
        "\n",
        "params = dict(\n",
        "    selector__threshold = vthreshold,\n",
        "    pca__n_components = n_components,\n",
        "    knn__n_neighbors=neighbors,\n",
        "    knn__weights=weights,\n",
        "    knn__metric=metrics\n",
        ")\n",
        "\n",
        "start = datetime.now() # <-- Start timing from here\n",
        "knn_cv_1 = GridSearchCV(knn_pipe,params,scoring='f1_macro', cv=5,n_jobs=-1)\n",
        "knn_cv_1.fit(train_data,train_labels)\n",
        "knn_cv_2 = GridSearchCV(knn_pipe,params,scoring='f1_micro', cv=5,n_jobs=-1)\n",
        "knn_cv_2.fit(train_data,train_labels)\n",
        "end = datetime.now() # <-- Stop timing here\n",
        "print('Training KNN done. Time: '+str(end-start))\n",
        "\n",
        "knn_predict_1 = knn_cv_1.predict(test_data)\n",
        "knn_predict_2 = knn_cv_2.predict(test_data)\n",
        "print(\"Macro Optimization best params:\")\n",
        "print(knn_cv_1.best_params_)\n",
        "print(\"Micro Optimization best params:\")\n",
        "print(knn_cv_2.best_params_)"
      ],
      "execution_count": null,
      "outputs": []
    },
    {
      "cell_type": "code",
      "metadata": {
        "id": "ohOaUNvMgZiC",
        "colab": {
          "base_uri": "https://localhost:8080/"
        },
        "outputId": "1956d0e1-2894-4c00-f741-da21732a0f57"
      },
      "source": [
        "output.show()"
      ],
      "execution_count": null,
      "outputs": [
        {
          "output_type": "stream",
          "text": [
            "Training KNN done. Time: 6:22:13.369800\n",
            "Macro Optimization best params:\n",
            "{'knn__metric': 'manhattan', 'knn__n_neighbors': 1, 'knn__weights': 'uniform', 'pca__n_components': 70, 'selector__threshold': 55000}\n",
            "Micro Optimization best params:\n",
            "{'knn__metric': 'manhattan', 'knn__n_neighbors': 1, 'knn__weights': 'uniform', 'pca__n_components': 70, 'selector__threshold': 55000}\n"
          ],
          "name": "stdout"
        }
      ]
    },
    {
      "cell_type": "code",
      "metadata": {
        "colab": {
          "base_uri": "https://localhost:8080/",
          "height": 540
        },
        "id": "NzNdNMk-gOFF",
        "outputId": "852e3051-e6ba-41f1-e83c-f6f6d8923def"
      },
      "source": [
        "f1_best_micro[2] = f1_score(test_labels, knn_predict_2, average='micro', zero_division=0)\n",
        "f1_best_macro[2] = f1_score(test_labels, knn_predict_1, average='macro', zero_division=0)\n",
        "\n",
        "# print a pretty confusion matrix version\n",
        "print(\"Classification report for Best KNN Classifier.\\n\")\n",
        "print(\"Best Macro Average: \"+str(f1_best_macro[2]))\n",
        "print(\"Best Micro Average: \"+str(f1_best_micro[2]))\n",
        "print(classification_report(test_labels, knn_predict_1,\n",
        "                            target_names=class_labels, zero_division=0))\n",
        "disp = plot_confusion_matrix(knn_cv_1, test_data, test_labels,\n",
        "                             display_labels=class_labels,\n",
        "                             cmap=plt.cm.Blues, normalize='true')\n",
        "print(disp.confusion_matrix)"
      ],
      "execution_count": null,
      "outputs": [
        {
          "output_type": "stream",
          "text": [
            "Classification report for Best KNN Classifier.\n",
            "\n",
            "Best Macro Average: 0.8824752746443931\n",
            "Best Micro Average: 0.9359420289855073\n",
            "              precision    recall  f1-score   support\n",
            "\n",
            "  No Seizure       0.93      1.00      0.96      2782\n",
            "     Seizure       0.99      0.68      0.80       668\n",
            "\n",
            "    accuracy                           0.94      3450\n",
            "   macro avg       0.96      0.84      0.88      3450\n",
            "weighted avg       0.94      0.94      0.93      3450\n",
            "\n",
            "[[0.99856219 0.00143781]\n",
            " [0.3248503  0.6751497 ]]\n"
          ],
          "name": "stdout"
        },
        {
          "output_type": "display_data",
          "data": {
            "image/png": "[encoded data removed]",
            "text/plain": [
              "<Figure size 432x288 with 2 Axes>"
            ]
          },
          "metadata": {
            "tags": [],
            "needs_background": "light"
          }
        }
      ]
    },
    {
      "cell_type": "markdown",
      "metadata": {
        "id": "oFHz2i-thFTN"
      },
      "source": [
        "Συγκρίνοντας αυτή την τελευταία έκδοση του KNN ταξινομητή με την baseline βρίσκουμε σημαντική βελτίωση της απόδοσης με χρηση της προεπεξεργασίας και του cross validation. Αξίζει να σημειωθεί ότι - όπως και ο baseline ταξινομητής - έχουμε καλύτερη επιτυχία στην πρόβλεψη true negative παρά true positive. Μάλιστα, η εμφάνιση false negative είναι σχεδόν μηδαμινή. Έχουμε λοιπόν ένα ταξινομητή πολύ ικανό να ανιχνεύει την έλλειψη επιληπτικής κρίσης.\n",
        "\n",
        "Βρίσκουμε συνολικά ότι η χρήση PCA βελτιώνει την ικανότητα του KNN και άρα διατηρούμε την προηγούμενη ως βέλτιστη υλοποίησή του."
      ]
    },
    {
      "cell_type": "markdown",
      "metadata": {
        "id": "mGtbUMdx0iKx"
      },
      "source": [
        "### Multi-layer Perceptron Classifier\n",
        "Επειδή η εφαρμογή cross vailidation σε όλες τις παραμέτρους MLP θα καθυστερήσει την εκτέλεση των folds, θα προσπαθήσουμε να βελτιστοποιήσουμε εκτελόντας διαδοχικά τα βήματα του grid search."
      ]
    },
    {
      "cell_type": "code",
      "metadata": {
        "id": "8Bb5xVS8Oa1R"
      },
      "source": [
        "%%capture output_mlp\n",
        "mlp_pipe = Pipeline([\n",
        "    ('selector', VarianceThreshold()),\n",
        "    ('scaler', StandardScaler()),\n",
        "    ('pca',PCA()),\n",
        "    ('mlp',MLPClassifier(early_stopping=True,random_state=0)),\n",
        "], memory='tmp')\n",
        "\n",
        "n_components = [ 20, 40, 60]\n",
        "vthreshold = [55000, 60000]\n",
        "layer_sizes = [(60,),(80,),(100,)]\n",
        "activation = ['relu', 'tanh']\n",
        "solver = ['adam','sgd']\n",
        "max_iter = [100,200]\n",
        "learning_rate = ['constant','adaptive']\n",
        "alpha = [0.1e-4, 1e-4]\n",
        "\n",
        "params = dict(\n",
        "    selector__threshold = vthreshold,\n",
        "    pca__n_components = n_components,\n",
        "    mlp__hidden_layer_sizes=layer_sizes,\n",
        "    mlp__activation=activation,\n",
        "    mlp__solver=solver,\n",
        "    mlp__max_iter=max_iter,\n",
        "    mlp__learning_rate=learning_rate,\n",
        "    mlp__alpha=alpha\n",
        ")\n",
        "\n",
        "start = datetime.now() # <-- Start timing from here\n",
        "mlp_cv_1 = GridSearchCV(mlp_pipe,params, scoring='f1_macro', cv=5,n_jobs=-1)\n",
        "mlp_cv_1.fit(train_data, train_labels)\n",
        "end = datetime.now() # <-- Stop timing here\n",
        "print('Training MLP_1 done. Time: '+str(end-start))\n",
        "\n",
        "start = datetime.now() # <-- Start timing from here\n",
        "mlp_cv_2 = GridSearchCV(mlp_pipe,params, scoring='f1_micro', cv=5,n_jobs=-1)\n",
        "mlp_cv_2.fit(train_data, train_labels)\n",
        "end = datetime.now() # <-- Stop timing here\n",
        "print('Training MLP_2 done. Time: '+str(end-start))\n",
        "\n",
        "mlp_predict_1 = mlp_cv_1.predict(test_data)\n",
        "mlp_clf_1 = mlp_cv_1.best_estimator_\n",
        "print(mlp_cv_1.best_params_)\n",
        "\n",
        "mlp_predict_2 = mlp_cv_2.predict(test_data)\n",
        "mlp_clf_2 = mlp_cv_2.best_estimator_\n",
        "print(mlp_cv_2.best_params_)"
      ],
      "execution_count": null,
      "outputs": []
    },
    {
      "cell_type": "code",
      "metadata": {
        "colab": {
          "base_uri": "https://localhost:8080/"
        },
        "id": "XMi-9NxLELU3",
        "outputId": "5cde274d-d2ca-4591-fd12-cb7039a2467c"
      },
      "source": [
        "print(output_mlp)"
      ],
      "execution_count": null,
      "outputs": [
        {
          "output_type": "stream",
          "text": [
            "Training MLP_1 done. Time: 2:45:43.981101\n",
            "Training MLP_2 done. Time: 2:47:22.379344\n",
            "{'mlp__activation': 'tanh', 'mlp__alpha': 1e-05, 'mlp__hidden_layer_sizes': (100,), 'mlp__learning_rate': 'constant', 'mlp__max_iter': 100, 'mlp__solver': 'adam', 'pca__n_components': 60, 'selector__threshold': 55000}\n",
            "{'mlp__activation': 'tanh', 'mlp__alpha': 1e-05, 'mlp__hidden_layer_sizes': (100,), 'mlp__learning_rate': 'constant', 'mlp__max_iter': 100, 'mlp__solver': 'adam', 'pca__n_components': 60, 'selector__threshold': 55000}\n",
            "\n"
          ],
          "name": "stdout"
        }
      ]
    },
    {
      "cell_type": "code",
      "metadata": {
        "colab": {
          "base_uri": "https://localhost:8080/"
        },
        "id": "UhxJowmOAXv4",
        "outputId": "5f35f062-40a2-49a0-e42d-8e39e4d931b1"
      },
      "source": [
        "print(\"Classification Report for F1-Macro Optimized MLP\")\n",
        "print(classification_report(test_labels, mlp_predict_1))\n",
        "\n",
        "print(\"Classification Report for F1-Micro Optimized MLP\")\n",
        "print(classification_report(test_labels, mlp_predict_2))"
      ],
      "execution_count": null,
      "outputs": [
        {
          "output_type": "stream",
          "text": [
            "Classification Report for F1-Macro Optimized MLP\n",
            "              precision    recall  f1-score   support\n",
            "\n",
            "           0       0.97      0.99      0.98      2783\n",
            "           1       0.95      0.89      0.92       667\n",
            "\n",
            "    accuracy                           0.97      3450\n",
            "   macro avg       0.96      0.94      0.95      3450\n",
            "weighted avg       0.97      0.97      0.97      3450\n",
            "\n",
            "Classification Report for F1-Micro Optimized MLP\n",
            "              precision    recall  f1-score   support\n",
            "\n",
            "           0       0.97      0.99      0.98      2783\n",
            "           1       0.95      0.89      0.92       667\n",
            "\n",
            "    accuracy                           0.97      3450\n",
            "   macro avg       0.96      0.94      0.95      3450\n",
            "weighted avg       0.97      0.97      0.97      3450\n",
            "\n"
          ],
          "name": "stdout"
        }
      ]
    },
    {
      "cell_type": "code",
      "metadata": {
        "colab": {
          "base_uri": "https://localhost:8080/",
          "height": 500
        },
        "id": "QlTNsU0h_GPI",
        "outputId": "182904a6-75e5-4d66-eeef-e04744b589de"
      },
      "source": [
        "f1_best_micro[3] = f1_score(test_labels, mlp_predict_2, average='micro', zero_division=0)\n",
        "f1_best_macro[3] = f1_score(test_labels, mlp_predict_1, average='macro', zero_division=0)\n",
        "\n",
        "# print a pretty confusion matrix version\n",
        "print(\"Classification report for Best MLP Classifier.\\n\")\n",
        "print(classification_report(test_labels, mlp_predict_1,\n",
        "                            target_names=class_labels, zero_division=0))\n",
        "disp = plot_confusion_matrix(mlp_clf, test_data, test_labels,\n",
        "                             display_labels=class_labels,\n",
        "                             cmap=plt.cm.Blues, normalize='true')\n",
        "print(disp.confusion_matrix)"
      ],
      "execution_count": null,
      "outputs": [
        {
          "output_type": "stream",
          "text": [
            "Classification report for Best MLP Classifier.\n",
            "\n",
            "              precision    recall  f1-score   support\n",
            "\n",
            "  No Seizure       0.97      0.99      0.98      2783\n",
            "     Seizure       0.95      0.89      0.92       667\n",
            "\n",
            "    accuracy                           0.97      3450\n",
            "   macro avg       0.96      0.94      0.95      3450\n",
            "weighted avg       0.97      0.97      0.97      3450\n",
            "\n",
            "[[0.96047431 0.03952569]\n",
            " [0.12443778 0.87556222]]\n"
          ],
          "name": "stdout"
        },
        {
          "output_type": "display_data",
          "data": {
            "image/png": "[encoded data removed]",
            "text/plain": [
              "<Figure size 432x288 with 2 Axes>"
            ]
          },
          "metadata": {
            "tags": [],
            "needs_background": "light"
          }
        }
      ]
    },
    {
      "cell_type": "markdown",
      "metadata": {
        "id": "ntp9whQuF_JI"
      },
      "source": [
        "### Linear Support Vector Classifier"
      ]
    },
    {
      "cell_type": "code",
      "metadata": {
        "id": "F7Re7bNbGFZK",
        "colab": {
          "base_uri": "https://localhost:8080/"
        },
        "outputId": "41a009a8-38cd-4a3a-a7ab-437a147abdd5"
      },
      "source": [
        "lsv_pipe = Pipeline([\n",
        "    ('selector', VarianceThreshold()),\n",
        "    ('scaler', StandardScaler()),\n",
        "    ('pca',PCA()),\n",
        "    ('lsv',LinearSVC(random_state=0)),\n",
        "], memory='tmp')\n",
        "\n",
        "n_components = [ 40,60,80,100]\n",
        "vthreshold = [0, 52000, 55000, 57000, 60000]\n",
        "loss = ['hinge','squared_hinge']\n",
        "tolerance = [1e-5 , 1e-4, 1e-3]\n",
        "c = [50,52,55,58, 60]\n",
        "\n",
        "params = dict(\n",
        "    selector__threshold = vthreshold,\n",
        "    pca__n_components = n_components,\n",
        "    lsv__loss = loss,\n",
        "    lsv__tol = tolerance,\n",
        "    lsv__C = c,\n",
        ")\n",
        "\n",
        "start = datetime.now() # <-- Start timing from here\n",
        "lsv_cv_1 =GridSearchCV(lsv_pipe,params, scoring='f1_macro',cv=5,n_jobs=-1)\n",
        "lsv_cv_1.fit(train_data, train_labels)\n",
        "lsv_cv_2 =GridSearchCV(lsv_pipe,params, scoring='f1_micro',cv=5,n_jobs=-1)\n",
        "lsv_cv_2.fit(train_data, train_labels)\n",
        "end = datetime.now() # <-- Stop timing here\n",
        "print('Training Linear SVC done. Time: '+str(end-start))\n",
        "\n",
        "lsv_predict_1 = lsv_cv_1.predict(test_data)\n",
        "lsv_predict_2 = lsv_cv_2.predict(test_data)\n",
        "print('Macro Optimization best params:')\n",
        "print(lsv_cv_1.best_params_)\n",
        "print('Micro Optimization best params:')\n",
        "print(lsv_cv_2.best_params_)"
      ],
      "execution_count": null,
      "outputs": [
        {
          "output_type": "stream",
          "text": [
            "/usr/local/lib/python3.6/dist-packages/sklearn/svm/_base.py:977: ConvergenceWarning:\n",
            "\n",
            "Liblinear failed to converge, increase the number of iterations.\n",
            "\n"
          ],
          "name": "stderr"
        },
        {
          "output_type": "stream",
          "text": [
            "Training Linear SVC done. Time: 5:40:33.045052\n",
            "Macro Optimization best params:\n",
            "{'lsv__C': 50, 'lsv__loss': 'squared_hinge', 'lsv__tol': 1e-05, 'pca__n_components': 100, 'selector__threshold': 52000}\n",
            "Micro Optimization best params:\n",
            "{'lsv__C': 52, 'lsv__loss': 'squared_hinge', 'lsv__tol': 1e-05, 'pca__n_components': 100, 'selector__threshold': 55000}\n"
          ],
          "name": "stdout"
        },
        {
          "output_type": "stream",
          "text": [
            "/usr/local/lib/python3.6/dist-packages/sklearn/svm/_base.py:977: ConvergenceWarning:\n",
            "\n",
            "Liblinear failed to converge, increase the number of iterations.\n",
            "\n"
          ],
          "name": "stderr"
        }
      ]
    },
    {
      "cell_type": "code",
      "metadata": {
        "colab": {
          "base_uri": "https://localhost:8080/"
        },
        "id": "jGW1yh3ryjnO",
        "outputId": "daca87fa-cd58-4e6f-a9cb-beb52eec020c"
      },
      "source": [
        "lsv_cv_1 = Pipeline([\n",
        "    ('selector', VarianceThreshold(threshold=52000)),\n",
        "    ('scaler', StandardScaler()),\n",
        "    ('pca',PCA(n_components=100)),\n",
        "    ('lsv',LinearSVC(tol=1e-05,loss='squared_hinge',C=50,random_state=0)),\n",
        "], memory='tmp')\n",
        "lsv_cv_2 = Pipeline([\n",
        "    ('selector', VarianceThreshold(threshold=55000)),\n",
        "    ('scaler', StandardScaler()),\n",
        "    ('pca',PCA(n_components=100)),\n",
        "    ('lsv',LinearSVC(tol=1e-05,loss='squared_hinge',C=52,random_state=0)),\n",
        "], memory='tmp')\n",
        "\n",
        "lsv_cv_1.fit(train_data, train_labels)\n",
        "lsv_cv_2.fit(train_data, train_labels)\n",
        "\n",
        "lsv_predict_1 = lsv_cv_1.predict(test_data)\n",
        "lsv_predict_2 = lsv_cv_2.predict(test_data)\n",
        "print('Best Macro:', f1_score(test_labels, lsv_predict_1, average='macro', zero_division=0))\n",
        "print('Best Micro: ',f1_score(test_labels, lsv_predict_2, average='micro', zero_division=0))"
      ],
      "execution_count": null,
      "outputs": [
        {
          "output_type": "stream",
          "text": [
            "/usr/local/lib/python3.6/dist-packages/sklearn/svm/_base.py:977: ConvergenceWarning:\n",
            "\n",
            "Liblinear failed to converge, increase the number of iterations.\n",
            "\n"
          ],
          "name": "stderr"
        },
        {
          "output_type": "stream",
          "text": [
            "Best Macro: 0.6860570764431958\n",
            "Best Micro:  0.8460869565217393\n"
          ],
          "name": "stdout"
        },
        {
          "output_type": "stream",
          "text": [
            "/usr/local/lib/python3.6/dist-packages/sklearn/svm/_base.py:977: ConvergenceWarning:\n",
            "\n",
            "Liblinear failed to converge, increase the number of iterations.\n",
            "\n"
          ],
          "name": "stderr"
        }
      ]
    },
    {
      "cell_type": "markdown",
      "metadata": {
        "id": "9wulyimuRfsD"
      },
      "source": [
        "Ο προβλέπτης με γραμμικό πυρήνα αποτυγχάνει να συγκλίνει παρά τα αυξημένα iterations στα οποία τρέχει. Αυτό μας δείχνει ότι το πρόβλημα δεν είναι γραμμικά διαχωρίσιμο, και άρα η επιλογή Linear SVC δεν θα είναι η πιο αποδοτική."
      ]
    },
    {
      "cell_type": "code",
      "metadata": {
        "colab": {
          "base_uri": "https://localhost:8080/",
          "height": 505
        },
        "id": "YPn5j_u0QZxg",
        "outputId": "1e84c4fd-4bb8-4452-bf7b-5218095f9c9a"
      },
      "source": [
        "f1_best_micro[4] = f1_score(test_labels, lsv_predict_2, average='micro', zero_division=0)\n",
        "f1_best_macro[4] = f1_score(test_labels, lsv_predict_1, average='macro', zero_division=0)\n",
        "class_labels = ['No Seizure','Seizure']\n",
        "# print a pretty confusion matrix version\n",
        "print(\"Classification report for F1-macro Optimized Linear SVC Classifier.\\n\")\n",
        "print(classification_report(test_labels, lsv_predict_1,\n",
        "                            target_names=class_labels, zero_division=0))\n",
        "disp = plot_confusion_matrix(lsv_cv_1, test_data, test_labels,\n",
        "                              display_labels=class_labels,\n",
        "                             cmap=plt.cm.Blues, normalize='true')\n",
        "print(disp.confusion_matrix)"
      ],
      "execution_count": null,
      "outputs": [
        {
          "output_type": "stream",
          "text": [
            "Classification report for F1-macro Optimized Linear SVC Classifier.\n",
            "\n",
            "              precision    recall  f1-score   support\n",
            "\n",
            "  No Seizure       0.85      0.98      0.91      2759\n",
            "     Seizure       0.80      0.28      0.42       691\n",
            "\n",
            "    accuracy                           0.84      3450\n",
            "   macro avg       0.82      0.63      0.66      3450\n",
            "weighted avg       0.84      0.84      0.81      3450\n",
            "\n",
            "[[0.98223994 0.01776006]\n",
            " [0.71635311 0.28364689]]\n"
          ],
          "name": "stdout"
        },
        {
          "output_type": "display_data",
          "data": {
            "image/png": "[encoded data removed]",
            "text/plain": [
              "<Figure size 432x288 with 2 Axes>"
            ]
          },
          "metadata": {
            "tags": [],
            "needs_background": "light"
          }
        }
      ]
    },
    {
      "cell_type": "code",
      "metadata": {
        "id": "UYQ0XPi6M5r4",
        "colab": {
          "base_uri": "https://localhost:8080/",
          "height": 505
        },
        "outputId": "ed1f4b64-b484-4f48-ef99-c6748067d962"
      },
      "source": [
        "print(\"Classification report for F1-micro Optimized Linear SVC Classifier.\\n\")\n",
        "print(classification_report(test_labels, lsv_predict_2,\n",
        "                            target_names=class_labels, zero_division=0))\n",
        "disp = plot_confusion_matrix(lsv_cv_2, test_data, test_labels,\n",
        "                              display_labels=class_labels,\n",
        "                             cmap=plt.cm.Blues, normalize='true')\n",
        "print(disp.confusion_matrix)"
      ],
      "execution_count": null,
      "outputs": [
        {
          "output_type": "stream",
          "text": [
            "Classification report for F1-micro Optimized Linear SVC Classifier.\n",
            "\n",
            "              precision    recall  f1-score   support\n",
            "\n",
            "  No Seizure       0.84      0.97      0.90      2759\n",
            "     Seizure       0.68      0.29      0.41       691\n",
            "\n",
            "    accuracy                           0.83      3450\n",
            "   macro avg       0.76      0.63      0.65      3450\n",
            "weighted avg       0.81      0.83      0.80      3450\n",
            "\n",
            "[[0.96665458 0.03334542]\n",
            " [0.7105644  0.2894356 ]]\n"
          ],
          "name": "stdout"
        },
        {
          "output_type": "display_data",
          "data": {
            "image/png": "[encoded data removed]",
            "text/plain": [
              "<Figure size 432x288 with 2 Axes>"
            ]
          },
          "metadata": {
            "tags": [],
            "needs_background": "light"
          }
        }
      ]
    },
    {
      "cell_type": "markdown",
      "metadata": {
        "id": "9Lx_a4_WKu9v"
      },
      "source": [
        "### Polynomial Kernel SVC\n",
        "Για τους μή-γραμμικούς πυρήνες θα δοκιμάσουμε πρώτα πολυωνυμικό (poly kernel)."
      ]
    },
    {
      "cell_type": "code",
      "metadata": {
        "id": "1-E9aTQaKi57",
        "colab": {
          "base_uri": "https://localhost:8080/"
        },
        "outputId": "327dbb90-8bce-4475-cb25-efcecc41e9f7"
      },
      "source": [
        "psv_pipe = Pipeline([\n",
        "    ('selector', VarianceThreshold()),\n",
        "    ('scaler', StandardScaler()),\n",
        "    ('pca',PCA()),\n",
        "    ('psv',SVC(kernel='poly',random_state=0)),\n",
        "], memory='tmp')\n",
        "\n",
        "n_components = [ 80,100 ]\n",
        "vthreshold = [ 52000, 55000, 57000]\n",
        "degree = range(2,5)\n",
        "gamma = ['auto','scale']\n",
        "tolerance = [1e-5 , 1e-4]\n",
        "c = [50, 52, 54]\n",
        "params = dict(\n",
        "    selector__threshold = vthreshold,\n",
        "    pca__n_components = n_components,\n",
        "    psv__tol = tolerance,\n",
        "    psv__C = c,\n",
        "    psv__degree = degree,\n",
        "    psv__gamma = gamma,\n",
        ")\n",
        "\n",
        "start = datetime.now() # <-- Start timing from here\n",
        "psv_cv_1 = GridSearchCV(psv_pipe,params, scoring='f1_macro', cv=5,n_jobs=-1)\n",
        "psv_cv_1.fit(train_data, train_labels)\n",
        "psv_cv_2 = GridSearchCV(psv_pipe,params, scoring='f1_micro', cv=5,n_jobs=-1)\n",
        "psv_cv_2.fit(train_data, train_labels)\n",
        "end = datetime.now() # <-- Stop timing here\n",
        "print('Training poly SVC done. Time: '+str(end-start))\n",
        "\n",
        "psv_predict_1 = psv_cv_1.predict(test_data)\n",
        "psv_predict_2 = psv_cv_2.predict(test_data)\n",
        "print('Macro Optimization best params:')\n",
        "print(psv_cv_1.best_params_)\n",
        "print('Micro Optimization best params:')\n",
        "print(psv_cv_2.best_params_)"
      ],
      "execution_count": null,
      "outputs": [
        {
          "output_type": "stream",
          "text": [
            "Training poly SVC done. Time: 2:17:54.519780\n",
            "Macro Optimization best params:\n",
            "{'pca__n_components': 80, 'psv__C': 54, 'psv__degree': 3, 'psv__gamma': 'auto', 'psv__tol': 1e-05, 'selector__threshold': 52000}\n",
            "Micro Optimization best params:\n",
            "{'pca__n_components': 80, 'psv__C': 54, 'psv__degree': 3, 'psv__gamma': 'auto', 'psv__tol': 1e-05, 'selector__threshold': 52000}\n"
          ],
          "name": "stdout"
        }
      ]
    },
    {
      "cell_type": "code",
      "metadata": {
        "id": "TjTr93rUQokX",
        "colab": {
          "base_uri": "https://localhost:8080/",
          "height": 505
        },
        "outputId": "208212a4-66de-481e-dfc9-42e772e700b6"
      },
      "source": [
        "f1_best_micro[5] = f1_score(test_labels, psv_predict_2, average='micro', zero_division=0)\n",
        "f1_best_macro[5] = f1_score(test_labels, psv_predict_1, average='macro', zero_division=0)\n",
        "\n",
        "class_labels = [\"No Seizure\", \"Seizure\"]\n",
        "# print a pretty confusion matrix version\n",
        "print(\"Classification report for F1-Macro Optimized Poly SVC Classifier.\\n\")\n",
        "print(classification_report(test_labels, psv_predict_1,\n",
        "                            target_names=class_labels, zero_division=0))\n",
        "disp = plot_confusion_matrix(psv_cv_1, test_data, test_labels,\n",
        "                             display_labels=class_labels,\n",
        "                             cmap=plt.cm.Blues, normalize='true')\n",
        "print(disp.confusion_matrix)"
      ],
      "execution_count": null,
      "outputs": [
        {
          "output_type": "stream",
          "text": [
            "Classification report for F1-Macro Optimized Poly SVC Classifier.\n",
            "\n",
            "              precision    recall  f1-score   support\n",
            "\n",
            "  No Seizure       0.88      1.00      0.94      2763\n",
            "     Seizure       0.96      0.48      0.64       687\n",
            "\n",
            "    accuracy                           0.89      3450\n",
            "   macro avg       0.92      0.74      0.79      3450\n",
            "weighted avg       0.90      0.89      0.88      3450\n",
            "\n",
            "[[0.99565689 0.00434311]\n",
            " [0.52401747 0.47598253]]\n"
          ],
          "name": "stdout"
        },
        {
          "output_type": "display_data",
          "data": {
            "image/png": "[encoded data removed]",
            "text/plain": [
              "<Figure size 432x288 with 2 Axes>"
            ]
          },
          "metadata": {
            "tags": [],
            "needs_background": "light"
          }
        }
      ]
    },
    {
      "cell_type": "markdown",
      "metadata": {
        "id": "TwxYLDfXRav1"
      },
      "source": [
        "### Radial Basis Kernel SVC\n",
        "\n",
        "Και στη συνέχεια δοκιμάζουμε SVC πυρίνα Radial Basis."
      ]
    },
    {
      "cell_type": "code",
      "metadata": {
        "id": "Yeoi9SCmMxrK",
        "colab": {
          "base_uri": "https://localhost:8080/"
        },
        "outputId": "71115675-a3c0-4d44-aa92-3a6d3c8fea3e"
      },
      "source": [
        "rsv_pipe = Pipeline([\n",
        "    ('selector', VarianceThreshold()),\n",
        "    ('scaler', StandardScaler()),\n",
        "    ('pca',PCA()),\n",
        "    ('rsv',SVC(kernel='rbf',random_state=0)),\n",
        "], memory='tmp')\n",
        "\n",
        "n_components = [60,80,100]\n",
        "vthreshold = [ 52000, 55000, 57000]\n",
        "gamma = ['auto','scale']\n",
        "tolerance = [1e-5 , 1e-4]\n",
        "c = [42,44,46,48]\n",
        "params = dict(\n",
        "    selector__threshold = vthreshold,\n",
        "    pca__n_components = n_components,\n",
        "    rsv__tol = tolerance,\n",
        "    rsv__C = c,\n",
        "    rsv__gamma = gamma,\n",
        ")\n",
        "\n",
        "start = datetime.now() # <-- Start timing from here\n",
        "rsv_cv_1 = GridSearchCV(rsv_pipe,params, scoring='f1_macro', cv=5,n_jobs=-1)\n",
        "rsv_cv_1.fit(train_data, train_labels)\n",
        "rsv_cv_2 = GridSearchCV(rsv_pipe,params, scoring='f1_micro', cv=5,n_jobs=-1)\n",
        "rsv_cv_2.fit(train_data, train_labels)\n",
        "end = datetime.now() # <-- Stop timing here\n",
        "print('Training rbf SVC done. Time: '+str(end-start))\n",
        "\n",
        "rsv_predict_1 = rsv_cv_1.predict(test_data)\n",
        "rsv_predict_2 = rsv_cv_2.predict(test_data)\n",
        "print('F1 Macro Optimized Params:')\n",
        "print(rsv_cv_1.best_params_)\n",
        "print('F1 Micro Optimized Params:')\n",
        "print(rsv_cv_2.best_params_)"
      ],
      "execution_count": null,
      "outputs": [
        {
          "output_type": "stream",
          "text": [
            "Training rbf SVC done. Time: 0:33:45.318186\n",
            "F1 Macro Optimized Params:\n",
            "{'pca__n_components': 60, 'rsv__C': 42, 'rsv__gamma': 'auto', 'rsv__tol': 1e-05, 'selector__threshold': 52000}\n",
            "F1 Micro Optimized Params:\n",
            "{'pca__n_components': 60, 'rsv__C': 42, 'rsv__gamma': 'auto', 'rsv__tol': 1e-05, 'selector__threshold': 52000}\n"
          ],
          "name": "stdout"
        }
      ]
    },
    {
      "cell_type": "code",
      "metadata": {
        "id": "nGVfnkLdQtpr",
        "colab": {
          "base_uri": "https://localhost:8080/",
          "height": 505
        },
        "outputId": "70c4fe06-8841-4016-973a-222131984dad"
      },
      "source": [
        "f1_best_micro[6] = f1_score(test_labels, rsv_predict_2, average='micro', zero_division=0)\n",
        "f1_best_macro[6] = f1_score(test_labels, rsv_predict_1, average='macro', zero_division=0)\n",
        "\n",
        "# print a pretty confusion matrix version\n",
        "print(\"Classification report for F1 Macro Optimized Linear SVC Classifier.\\n\")\n",
        "print(classification_report(test_labels, rsv_predict_1,\n",
        "                            target_names=class_labels, zero_division=0))\n",
        "disp = plot_confusion_matrix(rsv_cv_1, test_data, test_labels,\n",
        "                             display_labels=class_labels,\n",
        "                             cmap=plt.cm.Blues, normalize='true')\n",
        "print(disp.confusion_matrix)"
      ],
      "execution_count": null,
      "outputs": [
        {
          "output_type": "stream",
          "text": [
            "Classification report for F1 Macro Optimized Linear SVC Classifier.\n",
            "\n",
            "              precision    recall  f1-score   support\n",
            "\n",
            "  No Seizure       0.98      0.99      0.98      2763\n",
            "     Seizure       0.94      0.94      0.94       687\n",
            "\n",
            "    accuracy                           0.98      3450\n",
            "   macro avg       0.96      0.96      0.96      3450\n",
            "weighted avg       0.98      0.98      0.98      3450\n",
            "\n",
            "[[0.98516106 0.01483894]\n",
            " [0.06259098 0.93740902]]\n"
          ],
          "name": "stdout"
        },
        {
          "output_type": "display_data",
          "data": {
            "image/png": "[encoded data removed]",
            "text/plain": [
              "<Figure size 432x288 with 2 Axes>"
            ]
          },
          "metadata": {
            "tags": [],
            "needs_background": "light"
          }
        }
      ]
    },
    {
      "cell_type": "markdown",
      "metadata": {
        "id": "_AeJCcZ5CBrz"
      },
      "source": [
        "## Σύγκριση και Συμπεράσματα \n",
        "\n",
        "Στην συνέχεια της βελτιστοποίσης, δείχνουμε στον παρακάτω πίνακα τους χρόνους εκπαίδευσης του κάθε ταξινομητή. Επισημαίνουμε την σημασία που έχει στην ικανότητα σύγκλισης των SVM η κατάλληλη επιλογή συνάρτησης πυρήνα. Μόνο ο πυρήνας RBF επιτυγχάνει ικανοποιητική σύγκλιση, και μάλιστα η βελτριστοποίηση του dataset δεν συνεισφέρει όσο η σωστή επιλογή πυρήνα. \n",
        "\n",
        "| Classifier              | Training Time (No Optimization) | Train Time (Cross Validation) |\n",
        "|-------------------------|---------------------------------|-------------------------------|\n",
        "| Dummy                   | 0:00:00.00168                   | 0:03:15.344                |\n",
        "| Gaussian Naive Bayesian | 0:00:00.04299                   | 0:00:48.745                |\n",
        "| KNN                     | 0:00:00.17713                   | 6:22:13.369                |\n",
        "| MLP                     | 0:00:06.97842                   | 5:34:49.529                |\n",
        "| Support Vector (RBF)    | 0:00:02.281518                  | 0:33:45.318                |\n",
        "| Support Vector (Poly)   |                                 | 2:17:54.519                |\n",
        "| Support Vector (Lin)    |                                 | 5:40:33.045                |\n",
        "\n",
        "Επιπλέον στα διαγράμματα που ακολουθούν δείχνουμε τις μετρικές f1 micro και macro για καθέναν από τους βελτιστοποιημένους ταξινομητές, και στην συνέχεια δείχνουμε την αύξηση της απόδοσης των ταξινομητών με χρήση των τεχνικών προεπεξεργασίας και grid search."
      ]
    },
    {
      "cell_type": "code",
      "metadata": {
        "id": "xjLE8TDYxi3O"
      },
      "source": [
        "f1_best_macro = [0.45119329430497873,0.945604652853197,0.8824752746443931, 0.9503614703187049, 0.6860570764431958,0.78704849, 0.96179007]\n",
        "f1_best_micro = [0.49130434782608695,0.9657971014492753,0.9359420289855073,0.9503614703187049,0.8460869565217393,0.89217391,0.97565217]"
      ],
      "execution_count": null,
      "outputs": []
    },
    {
      "cell_type": "code",
      "metadata": {
        "id": "e-Yx5nQmULSw",
        "colab": {
          "base_uri": "https://localhost:8080/",
          "height": 542
        },
        "outputId": "9b49d1cd-bb6b-4260-961f-ffb437d8cfda"
      },
      "source": [
        "classifiers = ['Dummy', 'GNB','KNN','MLP','Linear SVC','Poly SVC','RBF SVC']\n",
        "\n",
        "fig = go.Figure([\n",
        "    go.Bar(name='Macro',x=classifiers, y=f1_best_macro,\n",
        "          text=f1_best_macro),\n",
        "    go.Bar(name='Micro',x=classifiers, y=f1_best_micro,\n",
        "          text=f1_best_micro)\n",
        "])\n",
        "fig.update_traces(texttemplate='%{text:.3p}',\n",
        "                  textposition='outside')\n",
        "fig.update_layout(\n",
        "    title_text='F1 Average Scores after CV',\n",
        "    xaxis_title='Classifier',\n",
        "    legend_title='Averaging Strategy'\n",
        ")\n",
        "fig.show()"
      ],
      "execution_count": null,
      "outputs": [
        {
          "output_type": "display_data",
          "data": {
            "text/html": [
              "<html>\n",
              "<head><meta charset=\"utf-8\" /></head>\n",
              "<body>\n",
              "    <div>            <script src=\"https://cdnjs.cloudflare.com/ajax/libs/mathjax/2.7.5/MathJax.js?config=TeX-AMS-MML_SVG\"></script><script type=\"text/javascript\">if (window.MathJax) {MathJax.Hub.Config({SVG: {font: \"STIX-Web\"}});}</script>                <script type=\"text/javascript\">window.PlotlyConfig = {MathJaxConfig: 'local'};</script>\n",
              "        <script src=\"https://cdn.plot.ly/plotly-latest.min.js\"></script>                <div id=\"f81daa47-a961-4d61-97c7-cc6abb770642\" class=\"plotly-graph-div\" style=\"height:525px; width:100%;\"></div>            <script type=\"text/javascript\">                                    window.PLOTLYENV=window.PLOTLYENV || {};                                    if (document.getElementById(\"f81daa47-a961-4d61-97c7-cc6abb770642\")) {                    Plotly.newPlot(                        \"f81daa47-a961-4d61-97c7-cc6abb770642\",                        [{\"name\": \"Macro\", \"text\": [\"0.45119329430497873\", \"0.945604652853197\", \"0.8824752746443931\", \"0.9503614703187049\", \"0.6860570764431958\", \"0.78704849\", \"0.96179007\"], \"textposition\": \"outside\", \"texttemplate\": \"%{text:.3p}\", \"type\": \"bar\", \"x\": [\"Dummy\", \"GNB\", \"KNN\", \"MLP\", \"Linear SVC\", \"Poly SVC\", \"RBF SVC\"], \"y\": [0.45119329430497873, 0.945604652853197, 0.8824752746443931, 0.9503614703187049, 0.6860570764431958, 0.78704849, 0.96179007]}, {\"name\": \"Micro\", \"text\": [\"0.49130434782608695\", \"0.9657971014492753\", \"0.9359420289855073\", \"0.9503614703187049\", \"0.8460869565217393\", \"0.89217391\", \"0.97565217\"], \"textposition\": \"outside\", \"texttemplate\": \"%{text:.3p}\", \"type\": \"bar\", \"x\": [\"Dummy\", \"GNB\", \"KNN\", \"MLP\", \"Linear SVC\", \"Poly SVC\", \"RBF SVC\"], \"y\": [0.49130434782608695, 0.9657971014492753, 0.9359420289855073, 0.9503614703187049, 0.8460869565217393, 0.89217391, 0.97565217]}],                        {\"legend\": {\"title\": {\"text\": \"Averaging Strategy\"}}, \"template\": {\"data\": {\"bar\": [{\"error_x\": {\"color\": \"#2a3f5f\"}, \"error_y\": {\"color\": \"#2a3f5f\"}, \"marker\": {\"line\": {\"color\": \"#E5ECF6\", \"width\": 0.5}}, \"type\": \"bar\"}], \"barpolar\": [{\"marker\": {\"line\": {\"color\": \"#E5ECF6\", \"width\": 0.5}}, \"type\": \"barpolar\"}], \"carpet\": [{\"aaxis\": {\"endlinecolor\": \"#2a3f5f\", \"gridcolor\": \"white\", \"linecolor\": \"white\", \"minorgridcolor\": \"white\", \"startlinecolor\": \"#2a3f5f\"}, \"baxis\": {\"endlinecolor\": \"#2a3f5f\", \"gridcolor\": \"white\", \"linecolor\": \"white\", \"minorgridcolor\": \"white\", \"startlinecolor\": \"#2a3f5f\"}, \"type\": \"carpet\"}], \"choropleth\": [{\"colorbar\": {\"outlinewidth\": 0, \"ticks\": \"\"}, \"type\": \"choropleth\"}], \"contour\": [{\"colorbar\": {\"outlinewidth\": 0, \"ticks\": \"\"}, \"colorscale\": [[0.0, \"#0d0887\"], [0.1111111111111111, \"#46039f\"], [0.2222222222222222, \"#7201a8\"], [0.3333333333333333, \"#9c179e\"], [0.4444444444444444, \"#bd3786\"], [0.5555555555555556, \"#d8576b\"], [0.6666666666666666, \"#ed7953\"], [0.7777777777777778, \"#fb9f3a\"], [0.8888888888888888, \"#fdca26\"], [1.0, \"#f0f921\"]], \"type\": \"contour\"}], \"contourcarpet\": [{\"colorbar\": {\"outlinewidth\": 0, \"ticks\": \"\"}, \"type\": \"contourcarpet\"}], \"heatmap\": [{\"colorbar\": {\"outlinewidth\": 0, \"ticks\": \"\"}, \"colorscale\": [[0.0, \"#0d0887\"], [0.1111111111111111, \"#46039f\"], [0.2222222222222222, \"#7201a8\"], [0.3333333333333333, \"#9c179e\"], [0.4444444444444444, \"#bd3786\"], [0.5555555555555556, \"#d8576b\"], [0.6666666666666666, \"#ed7953\"], [0.7777777777777778, \"#fb9f3a\"], [0.8888888888888888, \"#fdca26\"], [1.0, \"#f0f921\"]], \"type\": \"heatmap\"}], \"heatmapgl\": [{\"colorbar\": {\"outlinewidth\": 0, \"ticks\": \"\"}, \"colorscale\": [[0.0, \"#0d0887\"], [0.1111111111111111, \"#46039f\"], [0.2222222222222222, \"#7201a8\"], [0.3333333333333333, \"#9c179e\"], [0.4444444444444444, \"#bd3786\"], [0.5555555555555556, \"#d8576b\"], [0.6666666666666666, \"#ed7953\"], [0.7777777777777778, \"#fb9f3a\"], [0.8888888888888888, \"#fdca26\"], [1.0, \"#f0f921\"]], \"type\": \"heatmapgl\"}], \"histogram\": [{\"marker\": {\"colorbar\": {\"outlinewidth\": 0, \"ticks\": \"\"}}, \"type\": \"histogram\"}], \"histogram2d\": [{\"colorbar\": {\"outlinewidth\": 0, \"ticks\": \"\"}, \"colorscale\": [[0.0, \"#0d0887\"], [0.1111111111111111, \"#46039f\"], [0.2222222222222222, \"#7201a8\"], [0.3333333333333333, \"#9c179e\"], [0.4444444444444444, \"#bd3786\"], [0.5555555555555556, \"#d8576b\"], [0.6666666666666666, \"#ed7953\"], [0.7777777777777778, \"#fb9f3a\"], [0.8888888888888888, \"#fdca26\"], [1.0, \"#f0f921\"]], \"type\": \"histogram2d\"}], \"histogram2dcontour\": [{\"colorbar\": {\"outlinewidth\": 0, \"ticks\": \"\"}, \"colorscale\": [[0.0, \"#0d0887\"], [0.1111111111111111, \"#46039f\"], [0.2222222222222222, \"#7201a8\"], [0.3333333333333333, \"#9c179e\"], [0.4444444444444444, \"#bd3786\"], [0.5555555555555556, \"#d8576b\"], [0.6666666666666666, \"#ed7953\"], [0.7777777777777778, \"#fb9f3a\"], [0.8888888888888888, \"#fdca26\"], [1.0, \"#f0f921\"]], \"type\": \"histogram2dcontour\"}], \"mesh3d\": [{\"colorbar\": {\"outlinewidth\": 0, \"ticks\": \"\"}, \"type\": \"mesh3d\"}], \"parcoords\": [{\"line\": {\"colorbar\": {\"outlinewidth\": 0, \"ticks\": \"\"}}, \"type\": \"parcoords\"}], \"pie\": [{\"automargin\": true, \"type\": \"pie\"}], \"scatter\": [{\"marker\": {\"colorbar\": {\"outlinewidth\": 0, \"ticks\": \"\"}}, \"type\": \"scatter\"}], \"scatter3d\": [{\"line\": {\"colorbar\": {\"outlinewidth\": 0, \"ticks\": \"\"}}, \"marker\": {\"colorbar\": {\"outlinewidth\": 0, \"ticks\": \"\"}}, \"type\": \"scatter3d\"}], \"scattercarpet\": [{\"marker\": {\"colorbar\": {\"outlinewidth\": 0, \"ticks\": \"\"}}, \"type\": \"scattercarpet\"}], \"scattergeo\": [{\"marker\": {\"colorbar\": {\"outlinewidth\": 0, \"ticks\": \"\"}}, \"type\": \"scattergeo\"}], \"scattergl\": [{\"marker\": {\"colorbar\": {\"outlinewidth\": 0, \"ticks\": \"\"}}, \"type\": \"scattergl\"}], \"scattermapbox\": [{\"marker\": {\"colorbar\": {\"outlinewidth\": 0, \"ticks\": \"\"}}, \"type\": \"scattermapbox\"}], \"scatterpolar\": [{\"marker\": {\"colorbar\": {\"outlinewidth\": 0, \"ticks\": \"\"}}, \"type\": \"scatterpolar\"}], \"scatterpolargl\": [{\"marker\": {\"colorbar\": {\"outlinewidth\": 0, \"ticks\": \"\"}}, \"type\": \"scatterpolargl\"}], \"scatterternary\": [{\"marker\": {\"colorbar\": {\"outlinewidth\": 0, \"ticks\": \"\"}}, \"type\": \"scatterternary\"}], \"surface\": [{\"colorbar\": {\"outlinewidth\": 0, \"ticks\": \"\"}, \"colorscale\": [[0.0, \"#0d0887\"], [0.1111111111111111, \"#46039f\"], [0.2222222222222222, \"#7201a8\"], [0.3333333333333333, \"#9c179e\"], [0.4444444444444444, \"#bd3786\"], [0.5555555555555556, \"#d8576b\"], [0.6666666666666666, \"#ed7953\"], [0.7777777777777778, \"#fb9f3a\"], [0.8888888888888888, \"#fdca26\"], [1.0, \"#f0f921\"]], \"type\": \"surface\"}], \"table\": [{\"cells\": {\"fill\": {\"color\": \"#EBF0F8\"}, \"line\": {\"color\": \"white\"}}, \"header\": {\"fill\": {\"color\": \"#C8D4E3\"}, \"line\": {\"color\": \"white\"}}, \"type\": \"table\"}]}, \"layout\": {\"annotationdefaults\": {\"arrowcolor\": \"#2a3f5f\", \"arrowhead\": 0, \"arrowwidth\": 1}, \"coloraxis\": {\"colorbar\": {\"outlinewidth\": 0, \"ticks\": \"\"}}, \"colorscale\": {\"diverging\": [[0, \"#8e0152\"], [0.1, \"#c51b7d\"], [0.2, \"#de77ae\"], [0.3, \"#f1b6da\"], [0.4, \"#fde0ef\"], [0.5, \"#f7f7f7\"], [0.6, \"#e6f5d0\"], [0.7, \"#b8e186\"], [0.8, \"#7fbc41\"], [0.9, \"#4d9221\"], [1, \"#276419\"]], \"sequential\": [[0.0, \"#0d0887\"], [0.1111111111111111, \"#46039f\"], [0.2222222222222222, \"#7201a8\"], [0.3333333333333333, \"#9c179e\"], [0.4444444444444444, \"#bd3786\"], [0.5555555555555556, \"#d8576b\"], [0.6666666666666666, \"#ed7953\"], [0.7777777777777778, \"#fb9f3a\"], [0.8888888888888888, \"#fdca26\"], [1.0, \"#f0f921\"]], \"sequentialminus\": [[0.0, \"#0d0887\"], [0.1111111111111111, \"#46039f\"], [0.2222222222222222, \"#7201a8\"], [0.3333333333333333, \"#9c179e\"], [0.4444444444444444, \"#bd3786\"], [0.5555555555555556, \"#d8576b\"], [0.6666666666666666, \"#ed7953\"], [0.7777777777777778, \"#fb9f3a\"], [0.8888888888888888, \"#fdca26\"], [1.0, \"#f0f921\"]]}, \"colorway\": [\"#636efa\", \"#EF553B\", \"#00cc96\", \"#ab63fa\", \"#FFA15A\", \"#19d3f3\", \"#FF6692\", \"#B6E880\", \"#FF97FF\", \"#FECB52\"], \"font\": {\"color\": \"#2a3f5f\"}, \"geo\": {\"bgcolor\": \"white\", \"lakecolor\": \"white\", \"landcolor\": \"#E5ECF6\", \"showlakes\": true, \"showland\": true, \"subunitcolor\": \"white\"}, \"hoverlabel\": {\"align\": \"left\"}, \"hovermode\": \"closest\", \"mapbox\": {\"style\": \"light\"}, \"paper_bgcolor\": \"white\", \"plot_bgcolor\": \"#E5ECF6\", \"polar\": {\"angularaxis\": {\"gridcolor\": \"white\", \"linecolor\": \"white\", \"ticks\": \"\"}, \"bgcolor\": \"#E5ECF6\", \"radialaxis\": {\"gridcolor\": \"white\", \"linecolor\": \"white\", \"ticks\": \"\"}}, \"scene\": {\"xaxis\": {\"backgroundcolor\": \"#E5ECF6\", \"gridcolor\": \"white\", \"gridwidth\": 2, \"linecolor\": \"white\", \"showbackground\": true, \"ticks\": \"\", \"zerolinecolor\": \"white\"}, \"yaxis\": {\"backgroundcolor\": \"#E5ECF6\", \"gridcolor\": \"white\", \"gridwidth\": 2, \"linecolor\": \"white\", \"showbackground\": true, \"ticks\": \"\", \"zerolinecolor\": \"white\"}, \"zaxis\": {\"backgroundcolor\": \"#E5ECF6\", \"gridcolor\": \"white\", \"gridwidth\": 2, \"linecolor\": \"white\", \"showbackground\": true, \"ticks\": \"\", \"zerolinecolor\": \"white\"}}, \"shapedefaults\": {\"line\": {\"color\": \"#2a3f5f\"}}, \"ternary\": {\"aaxis\": {\"gridcolor\": \"white\", \"linecolor\": \"white\", \"ticks\": \"\"}, \"baxis\": {\"gridcolor\": \"white\", \"linecolor\": \"white\", \"ticks\": \"\"}, \"bgcolor\": \"#E5ECF6\", \"caxis\": {\"gridcolor\": \"white\", \"linecolor\": \"white\", \"ticks\": \"\"}}, \"title\": {\"x\": 0.05}, \"xaxis\": {\"automargin\": true, \"gridcolor\": \"white\", \"linecolor\": \"white\", \"ticks\": \"\", \"title\": {\"standoff\": 15}, \"zerolinecolor\": \"white\", \"zerolinewidth\": 2}, \"yaxis\": {\"automargin\": true, \"gridcolor\": \"white\", \"linecolor\": \"white\", \"ticks\": \"\", \"title\": {\"standoff\": 15}, \"zerolinecolor\": \"white\", \"zerolinewidth\": 2}}}, \"title\": {\"text\": \"F1 Average Scores after CV\"}, \"xaxis\": {\"title\": {\"text\": \"Classifier\"}}},                        {\"responsive\": true}                    ).then(function(){\n",
              "                            \n",
              "var gd = document.getElementById('f81daa47-a961-4d61-97c7-cc6abb770642');\n",
              "var x = new MutationObserver(function (mutations, observer) {{\n",
              "        var display = window.getComputedStyle(gd).display;\n",
              "        if (!display || display === 'none') {{\n",
              "            console.log([gd, 'removed!']);\n",
              "            Plotly.purge(gd);\n",
              "            observer.disconnect();\n",
              "        }}\n",
              "}});\n",
              "\n",
              "// Listen for the removal of the full notebook cells\n",
              "var notebookContainer = gd.closest('#notebook-container');\n",
              "if (notebookContainer) {{\n",
              "    x.observe(notebookContainer, {childList: true});\n",
              "}}\n",
              "\n",
              "// Listen for the clearing of the current output cell\n",
              "var outputEl = gd.closest('.output');\n",
              "if (outputEl) {{\n",
              "    x.observe(outputEl, {childList: true});\n",
              "}}\n",
              "\n",
              "                        })                };                            </script>        </div>\n",
              "</body>\n",
              "</html>"
            ]
          },
          "metadata": {
            "tags": []
          }
        }
      ]
    },
    {
      "cell_type": "markdown",
      "metadata": {
        "id": "Mw-HF87SULSw"
      },
      "source": [
        "Ακολουθεί σύγκριση των μετρικών απόδοσης κάθε ταξινομητή πριν και μετά την βελτιστοποίηση. Το ύψος της μπάρας δίνει σε κάθε διάγραμμα την απόλυτη τιμή της μέτρησης, ενώ το ποσοστό που αναγράφεται είναι η μεταβολή της μετρικής σε σχέση με την baseline μέτρηση."
      ]
    },
    {
      "cell_type": "code",
      "metadata": {
        "id": "QdX1RKjHULSw",
        "colab": {
          "base_uri": "https://localhost:8080/",
          "height": 542
        },
        "outputId": "969e5205-9e9e-497b-83ea-6d39545083e2"
      },
      "source": [
        "fig = go.Figure([\n",
        "    go.Bar(name='Macro', x=['Baseline','Optimized'], y=[f1_scores_macro[0], f1_best_macro[0]],\n",
        "          text=np.array([f1_scores_macro[0], f1_best_macro[0]]/f1_scores_macro[0])),\n",
        "    go.Bar(name='Micro', x=['Baseline','Optimized'], y=[f1_scores_micro[0], f1_best_micro[0]],\n",
        "          text=np.array([f1_scores_micro[0], f1_best_micro[0]]/f1_scores_micro[0]))\n",
        "])\n",
        "fig.update_traces(texttemplate='%{text:.3p} base',\n",
        "                  textposition='outside')\n",
        "fig.update_layout(\n",
        "    title_text='F1 Score Increase for Dummy',\n",
        "    legend_title='Averaging Strategy'\n",
        ")"
      ],
      "execution_count": null,
      "outputs": [
        {
          "output_type": "display_data",
          "data": {
            "text/html": [
              "<html>\n",
              "<head><meta charset=\"utf-8\" /></head>\n",
              "<body>\n",
              "    <div>            <script src=\"https://cdnjs.cloudflare.com/ajax/libs/mathjax/2.7.5/MathJax.js?config=TeX-AMS-MML_SVG\"></script><script type=\"text/javascript\">if (window.MathJax) {MathJax.Hub.Config({SVG: {font: \"STIX-Web\"}});}</script>                <script type=\"text/javascript\">window.PlotlyConfig = {MathJaxConfig: 'local'};</script>\n",
              "        <script src=\"https://cdn.plot.ly/plotly-latest.min.js\"></script>                <div id=\"2bd2ed62-0268-45af-ac0f-fdfeb0f89c00\" class=\"plotly-graph-div\" style=\"height:525px; width:100%;\"></div>            <script type=\"text/javascript\">                                    window.PLOTLYENV=window.PLOTLYENV || {};                                    if (document.getElementById(\"2bd2ed62-0268-45af-ac0f-fdfeb0f89c00\")) {                    Plotly.newPlot(                        \"2bd2ed62-0268-45af-ac0f-fdfeb0f89c00\",                        [{\"name\": \"Macro\", \"text\": [1.0, 1.0177392168347248], \"textposition\": \"outside\", \"texttemplate\": \"%{text:.3p} base\", \"type\": \"bar\", \"x\": [\"Baseline\", \"Optimized\"], \"y\": [0.4433289853055255, 0.45119329430497873]}, {\"name\": \"Micro\", \"text\": [1.0, 0.995302407516148], \"textposition\": \"outside\", \"texttemplate\": \"%{text:.3p} base\", \"type\": \"bar\", \"x\": [\"Baseline\", \"Optimized\"], \"y\": [0.4936231884057971, 0.49130434782608695]}],                        {\"legend\": {\"title\": {\"text\": \"Averaging Strategy\"}}, \"template\": {\"data\": {\"bar\": [{\"error_x\": {\"color\": \"#2a3f5f\"}, \"error_y\": {\"color\": \"#2a3f5f\"}, \"marker\": {\"line\": {\"color\": \"#E5ECF6\", \"width\": 0.5}}, \"type\": \"bar\"}], \"barpolar\": [{\"marker\": {\"line\": {\"color\": \"#E5ECF6\", \"width\": 0.5}}, \"type\": \"barpolar\"}], \"carpet\": [{\"aaxis\": {\"endlinecolor\": \"#2a3f5f\", \"gridcolor\": \"white\", \"linecolor\": \"white\", \"minorgridcolor\": \"white\", \"startlinecolor\": \"#2a3f5f\"}, \"baxis\": {\"endlinecolor\": \"#2a3f5f\", \"gridcolor\": \"white\", \"linecolor\": \"white\", \"minorgridcolor\": \"white\", \"startlinecolor\": \"#2a3f5f\"}, \"type\": \"carpet\"}], \"choropleth\": [{\"colorbar\": {\"outlinewidth\": 0, \"ticks\": \"\"}, \"type\": \"choropleth\"}], \"contour\": [{\"colorbar\": {\"outlinewidth\": 0, \"ticks\": \"\"}, \"colorscale\": [[0.0, \"#0d0887\"], [0.1111111111111111, \"#46039f\"], [0.2222222222222222, \"#7201a8\"], [0.3333333333333333, \"#9c179e\"], [0.4444444444444444, \"#bd3786\"], [0.5555555555555556, \"#d8576b\"], [0.6666666666666666, \"#ed7953\"], [0.7777777777777778, \"#fb9f3a\"], [0.8888888888888888, \"#fdca26\"], [1.0, \"#f0f921\"]], \"type\": \"contour\"}], \"contourcarpet\": [{\"colorbar\": {\"outlinewidth\": 0, \"ticks\": \"\"}, \"type\": \"contourcarpet\"}], \"heatmap\": [{\"colorbar\": {\"outlinewidth\": 0, \"ticks\": \"\"}, \"colorscale\": [[0.0, \"#0d0887\"], [0.1111111111111111, \"#46039f\"], [0.2222222222222222, \"#7201a8\"], [0.3333333333333333, \"#9c179e\"], [0.4444444444444444, \"#bd3786\"], [0.5555555555555556, \"#d8576b\"], [0.6666666666666666, \"#ed7953\"], [0.7777777777777778, \"#fb9f3a\"], [0.8888888888888888, \"#fdca26\"], [1.0, \"#f0f921\"]], \"type\": \"heatmap\"}], \"heatmapgl\": [{\"colorbar\": {\"outlinewidth\": 0, \"ticks\": \"\"}, \"colorscale\": [[0.0, \"#0d0887\"], [0.1111111111111111, \"#46039f\"], [0.2222222222222222, \"#7201a8\"], [0.3333333333333333, \"#9c179e\"], [0.4444444444444444, \"#bd3786\"], [0.5555555555555556, \"#d8576b\"], [0.6666666666666666, \"#ed7953\"], [0.7777777777777778, \"#fb9f3a\"], [0.8888888888888888, \"#fdca26\"], [1.0, \"#f0f921\"]], \"type\": \"heatmapgl\"}], \"histogram\": [{\"marker\": {\"colorbar\": {\"outlinewidth\": 0, \"ticks\": \"\"}}, \"type\": \"histogram\"}], \"histogram2d\": [{\"colorbar\": {\"outlinewidth\": 0, \"ticks\": \"\"}, \"colorscale\": [[0.0, \"#0d0887\"], [0.1111111111111111, \"#46039f\"], [0.2222222222222222, \"#7201a8\"], [0.3333333333333333, \"#9c179e\"], [0.4444444444444444, \"#bd3786\"], [0.5555555555555556, \"#d8576b\"], [0.6666666666666666, \"#ed7953\"], [0.7777777777777778, \"#fb9f3a\"], [0.8888888888888888, \"#fdca26\"], [1.0, \"#f0f921\"]], \"type\": \"histogram2d\"}], \"histogram2dcontour\": [{\"colorbar\": {\"outlinewidth\": 0, \"ticks\": \"\"}, \"colorscale\": [[0.0, \"#0d0887\"], [0.1111111111111111, \"#46039f\"], [0.2222222222222222, \"#7201a8\"], [0.3333333333333333, \"#9c179e\"], [0.4444444444444444, \"#bd3786\"], [0.5555555555555556, \"#d8576b\"], [0.6666666666666666, \"#ed7953\"], [0.7777777777777778, \"#fb9f3a\"], [0.8888888888888888, \"#fdca26\"], [1.0, \"#f0f921\"]], \"type\": \"histogram2dcontour\"}], \"mesh3d\": [{\"colorbar\": {\"outlinewidth\": 0, \"ticks\": \"\"}, \"type\": \"mesh3d\"}], \"parcoords\": [{\"line\": {\"colorbar\": {\"outlinewidth\": 0, \"ticks\": \"\"}}, \"type\": \"parcoords\"}], \"pie\": [{\"automargin\": true, \"type\": \"pie\"}], \"scatter\": [{\"marker\": {\"colorbar\": {\"outlinewidth\": 0, \"ticks\": \"\"}}, \"type\": \"scatter\"}], \"scatter3d\": [{\"line\": {\"colorbar\": {\"outlinewidth\": 0, \"ticks\": \"\"}}, \"marker\": {\"colorbar\": {\"outlinewidth\": 0, \"ticks\": \"\"}}, \"type\": \"scatter3d\"}], \"scattercarpet\": [{\"marker\": {\"colorbar\": {\"outlinewidth\": 0, \"ticks\": \"\"}}, \"type\": \"scattercarpet\"}], \"scattergeo\": [{\"marker\": {\"colorbar\": {\"outlinewidth\": 0, \"ticks\": \"\"}}, \"type\": \"scattergeo\"}], \"scattergl\": [{\"marker\": {\"colorbar\": {\"outlinewidth\": 0, \"ticks\": \"\"}}, \"type\": \"scattergl\"}], \"scattermapbox\": [{\"marker\": {\"colorbar\": {\"outlinewidth\": 0, \"ticks\": \"\"}}, \"type\": \"scattermapbox\"}], \"scatterpolar\": [{\"marker\": {\"colorbar\": {\"outlinewidth\": 0, \"ticks\": \"\"}}, \"type\": \"scatterpolar\"}], \"scatterpolargl\": [{\"marker\": {\"colorbar\": {\"outlinewidth\": 0, \"ticks\": \"\"}}, \"type\": \"scatterpolargl\"}], \"scatterternary\": [{\"marker\": {\"colorbar\": {\"outlinewidth\": 0, \"ticks\": \"\"}}, \"type\": \"scatterternary\"}], \"surface\": [{\"colorbar\": {\"outlinewidth\": 0, \"ticks\": \"\"}, \"colorscale\": [[0.0, \"#0d0887\"], [0.1111111111111111, \"#46039f\"], [0.2222222222222222, \"#7201a8\"], [0.3333333333333333, \"#9c179e\"], [0.4444444444444444, \"#bd3786\"], [0.5555555555555556, \"#d8576b\"], [0.6666666666666666, \"#ed7953\"], [0.7777777777777778, \"#fb9f3a\"], [0.8888888888888888, \"#fdca26\"], [1.0, \"#f0f921\"]], \"type\": \"surface\"}], \"table\": [{\"cells\": {\"fill\": {\"color\": \"#EBF0F8\"}, \"line\": {\"color\": \"white\"}}, \"header\": {\"fill\": {\"color\": \"#C8D4E3\"}, \"line\": {\"color\": \"white\"}}, \"type\": \"table\"}]}, \"layout\": {\"annotationdefaults\": {\"arrowcolor\": \"#2a3f5f\", \"arrowhead\": 0, \"arrowwidth\": 1}, \"coloraxis\": {\"colorbar\": {\"outlinewidth\": 0, \"ticks\": \"\"}}, \"colorscale\": {\"diverging\": [[0, \"#8e0152\"], [0.1, \"#c51b7d\"], [0.2, \"#de77ae\"], [0.3, \"#f1b6da\"], [0.4, \"#fde0ef\"], [0.5, \"#f7f7f7\"], [0.6, \"#e6f5d0\"], [0.7, \"#b8e186\"], [0.8, \"#7fbc41\"], [0.9, \"#4d9221\"], [1, \"#276419\"]], \"sequential\": [[0.0, \"#0d0887\"], [0.1111111111111111, \"#46039f\"], [0.2222222222222222, \"#7201a8\"], [0.3333333333333333, \"#9c179e\"], [0.4444444444444444, \"#bd3786\"], [0.5555555555555556, \"#d8576b\"], [0.6666666666666666, \"#ed7953\"], [0.7777777777777778, \"#fb9f3a\"], [0.8888888888888888, \"#fdca26\"], [1.0, \"#f0f921\"]], \"sequentialminus\": [[0.0, \"#0d0887\"], [0.1111111111111111, \"#46039f\"], [0.2222222222222222, \"#7201a8\"], [0.3333333333333333, \"#9c179e\"], [0.4444444444444444, \"#bd3786\"], [0.5555555555555556, \"#d8576b\"], [0.6666666666666666, \"#ed7953\"], [0.7777777777777778, \"#fb9f3a\"], [0.8888888888888888, \"#fdca26\"], [1.0, \"#f0f921\"]]}, \"colorway\": [\"#636efa\", \"#EF553B\", \"#00cc96\", \"#ab63fa\", \"#FFA15A\", \"#19d3f3\", \"#FF6692\", \"#B6E880\", \"#FF97FF\", \"#FECB52\"], \"font\": {\"color\": \"#2a3f5f\"}, \"geo\": {\"bgcolor\": \"white\", \"lakecolor\": \"white\", \"landcolor\": \"#E5ECF6\", \"showlakes\": true, \"showland\": true, \"subunitcolor\": \"white\"}, \"hoverlabel\": {\"align\": \"left\"}, \"hovermode\": \"closest\", \"mapbox\": {\"style\": \"light\"}, \"paper_bgcolor\": \"white\", \"plot_bgcolor\": \"#E5ECF6\", \"polar\": {\"angularaxis\": {\"gridcolor\": \"white\", \"linecolor\": \"white\", \"ticks\": \"\"}, \"bgcolor\": \"#E5ECF6\", \"radialaxis\": {\"gridcolor\": \"white\", \"linecolor\": \"white\", \"ticks\": \"\"}}, \"scene\": {\"xaxis\": {\"backgroundcolor\": \"#E5ECF6\", \"gridcolor\": \"white\", \"gridwidth\": 2, \"linecolor\": \"white\", \"showbackground\": true, \"ticks\": \"\", \"zerolinecolor\": \"white\"}, \"yaxis\": {\"backgroundcolor\": \"#E5ECF6\", \"gridcolor\": \"white\", \"gridwidth\": 2, \"linecolor\": \"white\", \"showbackground\": true, \"ticks\": \"\", \"zerolinecolor\": \"white\"}, \"zaxis\": {\"backgroundcolor\": \"#E5ECF6\", \"gridcolor\": \"white\", \"gridwidth\": 2, \"linecolor\": \"white\", \"showbackground\": true, \"ticks\": \"\", \"zerolinecolor\": \"white\"}}, \"shapedefaults\": {\"line\": {\"color\": \"#2a3f5f\"}}, \"ternary\": {\"aaxis\": {\"gridcolor\": \"white\", \"linecolor\": \"white\", \"ticks\": \"\"}, \"baxis\": {\"gridcolor\": \"white\", \"linecolor\": \"white\", \"ticks\": \"\"}, \"bgcolor\": \"#E5ECF6\", \"caxis\": {\"gridcolor\": \"white\", \"linecolor\": \"white\", \"ticks\": \"\"}}, \"title\": {\"x\": 0.05}, \"xaxis\": {\"automargin\": true, \"gridcolor\": \"white\", \"linecolor\": \"white\", \"ticks\": \"\", \"title\": {\"standoff\": 15}, \"zerolinecolor\": \"white\", \"zerolinewidth\": 2}, \"yaxis\": {\"automargin\": true, \"gridcolor\": \"white\", \"linecolor\": \"white\", \"ticks\": \"\", \"title\": {\"standoff\": 15}, \"zerolinecolor\": \"white\", \"zerolinewidth\": 2}}}, \"title\": {\"text\": \"F1 Score Increase for Dummy\"}},                        {\"responsive\": true}                    ).then(function(){\n",
              "                            \n",
              "var gd = document.getElementById('2bd2ed62-0268-45af-ac0f-fdfeb0f89c00');\n",
              "var x = new MutationObserver(function (mutations, observer) {{\n",
              "        var display = window.getComputedStyle(gd).display;\n",
              "        if (!display || display === 'none') {{\n",
              "            console.log([gd, 'removed!']);\n",
              "            Plotly.purge(gd);\n",
              "            observer.disconnect();\n",
              "        }}\n",
              "}});\n",
              "\n",
              "// Listen for the removal of the full notebook cells\n",
              "var notebookContainer = gd.closest('#notebook-container');\n",
              "if (notebookContainer) {{\n",
              "    x.observe(notebookContainer, {childList: true});\n",
              "}}\n",
              "\n",
              "// Listen for the clearing of the current output cell\n",
              "var outputEl = gd.closest('.output');\n",
              "if (outputEl) {{\n",
              "    x.observe(outputEl, {childList: true});\n",
              "}}\n",
              "\n",
              "                        })                };                            </script>        </div>\n",
              "</body>\n",
              "</html>"
            ]
          },
          "metadata": {
            "tags": []
          }
        }
      ]
    },
    {
      "cell_type": "markdown",
      "metadata": {
        "id": "8gZYrfqrULSx"
      },
      "source": [
        "Στο παραπάνω σχήμα φαίνεται εντυπωσιακά ότι η απόδοση του dummy classifier έχει πέσει από το baseline μετά την εφαρμογή προεπεξεργασίας. Θεωρούμε οτι αυτό οφείλεται 1) στην εφαρμογή PCA στο dataset και άρα στην μείωση των διαθέσιμων χαρακτηριστικών για την εκπαίδευση του dummy και 2) στο oversampling που εξισορρόπησε τις δυο κλάσσεις, και άρα δεν μπόρεσε ο ταξινομητής να εκπαιδευτεί στην πιθανότητα εμφάνισης της κάθε μιας."
      ]
    },
    {
      "cell_type": "code",
      "metadata": {
        "id": "eUAUWmJ0ULSx",
        "colab": {
          "base_uri": "https://localhost:8080/",
          "height": 542
        },
        "outputId": "85a16926-b0c4-48e0-acdc-e22aad1033aa"
      },
      "source": [
        "i=1\n",
        "fig = go.Figure([\n",
        "    go.Bar(name='Macro', x=['Baseline','Optimized'], y=[f1_scores_macro[i], f1_best_macro[i]],\n",
        "          text=np.array([f1_scores_macro[i], f1_best_macro[i]]/f1_scores_macro[i])),\n",
        "    go.Bar(name='Micro', x=['Baseline','Optimized'], y=[f1_scores_micro[i], f1_best_micro[i]],\n",
        "          text=np.array([f1_scores_micro[i], f1_best_micro[i]]/f1_scores_micro[i]))\n",
        "])\n",
        "fig.update_traces(texttemplate='%{text:.3p} base',\n",
        "                  textposition='outside')\n",
        "fig.update_layout(\n",
        "    title_text='F1 Score Increase for GNB',\n",
        "    legend_title='Averaging Strategy'\n",
        ")"
      ],
      "execution_count": null,
      "outputs": [
        {
          "output_type": "display_data",
          "data": {
            "text/html": [
              "<html>\n",
              "<head><meta charset=\"utf-8\" /></head>\n",
              "<body>\n",
              "    <div>            <script src=\"https://cdnjs.cloudflare.com/ajax/libs/mathjax/2.7.5/MathJax.js?config=TeX-AMS-MML_SVG\"></script><script type=\"text/javascript\">if (window.MathJax) {MathJax.Hub.Config({SVG: {font: \"STIX-Web\"}});}</script>                <script type=\"text/javascript\">window.PlotlyConfig = {MathJaxConfig: 'local'};</script>\n",
              "        <script src=\"https://cdn.plot.ly/plotly-latest.min.js\"></script>                <div id=\"8ddc37f1-20c4-4133-93ba-1d37c4c6a8fd\" class=\"plotly-graph-div\" style=\"height:525px; width:100%;\"></div>            <script type=\"text/javascript\">                                    window.PLOTLYENV=window.PLOTLYENV || {};                                    if (document.getElementById(\"8ddc37f1-20c4-4133-93ba-1d37c4c6a8fd\")) {                    Plotly.newPlot(                        \"8ddc37f1-20c4-4133-93ba-1d37c4c6a8fd\",                        [{\"name\": \"Macro\", \"text\": [1.0, 1.0194172994445376], \"textposition\": \"outside\", \"texttemplate\": \"%{text:.3p} base\", \"type\": \"bar\", \"x\": [\"Baseline\", \"Optimized\"], \"y\": [0.9275932960608381, 0.945604652853197]}, {\"name\": \"Micro\", \"text\": [1.0, 1.0130738826391], \"textposition\": \"outside\", \"texttemplate\": \"%{text:.3p} base\", \"type\": \"bar\", \"x\": [\"Baseline\", \"Optimized\"], \"y\": [0.9533333333333334, 0.9657971014492753]}],                        {\"legend\": {\"title\": {\"text\": \"Averaging Strategy\"}}, \"template\": {\"data\": {\"bar\": [{\"error_x\": {\"color\": \"#2a3f5f\"}, \"error_y\": {\"color\": \"#2a3f5f\"}, \"marker\": {\"line\": {\"color\": \"#E5ECF6\", \"width\": 0.5}}, \"type\": \"bar\"}], \"barpolar\": [{\"marker\": {\"line\": {\"color\": \"#E5ECF6\", \"width\": 0.5}}, \"type\": \"barpolar\"}], \"carpet\": [{\"aaxis\": {\"endlinecolor\": \"#2a3f5f\", \"gridcolor\": \"white\", \"linecolor\": \"white\", \"minorgridcolor\": \"white\", \"startlinecolor\": \"#2a3f5f\"}, \"baxis\": {\"endlinecolor\": \"#2a3f5f\", \"gridcolor\": \"white\", \"linecolor\": \"white\", \"minorgridcolor\": \"white\", \"startlinecolor\": \"#2a3f5f\"}, \"type\": \"carpet\"}], \"choropleth\": [{\"colorbar\": {\"outlinewidth\": 0, \"ticks\": \"\"}, \"type\": \"choropleth\"}], \"contour\": [{\"colorbar\": {\"outlinewidth\": 0, \"ticks\": \"\"}, \"colorscale\": [[0.0, \"#0d0887\"], [0.1111111111111111, \"#46039f\"], [0.2222222222222222, \"#7201a8\"], [0.3333333333333333, \"#9c179e\"], [0.4444444444444444, \"#bd3786\"], [0.5555555555555556, \"#d8576b\"], [0.6666666666666666, \"#ed7953\"], [0.7777777777777778, \"#fb9f3a\"], [0.8888888888888888, \"#fdca26\"], [1.0, \"#f0f921\"]], \"type\": \"contour\"}], \"contourcarpet\": [{\"colorbar\": {\"outlinewidth\": 0, \"ticks\": \"\"}, \"type\": \"contourcarpet\"}], \"heatmap\": [{\"colorbar\": {\"outlinewidth\": 0, \"ticks\": \"\"}, \"colorscale\": [[0.0, \"#0d0887\"], [0.1111111111111111, \"#46039f\"], [0.2222222222222222, \"#7201a8\"], [0.3333333333333333, \"#9c179e\"], [0.4444444444444444, \"#bd3786\"], [0.5555555555555556, \"#d8576b\"], [0.6666666666666666, \"#ed7953\"], [0.7777777777777778, \"#fb9f3a\"], [0.8888888888888888, \"#fdca26\"], [1.0, \"#f0f921\"]], \"type\": \"heatmap\"}], \"heatmapgl\": [{\"colorbar\": {\"outlinewidth\": 0, \"ticks\": \"\"}, \"colorscale\": [[0.0, \"#0d0887\"], [0.1111111111111111, \"#46039f\"], [0.2222222222222222, \"#7201a8\"], [0.3333333333333333, \"#9c179e\"], [0.4444444444444444, \"#bd3786\"], [0.5555555555555556, \"#d8576b\"], [0.6666666666666666, \"#ed7953\"], [0.7777777777777778, \"#fb9f3a\"], [0.8888888888888888, \"#fdca26\"], [1.0, \"#f0f921\"]], \"type\": \"heatmapgl\"}], \"histogram\": [{\"marker\": {\"colorbar\": {\"outlinewidth\": 0, \"ticks\": \"\"}}, \"type\": \"histogram\"}], \"histogram2d\": [{\"colorbar\": {\"outlinewidth\": 0, \"ticks\": \"\"}, \"colorscale\": [[0.0, \"#0d0887\"], [0.1111111111111111, \"#46039f\"], [0.2222222222222222, \"#7201a8\"], [0.3333333333333333, \"#9c179e\"], [0.4444444444444444, \"#bd3786\"], [0.5555555555555556, \"#d8576b\"], [0.6666666666666666, \"#ed7953\"], [0.7777777777777778, \"#fb9f3a\"], [0.8888888888888888, \"#fdca26\"], [1.0, \"#f0f921\"]], \"type\": \"histogram2d\"}], \"histogram2dcontour\": [{\"colorbar\": {\"outlinewidth\": 0, \"ticks\": \"\"}, \"colorscale\": [[0.0, \"#0d0887\"], [0.1111111111111111, \"#46039f\"], [0.2222222222222222, \"#7201a8\"], [0.3333333333333333, \"#9c179e\"], [0.4444444444444444, \"#bd3786\"], [0.5555555555555556, \"#d8576b\"], [0.6666666666666666, \"#ed7953\"], [0.7777777777777778, \"#fb9f3a\"], [0.8888888888888888, \"#fdca26\"], [1.0, \"#f0f921\"]], \"type\": \"histogram2dcontour\"}], \"mesh3d\": [{\"colorbar\": {\"outlinewidth\": 0, \"ticks\": \"\"}, \"type\": \"mesh3d\"}], \"parcoords\": [{\"line\": {\"colorbar\": {\"outlinewidth\": 0, \"ticks\": \"\"}}, \"type\": \"parcoords\"}], \"pie\": [{\"automargin\": true, \"type\": \"pie\"}], \"scatter\": [{\"marker\": {\"colorbar\": {\"outlinewidth\": 0, \"ticks\": \"\"}}, \"type\": \"scatter\"}], \"scatter3d\": [{\"line\": {\"colorbar\": {\"outlinewidth\": 0, \"ticks\": \"\"}}, \"marker\": {\"colorbar\": {\"outlinewidth\": 0, \"ticks\": \"\"}}, \"type\": \"scatter3d\"}], \"scattercarpet\": [{\"marker\": {\"colorbar\": {\"outlinewidth\": 0, \"ticks\": \"\"}}, \"type\": \"scattercarpet\"}], \"scattergeo\": [{\"marker\": {\"colorbar\": {\"outlinewidth\": 0, \"ticks\": \"\"}}, \"type\": \"scattergeo\"}], \"scattergl\": [{\"marker\": {\"colorbar\": {\"outlinewidth\": 0, \"ticks\": \"\"}}, \"type\": \"scattergl\"}], \"scattermapbox\": [{\"marker\": {\"colorbar\": {\"outlinewidth\": 0, \"ticks\": \"\"}}, \"type\": \"scattermapbox\"}], \"scatterpolar\": [{\"marker\": {\"colorbar\": {\"outlinewidth\": 0, \"ticks\": \"\"}}, \"type\": \"scatterpolar\"}], \"scatterpolargl\": [{\"marker\": {\"colorbar\": {\"outlinewidth\": 0, \"ticks\": \"\"}}, \"type\": \"scatterpolargl\"}], \"scatterternary\": [{\"marker\": {\"colorbar\": {\"outlinewidth\": 0, \"ticks\": \"\"}}, \"type\": \"scatterternary\"}], \"surface\": [{\"colorbar\": {\"outlinewidth\": 0, \"ticks\": \"\"}, \"colorscale\": [[0.0, \"#0d0887\"], [0.1111111111111111, \"#46039f\"], [0.2222222222222222, \"#7201a8\"], [0.3333333333333333, \"#9c179e\"], [0.4444444444444444, \"#bd3786\"], [0.5555555555555556, \"#d8576b\"], [0.6666666666666666, \"#ed7953\"], [0.7777777777777778, \"#fb9f3a\"], [0.8888888888888888, \"#fdca26\"], [1.0, \"#f0f921\"]], \"type\": \"surface\"}], \"table\": [{\"cells\": {\"fill\": {\"color\": \"#EBF0F8\"}, \"line\": {\"color\": \"white\"}}, \"header\": {\"fill\": {\"color\": \"#C8D4E3\"}, \"line\": {\"color\": \"white\"}}, \"type\": \"table\"}]}, \"layout\": {\"annotationdefaults\": {\"arrowcolor\": \"#2a3f5f\", \"arrowhead\": 0, \"arrowwidth\": 1}, \"coloraxis\": {\"colorbar\": {\"outlinewidth\": 0, \"ticks\": \"\"}}, \"colorscale\": {\"diverging\": [[0, \"#8e0152\"], [0.1, \"#c51b7d\"], [0.2, \"#de77ae\"], [0.3, \"#f1b6da\"], [0.4, \"#fde0ef\"], [0.5, \"#f7f7f7\"], [0.6, \"#e6f5d0\"], [0.7, \"#b8e186\"], [0.8, \"#7fbc41\"], [0.9, \"#4d9221\"], [1, \"#276419\"]], \"sequential\": [[0.0, \"#0d0887\"], [0.1111111111111111, \"#46039f\"], [0.2222222222222222, \"#7201a8\"], [0.3333333333333333, \"#9c179e\"], [0.4444444444444444, \"#bd3786\"], [0.5555555555555556, \"#d8576b\"], [0.6666666666666666, \"#ed7953\"], [0.7777777777777778, \"#fb9f3a\"], [0.8888888888888888, \"#fdca26\"], [1.0, \"#f0f921\"]], \"sequentialminus\": [[0.0, \"#0d0887\"], [0.1111111111111111, \"#46039f\"], [0.2222222222222222, \"#7201a8\"], [0.3333333333333333, \"#9c179e\"], [0.4444444444444444, \"#bd3786\"], [0.5555555555555556, \"#d8576b\"], [0.6666666666666666, \"#ed7953\"], [0.7777777777777778, \"#fb9f3a\"], [0.8888888888888888, \"#fdca26\"], [1.0, \"#f0f921\"]]}, \"colorway\": [\"#636efa\", \"#EF553B\", \"#00cc96\", \"#ab63fa\", \"#FFA15A\", \"#19d3f3\", \"#FF6692\", \"#B6E880\", \"#FF97FF\", \"#FECB52\"], \"font\": {\"color\": \"#2a3f5f\"}, \"geo\": {\"bgcolor\": \"white\", \"lakecolor\": \"white\", \"landcolor\": \"#E5ECF6\", \"showlakes\": true, \"showland\": true, \"subunitcolor\": \"white\"}, \"hoverlabel\": {\"align\": \"left\"}, \"hovermode\": \"closest\", \"mapbox\": {\"style\": \"light\"}, \"paper_bgcolor\": \"white\", \"plot_bgcolor\": \"#E5ECF6\", \"polar\": {\"angularaxis\": {\"gridcolor\": \"white\", \"linecolor\": \"white\", \"ticks\": \"\"}, \"bgcolor\": \"#E5ECF6\", \"radialaxis\": {\"gridcolor\": \"white\", \"linecolor\": \"white\", \"ticks\": \"\"}}, \"scene\": {\"xaxis\": {\"backgroundcolor\": \"#E5ECF6\", \"gridcolor\": \"white\", \"gridwidth\": 2, \"linecolor\": \"white\", \"showbackground\": true, \"ticks\": \"\", \"zerolinecolor\": \"white\"}, \"yaxis\": {\"backgroundcolor\": \"#E5ECF6\", \"gridcolor\": \"white\", \"gridwidth\": 2, \"linecolor\": \"white\", \"showbackground\": true, \"ticks\": \"\", \"zerolinecolor\": \"white\"}, \"zaxis\": {\"backgroundcolor\": \"#E5ECF6\", \"gridcolor\": \"white\", \"gridwidth\": 2, \"linecolor\": \"white\", \"showbackground\": true, \"ticks\": \"\", \"zerolinecolor\": \"white\"}}, \"shapedefaults\": {\"line\": {\"color\": \"#2a3f5f\"}}, \"ternary\": {\"aaxis\": {\"gridcolor\": \"white\", \"linecolor\": \"white\", \"ticks\": \"\"}, \"baxis\": {\"gridcolor\": \"white\", \"linecolor\": \"white\", \"ticks\": \"\"}, \"bgcolor\": \"#E5ECF6\", \"caxis\": {\"gridcolor\": \"white\", \"linecolor\": \"white\", \"ticks\": \"\"}}, \"title\": {\"x\": 0.05}, \"xaxis\": {\"automargin\": true, \"gridcolor\": \"white\", \"linecolor\": \"white\", \"ticks\": \"\", \"title\": {\"standoff\": 15}, \"zerolinecolor\": \"white\", \"zerolinewidth\": 2}, \"yaxis\": {\"automargin\": true, \"gridcolor\": \"white\", \"linecolor\": \"white\", \"ticks\": \"\", \"title\": {\"standoff\": 15}, \"zerolinecolor\": \"white\", \"zerolinewidth\": 2}}}, \"title\": {\"text\": \"F1 Score Increase for GNB\"}},                        {\"responsive\": true}                    ).then(function(){\n",
              "                            \n",
              "var gd = document.getElementById('8ddc37f1-20c4-4133-93ba-1d37c4c6a8fd');\n",
              "var x = new MutationObserver(function (mutations, observer) {{\n",
              "        var display = window.getComputedStyle(gd).display;\n",
              "        if (!display || display === 'none') {{\n",
              "            console.log([gd, 'removed!']);\n",
              "            Plotly.purge(gd);\n",
              "            observer.disconnect();\n",
              "        }}\n",
              "}});\n",
              "\n",
              "// Listen for the removal of the full notebook cells\n",
              "var notebookContainer = gd.closest('#notebook-container');\n",
              "if (notebookContainer) {{\n",
              "    x.observe(notebookContainer, {childList: true});\n",
              "}}\n",
              "\n",
              "// Listen for the clearing of the current output cell\n",
              "var outputEl = gd.closest('.output');\n",
              "if (outputEl) {{\n",
              "    x.observe(outputEl, {childList: true});\n",
              "}}\n",
              "\n",
              "                        })                };                            </script>        </div>\n",
              "</body>\n",
              "</html>"
            ]
          },
          "metadata": {
            "tags": []
          }
        }
      ]
    },
    {
      "cell_type": "markdown",
      "metadata": {
        "id": "q0EKH0xJULSx"
      },
      "source": [
        "Σε αυτή τη περίπτωση βλέπουμε εντυπωσιακά οτι δεν υπήρχε μεταβολή μεταξύ της βασικής και βελτιστοποιημένης έκδοσης του ταξινομητή. Αξίζει όμως να σημειωθεί ότι στο optimized μοντέλο, *δεν χρησημοποιήσαμε PCA* επειδή είδαμε οτι πάλι θα παραγόντουσαν χειρότερα αποτελέσματα. Όπως αναφέραμε, έχουμε χρησημοποιήσει scaling και oversampling στην προεπεξεργασία δεδομένων, αλλά δεν καταφέραμε να βελτιώσουμε την σύγκλιση του μοντέλου."
      ]
    },
    {
      "cell_type": "code",
      "metadata": {
        "id": "Z4koRMSyULSx",
        "colab": {
          "base_uri": "https://localhost:8080/",
          "height": 542
        },
        "outputId": "5ab601ac-548d-4067-df4e-9007f77f19f3"
      },
      "source": [
        "i=2\n",
        "fig = go.Figure([\n",
        "    go.Bar(name='Macro', x=['Baseline','Optimized'], y=[f1_scores_macro[i], f1_best_macro[i]],\n",
        "          text=np.array([f1_scores_macro[i], f1_best_macro[i]]/f1_scores_macro[i])),\n",
        "    go.Bar(name='Micro', x=['Baseline','Optimized'], y=[f1_scores_micro[i], f1_best_micro[i]],\n",
        "          text=np.array([f1_scores_micro[i], f1_best_micro[i]]/f1_scores_micro[i]))\n",
        "])\n",
        "fig.update_traces(texttemplate='%{text:.3p} base',\n",
        "                  textposition='outside')\n",
        "fig.update_layout(\n",
        "    title_text='F1 Score Increase for KNN',\n",
        "    legend_title='Averaging Strategy'\n",
        ")"
      ],
      "execution_count": null,
      "outputs": [
        {
          "output_type": "display_data",
          "data": {
            "text/html": [
              "<html>\n",
              "<head><meta charset=\"utf-8\" /></head>\n",
              "<body>\n",
              "    <div>            <script src=\"https://cdnjs.cloudflare.com/ajax/libs/mathjax/2.7.5/MathJax.js?config=TeX-AMS-MML_SVG\"></script><script type=\"text/javascript\">if (window.MathJax) {MathJax.Hub.Config({SVG: {font: \"STIX-Web\"}});}</script>                <script type=\"text/javascript\">window.PlotlyConfig = {MathJaxConfig: 'local'};</script>\n",
              "        <script src=\"https://cdn.plot.ly/plotly-latest.min.js\"></script>                <div id=\"edea8f83-e31a-491a-a46e-0f48fb96c000\" class=\"plotly-graph-div\" style=\"height:525px; width:100%;\"></div>            <script type=\"text/javascript\">                                    window.PLOTLYENV=window.PLOTLYENV || {};                                    if (document.getElementById(\"edea8f83-e31a-491a-a46e-0f48fb96c000\")) {                    Plotly.newPlot(                        \"edea8f83-e31a-491a-a46e-0f48fb96c000\",                        [{\"name\": \"Macro\", \"text\": [1.0, 0.9619383349056225], \"textposition\": \"outside\", \"texttemplate\": \"%{text:.3p} base\", \"type\": \"bar\", \"x\": [\"Baseline\", \"Optimized\"], \"y\": [0.9173927710563425, 0.8824752746443931]}, {\"name\": \"Micro\", \"text\": [1.0, 0.9841511734227371], \"textposition\": \"outside\", \"texttemplate\": \"%{text:.3p} base\", \"type\": \"bar\", \"x\": [\"Baseline\", \"Optimized\"], \"y\": [0.9510144927536232, 0.9359420289855073]}],                        {\"legend\": {\"title\": {\"text\": \"Averaging Strategy\"}}, \"template\": {\"data\": {\"bar\": [{\"error_x\": {\"color\": \"#2a3f5f\"}, \"error_y\": {\"color\": \"#2a3f5f\"}, \"marker\": {\"line\": {\"color\": \"#E5ECF6\", \"width\": 0.5}}, \"type\": \"bar\"}], \"barpolar\": [{\"marker\": {\"line\": {\"color\": \"#E5ECF6\", \"width\": 0.5}}, \"type\": \"barpolar\"}], \"carpet\": [{\"aaxis\": {\"endlinecolor\": \"#2a3f5f\", \"gridcolor\": \"white\", \"linecolor\": \"white\", \"minorgridcolor\": \"white\", \"startlinecolor\": \"#2a3f5f\"}, \"baxis\": {\"endlinecolor\": \"#2a3f5f\", \"gridcolor\": \"white\", \"linecolor\": \"white\", \"minorgridcolor\": \"white\", \"startlinecolor\": \"#2a3f5f\"}, \"type\": \"carpet\"}], \"choropleth\": [{\"colorbar\": {\"outlinewidth\": 0, \"ticks\": \"\"}, \"type\": \"choropleth\"}], \"contour\": [{\"colorbar\": {\"outlinewidth\": 0, \"ticks\": \"\"}, \"colorscale\": [[0.0, \"#0d0887\"], [0.1111111111111111, \"#46039f\"], [0.2222222222222222, \"#7201a8\"], [0.3333333333333333, \"#9c179e\"], [0.4444444444444444, \"#bd3786\"], [0.5555555555555556, \"#d8576b\"], [0.6666666666666666, \"#ed7953\"], [0.7777777777777778, \"#fb9f3a\"], [0.8888888888888888, \"#fdca26\"], [1.0, \"#f0f921\"]], \"type\": \"contour\"}], \"contourcarpet\": [{\"colorbar\": {\"outlinewidth\": 0, \"ticks\": \"\"}, \"type\": \"contourcarpet\"}], \"heatmap\": [{\"colorbar\": {\"outlinewidth\": 0, \"ticks\": \"\"}, \"colorscale\": [[0.0, \"#0d0887\"], [0.1111111111111111, \"#46039f\"], [0.2222222222222222, \"#7201a8\"], [0.3333333333333333, \"#9c179e\"], [0.4444444444444444, \"#bd3786\"], [0.5555555555555556, \"#d8576b\"], [0.6666666666666666, \"#ed7953\"], [0.7777777777777778, \"#fb9f3a\"], [0.8888888888888888, \"#fdca26\"], [1.0, \"#f0f921\"]], \"type\": \"heatmap\"}], \"heatmapgl\": [{\"colorbar\": {\"outlinewidth\": 0, \"ticks\": \"\"}, \"colorscale\": [[0.0, \"#0d0887\"], [0.1111111111111111, \"#46039f\"], [0.2222222222222222, \"#7201a8\"], [0.3333333333333333, \"#9c179e\"], [0.4444444444444444, \"#bd3786\"], [0.5555555555555556, \"#d8576b\"], [0.6666666666666666, \"#ed7953\"], [0.7777777777777778, \"#fb9f3a\"], [0.8888888888888888, \"#fdca26\"], [1.0, \"#f0f921\"]], \"type\": \"heatmapgl\"}], \"histogram\": [{\"marker\": {\"colorbar\": {\"outlinewidth\": 0, \"ticks\": \"\"}}, \"type\": \"histogram\"}], \"histogram2d\": [{\"colorbar\": {\"outlinewidth\": 0, \"ticks\": \"\"}, \"colorscale\": [[0.0, \"#0d0887\"], [0.1111111111111111, \"#46039f\"], [0.2222222222222222, \"#7201a8\"], [0.3333333333333333, \"#9c179e\"], [0.4444444444444444, \"#bd3786\"], [0.5555555555555556, \"#d8576b\"], [0.6666666666666666, \"#ed7953\"], [0.7777777777777778, \"#fb9f3a\"], [0.8888888888888888, \"#fdca26\"], [1.0, \"#f0f921\"]], \"type\": \"histogram2d\"}], \"histogram2dcontour\": [{\"colorbar\": {\"outlinewidth\": 0, \"ticks\": \"\"}, \"colorscale\": [[0.0, \"#0d0887\"], [0.1111111111111111, \"#46039f\"], [0.2222222222222222, \"#7201a8\"], [0.3333333333333333, \"#9c179e\"], [0.4444444444444444, \"#bd3786\"], [0.5555555555555556, \"#d8576b\"], [0.6666666666666666, \"#ed7953\"], [0.7777777777777778, \"#fb9f3a\"], [0.8888888888888888, \"#fdca26\"], [1.0, \"#f0f921\"]], \"type\": \"histogram2dcontour\"}], \"mesh3d\": [{\"colorbar\": {\"outlinewidth\": 0, \"ticks\": \"\"}, \"type\": \"mesh3d\"}], \"parcoords\": [{\"line\": {\"colorbar\": {\"outlinewidth\": 0, \"ticks\": \"\"}}, \"type\": \"parcoords\"}], \"pie\": [{\"automargin\": true, \"type\": \"pie\"}], \"scatter\": [{\"marker\": {\"colorbar\": {\"outlinewidth\": 0, \"ticks\": \"\"}}, \"type\": \"scatter\"}], \"scatter3d\": [{\"line\": {\"colorbar\": {\"outlinewidth\": 0, \"ticks\": \"\"}}, \"marker\": {\"colorbar\": {\"outlinewidth\": 0, \"ticks\": \"\"}}, \"type\": \"scatter3d\"}], \"scattercarpet\": [{\"marker\": {\"colorbar\": {\"outlinewidth\": 0, \"ticks\": \"\"}}, \"type\": \"scattercarpet\"}], \"scattergeo\": [{\"marker\": {\"colorbar\": {\"outlinewidth\": 0, \"ticks\": \"\"}}, \"type\": \"scattergeo\"}], \"scattergl\": [{\"marker\": {\"colorbar\": {\"outlinewidth\": 0, \"ticks\": \"\"}}, \"type\": \"scattergl\"}], \"scattermapbox\": [{\"marker\": {\"colorbar\": {\"outlinewidth\": 0, \"ticks\": \"\"}}, \"type\": \"scattermapbox\"}], \"scatterpolar\": [{\"marker\": {\"colorbar\": {\"outlinewidth\": 0, \"ticks\": \"\"}}, \"type\": \"scatterpolar\"}], \"scatterpolargl\": [{\"marker\": {\"colorbar\": {\"outlinewidth\": 0, \"ticks\": \"\"}}, \"type\": \"scatterpolargl\"}], \"scatterternary\": [{\"marker\": {\"colorbar\": {\"outlinewidth\": 0, \"ticks\": \"\"}}, \"type\": \"scatterternary\"}], \"surface\": [{\"colorbar\": {\"outlinewidth\": 0, \"ticks\": \"\"}, \"colorscale\": [[0.0, \"#0d0887\"], [0.1111111111111111, \"#46039f\"], [0.2222222222222222, \"#7201a8\"], [0.3333333333333333, \"#9c179e\"], [0.4444444444444444, \"#bd3786\"], [0.5555555555555556, \"#d8576b\"], [0.6666666666666666, \"#ed7953\"], [0.7777777777777778, \"#fb9f3a\"], [0.8888888888888888, \"#fdca26\"], [1.0, \"#f0f921\"]], \"type\": \"surface\"}], \"table\": [{\"cells\": {\"fill\": {\"color\": \"#EBF0F8\"}, \"line\": {\"color\": \"white\"}}, \"header\": {\"fill\": {\"color\": \"#C8D4E3\"}, \"line\": {\"color\": \"white\"}}, \"type\": \"table\"}]}, \"layout\": {\"annotationdefaults\": {\"arrowcolor\": \"#2a3f5f\", \"arrowhead\": 0, \"arrowwidth\": 1}, \"coloraxis\": {\"colorbar\": {\"outlinewidth\": 0, \"ticks\": \"\"}}, \"colorscale\": {\"diverging\": [[0, \"#8e0152\"], [0.1, \"#c51b7d\"], [0.2, \"#de77ae\"], [0.3, \"#f1b6da\"], [0.4, \"#fde0ef\"], [0.5, \"#f7f7f7\"], [0.6, \"#e6f5d0\"], [0.7, \"#b8e186\"], [0.8, \"#7fbc41\"], [0.9, \"#4d9221\"], [1, \"#276419\"]], \"sequential\": [[0.0, \"#0d0887\"], [0.1111111111111111, \"#46039f\"], [0.2222222222222222, \"#7201a8\"], [0.3333333333333333, \"#9c179e\"], [0.4444444444444444, \"#bd3786\"], [0.5555555555555556, \"#d8576b\"], [0.6666666666666666, \"#ed7953\"], [0.7777777777777778, \"#fb9f3a\"], [0.8888888888888888, \"#fdca26\"], [1.0, \"#f0f921\"]], \"sequentialminus\": [[0.0, \"#0d0887\"], [0.1111111111111111, \"#46039f\"], [0.2222222222222222, \"#7201a8\"], [0.3333333333333333, \"#9c179e\"], [0.4444444444444444, \"#bd3786\"], [0.5555555555555556, \"#d8576b\"], [0.6666666666666666, \"#ed7953\"], [0.7777777777777778, \"#fb9f3a\"], [0.8888888888888888, \"#fdca26\"], [1.0, \"#f0f921\"]]}, \"colorway\": [\"#636efa\", \"#EF553B\", \"#00cc96\", \"#ab63fa\", \"#FFA15A\", \"#19d3f3\", \"#FF6692\", \"#B6E880\", \"#FF97FF\", \"#FECB52\"], \"font\": {\"color\": \"#2a3f5f\"}, \"geo\": {\"bgcolor\": \"white\", \"lakecolor\": \"white\", \"landcolor\": \"#E5ECF6\", \"showlakes\": true, \"showland\": true, \"subunitcolor\": \"white\"}, \"hoverlabel\": {\"align\": \"left\"}, \"hovermode\": \"closest\", \"mapbox\": {\"style\": \"light\"}, \"paper_bgcolor\": \"white\", \"plot_bgcolor\": \"#E5ECF6\", \"polar\": {\"angularaxis\": {\"gridcolor\": \"white\", \"linecolor\": \"white\", \"ticks\": \"\"}, \"bgcolor\": \"#E5ECF6\", \"radialaxis\": {\"gridcolor\": \"white\", \"linecolor\": \"white\", \"ticks\": \"\"}}, \"scene\": {\"xaxis\": {\"backgroundcolor\": \"#E5ECF6\", \"gridcolor\": \"white\", \"gridwidth\": 2, \"linecolor\": \"white\", \"showbackground\": true, \"ticks\": \"\", \"zerolinecolor\": \"white\"}, \"yaxis\": {\"backgroundcolor\": \"#E5ECF6\", \"gridcolor\": \"white\", \"gridwidth\": 2, \"linecolor\": \"white\", \"showbackground\": true, \"ticks\": \"\", \"zerolinecolor\": \"white\"}, \"zaxis\": {\"backgroundcolor\": \"#E5ECF6\", \"gridcolor\": \"white\", \"gridwidth\": 2, \"linecolor\": \"white\", \"showbackground\": true, \"ticks\": \"\", \"zerolinecolor\": \"white\"}}, \"shapedefaults\": {\"line\": {\"color\": \"#2a3f5f\"}}, \"ternary\": {\"aaxis\": {\"gridcolor\": \"white\", \"linecolor\": \"white\", \"ticks\": \"\"}, \"baxis\": {\"gridcolor\": \"white\", \"linecolor\": \"white\", \"ticks\": \"\"}, \"bgcolor\": \"#E5ECF6\", \"caxis\": {\"gridcolor\": \"white\", \"linecolor\": \"white\", \"ticks\": \"\"}}, \"title\": {\"x\": 0.05}, \"xaxis\": {\"automargin\": true, \"gridcolor\": \"white\", \"linecolor\": \"white\", \"ticks\": \"\", \"title\": {\"standoff\": 15}, \"zerolinecolor\": \"white\", \"zerolinewidth\": 2}, \"yaxis\": {\"automargin\": true, \"gridcolor\": \"white\", \"linecolor\": \"white\", \"ticks\": \"\", \"title\": {\"standoff\": 15}, \"zerolinecolor\": \"white\", \"zerolinewidth\": 2}}}, \"title\": {\"text\": \"F1 Score Increase for KNN\"}},                        {\"responsive\": true}                    ).then(function(){\n",
              "                            \n",
              "var gd = document.getElementById('edea8f83-e31a-491a-a46e-0f48fb96c000');\n",
              "var x = new MutationObserver(function (mutations, observer) {{\n",
              "        var display = window.getComputedStyle(gd).display;\n",
              "        if (!display || display === 'none') {{\n",
              "            console.log([gd, 'removed!']);\n",
              "            Plotly.purge(gd);\n",
              "            observer.disconnect();\n",
              "        }}\n",
              "}});\n",
              "\n",
              "// Listen for the removal of the full notebook cells\n",
              "var notebookContainer = gd.closest('#notebook-container');\n",
              "if (notebookContainer) {{\n",
              "    x.observe(notebookContainer, {childList: true});\n",
              "}}\n",
              "\n",
              "// Listen for the clearing of the current output cell\n",
              "var outputEl = gd.closest('.output');\n",
              "if (outputEl) {{\n",
              "    x.observe(outputEl, {childList: true});\n",
              "}}\n",
              "\n",
              "                        })                };                            </script>        </div>\n",
              "</body>\n",
              "</html>"
            ]
          },
          "metadata": {
            "tags": []
          }
        }
      ]
    },
    {
      "cell_type": "code",
      "metadata": {
        "id": "zMZPQTMUULSx",
        "colab": {
          "base_uri": "https://localhost:8080/",
          "height": 542
        },
        "outputId": "a9d9f77a-e2ac-42c7-b83f-368c23cab954"
      },
      "source": [
        "i=3\n",
        "fig = go.Figure([\n",
        "    go.Bar(name='Macro', x=['Baseline','Optimized'], y=[f1_scores_macro[i], f1_best_macro[i]],\n",
        "          text=np.array([f1_scores_macro[i], f1_best_macro[i]]/f1_scores_macro[i])),\n",
        "    go.Bar(name='Micro', x=['Baseline','Optimized'], y=[f1_scores_micro[i], f1_best_micro[i]],\n",
        "          text=np.array([f1_scores_micro[i], f1_best_micro[i]]/f1_scores_micro[i]))\n",
        "])\n",
        "fig.update_traces(texttemplate='%{text:.3p} base',\n",
        "                  textposition='outside')\n",
        "fig.update_layout(\n",
        "    title_text='F1 Score Increase for MLP',\n",
        "    legend_title='Averaging Strategy'\n",
        ")"
      ],
      "execution_count": null,
      "outputs": [
        {
          "output_type": "display_data",
          "data": {
            "text/html": [
              "<html>\n",
              "<head><meta charset=\"utf-8\" /></head>\n",
              "<body>\n",
              "    <div>            <script src=\"https://cdnjs.cloudflare.com/ajax/libs/mathjax/2.7.5/MathJax.js?config=TeX-AMS-MML_SVG\"></script><script type=\"text/javascript\">if (window.MathJax) {MathJax.Hub.Config({SVG: {font: \"STIX-Web\"}});}</script>                <script type=\"text/javascript\">window.PlotlyConfig = {MathJaxConfig: 'local'};</script>\n",
              "        <script src=\"https://cdn.plot.ly/plotly-latest.min.js\"></script>                <div id=\"8e2b8700-f918-4c87-bfcf-a70f28f7c4fc\" class=\"plotly-graph-div\" style=\"height:525px; width:100%;\"></div>            <script type=\"text/javascript\">                                    window.PLOTLYENV=window.PLOTLYENV || {};                                    if (document.getElementById(\"8e2b8700-f918-4c87-bfcf-a70f28f7c4fc\")) {                    Plotly.newPlot(                        \"8e2b8700-f918-4c87-bfcf-a70f28f7c4fc\",                        [{\"name\": \"Macro\", \"text\": [1.0, 1.1606141092772517], \"textposition\": \"outside\", \"texttemplate\": \"%{text:.3p} base\", \"type\": \"bar\", \"x\": [\"Baseline\", \"Optimized\"], \"y\": [0.8188436300421358, 0.9503614703187049]}, {\"name\": \"Micro\", \"text\": [1.0, 1.0824519883128199], \"textposition\": \"outside\", \"texttemplate\": \"%{text:.3p} base\", \"type\": \"bar\", \"x\": [\"Baseline\", \"Optimized\"], \"y\": [0.8779710144927537, 0.9503614703187049]}],                        {\"legend\": {\"title\": {\"text\": \"Averaging Strategy\"}}, \"template\": {\"data\": {\"bar\": [{\"error_x\": {\"color\": \"#2a3f5f\"}, \"error_y\": {\"color\": \"#2a3f5f\"}, \"marker\": {\"line\": {\"color\": \"#E5ECF6\", \"width\": 0.5}}, \"type\": \"bar\"}], \"barpolar\": [{\"marker\": {\"line\": {\"color\": \"#E5ECF6\", \"width\": 0.5}}, \"type\": \"barpolar\"}], \"carpet\": [{\"aaxis\": {\"endlinecolor\": \"#2a3f5f\", \"gridcolor\": \"white\", \"linecolor\": \"white\", \"minorgridcolor\": \"white\", \"startlinecolor\": \"#2a3f5f\"}, \"baxis\": {\"endlinecolor\": \"#2a3f5f\", \"gridcolor\": \"white\", \"linecolor\": \"white\", \"minorgridcolor\": \"white\", \"startlinecolor\": \"#2a3f5f\"}, \"type\": \"carpet\"}], \"choropleth\": [{\"colorbar\": {\"outlinewidth\": 0, \"ticks\": \"\"}, \"type\": \"choropleth\"}], \"contour\": [{\"colorbar\": {\"outlinewidth\": 0, \"ticks\": \"\"}, \"colorscale\": [[0.0, \"#0d0887\"], [0.1111111111111111, \"#46039f\"], [0.2222222222222222, \"#7201a8\"], [0.3333333333333333, \"#9c179e\"], [0.4444444444444444, \"#bd3786\"], [0.5555555555555556, \"#d8576b\"], [0.6666666666666666, \"#ed7953\"], [0.7777777777777778, \"#fb9f3a\"], [0.8888888888888888, \"#fdca26\"], [1.0, \"#f0f921\"]], \"type\": \"contour\"}], \"contourcarpet\": [{\"colorbar\": {\"outlinewidth\": 0, \"ticks\": \"\"}, \"type\": \"contourcarpet\"}], \"heatmap\": [{\"colorbar\": {\"outlinewidth\": 0, \"ticks\": \"\"}, \"colorscale\": [[0.0, \"#0d0887\"], [0.1111111111111111, \"#46039f\"], [0.2222222222222222, \"#7201a8\"], [0.3333333333333333, \"#9c179e\"], [0.4444444444444444, \"#bd3786\"], [0.5555555555555556, \"#d8576b\"], [0.6666666666666666, \"#ed7953\"], [0.7777777777777778, \"#fb9f3a\"], [0.8888888888888888, \"#fdca26\"], [1.0, \"#f0f921\"]], \"type\": \"heatmap\"}], \"heatmapgl\": [{\"colorbar\": {\"outlinewidth\": 0, \"ticks\": \"\"}, \"colorscale\": [[0.0, \"#0d0887\"], [0.1111111111111111, \"#46039f\"], [0.2222222222222222, \"#7201a8\"], [0.3333333333333333, \"#9c179e\"], [0.4444444444444444, \"#bd3786\"], [0.5555555555555556, \"#d8576b\"], [0.6666666666666666, \"#ed7953\"], [0.7777777777777778, \"#fb9f3a\"], [0.8888888888888888, \"#fdca26\"], [1.0, \"#f0f921\"]], \"type\": \"heatmapgl\"}], \"histogram\": [{\"marker\": {\"colorbar\": {\"outlinewidth\": 0, \"ticks\": \"\"}}, \"type\": \"histogram\"}], \"histogram2d\": [{\"colorbar\": {\"outlinewidth\": 0, \"ticks\": \"\"}, \"colorscale\": [[0.0, \"#0d0887\"], [0.1111111111111111, \"#46039f\"], [0.2222222222222222, \"#7201a8\"], [0.3333333333333333, \"#9c179e\"], [0.4444444444444444, \"#bd3786\"], [0.5555555555555556, \"#d8576b\"], [0.6666666666666666, \"#ed7953\"], [0.7777777777777778, \"#fb9f3a\"], [0.8888888888888888, \"#fdca26\"], [1.0, \"#f0f921\"]], \"type\": \"histogram2d\"}], \"histogram2dcontour\": [{\"colorbar\": {\"outlinewidth\": 0, \"ticks\": \"\"}, \"colorscale\": [[0.0, \"#0d0887\"], [0.1111111111111111, \"#46039f\"], [0.2222222222222222, \"#7201a8\"], [0.3333333333333333, \"#9c179e\"], [0.4444444444444444, \"#bd3786\"], [0.5555555555555556, \"#d8576b\"], [0.6666666666666666, \"#ed7953\"], [0.7777777777777778, \"#fb9f3a\"], [0.8888888888888888, \"#fdca26\"], [1.0, \"#f0f921\"]], \"type\": \"histogram2dcontour\"}], \"mesh3d\": [{\"colorbar\": {\"outlinewidth\": 0, \"ticks\": \"\"}, \"type\": \"mesh3d\"}], \"parcoords\": [{\"line\": {\"colorbar\": {\"outlinewidth\": 0, \"ticks\": \"\"}}, \"type\": \"parcoords\"}], \"pie\": [{\"automargin\": true, \"type\": \"pie\"}], \"scatter\": [{\"marker\": {\"colorbar\": {\"outlinewidth\": 0, \"ticks\": \"\"}}, \"type\": \"scatter\"}], \"scatter3d\": [{\"line\": {\"colorbar\": {\"outlinewidth\": 0, \"ticks\": \"\"}}, \"marker\": {\"colorbar\": {\"outlinewidth\": 0, \"ticks\": \"\"}}, \"type\": \"scatter3d\"}], \"scattercarpet\": [{\"marker\": {\"colorbar\": {\"outlinewidth\": 0, \"ticks\": \"\"}}, \"type\": \"scattercarpet\"}], \"scattergeo\": [{\"marker\": {\"colorbar\": {\"outlinewidth\": 0, \"ticks\": \"\"}}, \"type\": \"scattergeo\"}], \"scattergl\": [{\"marker\": {\"colorbar\": {\"outlinewidth\": 0, \"ticks\": \"\"}}, \"type\": \"scattergl\"}], \"scattermapbox\": [{\"marker\": {\"colorbar\": {\"outlinewidth\": 0, \"ticks\": \"\"}}, \"type\": \"scattermapbox\"}], \"scatterpolar\": [{\"marker\": {\"colorbar\": {\"outlinewidth\": 0, \"ticks\": \"\"}}, \"type\": \"scatterpolar\"}], \"scatterpolargl\": [{\"marker\": {\"colorbar\": {\"outlinewidth\": 0, \"ticks\": \"\"}}, \"type\": \"scatterpolargl\"}], \"scatterternary\": [{\"marker\": {\"colorbar\": {\"outlinewidth\": 0, \"ticks\": \"\"}}, \"type\": \"scatterternary\"}], \"surface\": [{\"colorbar\": {\"outlinewidth\": 0, \"ticks\": \"\"}, \"colorscale\": [[0.0, \"#0d0887\"], [0.1111111111111111, \"#46039f\"], [0.2222222222222222, \"#7201a8\"], [0.3333333333333333, \"#9c179e\"], [0.4444444444444444, \"#bd3786\"], [0.5555555555555556, \"#d8576b\"], [0.6666666666666666, \"#ed7953\"], [0.7777777777777778, \"#fb9f3a\"], [0.8888888888888888, \"#fdca26\"], [1.0, \"#f0f921\"]], \"type\": \"surface\"}], \"table\": [{\"cells\": {\"fill\": {\"color\": \"#EBF0F8\"}, \"line\": {\"color\": \"white\"}}, \"header\": {\"fill\": {\"color\": \"#C8D4E3\"}, \"line\": {\"color\": \"white\"}}, \"type\": \"table\"}]}, \"layout\": {\"annotationdefaults\": {\"arrowcolor\": \"#2a3f5f\", \"arrowhead\": 0, \"arrowwidth\": 1}, \"coloraxis\": {\"colorbar\": {\"outlinewidth\": 0, \"ticks\": \"\"}}, \"colorscale\": {\"diverging\": [[0, \"#8e0152\"], [0.1, \"#c51b7d\"], [0.2, \"#de77ae\"], [0.3, \"#f1b6da\"], [0.4, \"#fde0ef\"], [0.5, \"#f7f7f7\"], [0.6, \"#e6f5d0\"], [0.7, \"#b8e186\"], [0.8, \"#7fbc41\"], [0.9, \"#4d9221\"], [1, \"#276419\"]], \"sequential\": [[0.0, \"#0d0887\"], [0.1111111111111111, \"#46039f\"], [0.2222222222222222, \"#7201a8\"], [0.3333333333333333, \"#9c179e\"], [0.4444444444444444, \"#bd3786\"], [0.5555555555555556, \"#d8576b\"], [0.6666666666666666, \"#ed7953\"], [0.7777777777777778, \"#fb9f3a\"], [0.8888888888888888, \"#fdca26\"], [1.0, \"#f0f921\"]], \"sequentialminus\": [[0.0, \"#0d0887\"], [0.1111111111111111, \"#46039f\"], [0.2222222222222222, \"#7201a8\"], [0.3333333333333333, \"#9c179e\"], [0.4444444444444444, \"#bd3786\"], [0.5555555555555556, \"#d8576b\"], [0.6666666666666666, \"#ed7953\"], [0.7777777777777778, \"#fb9f3a\"], [0.8888888888888888, \"#fdca26\"], [1.0, \"#f0f921\"]]}, \"colorway\": [\"#636efa\", \"#EF553B\", \"#00cc96\", \"#ab63fa\", \"#FFA15A\", \"#19d3f3\", \"#FF6692\", \"#B6E880\", \"#FF97FF\", \"#FECB52\"], \"font\": {\"color\": \"#2a3f5f\"}, \"geo\": {\"bgcolor\": \"white\", \"lakecolor\": \"white\", \"landcolor\": \"#E5ECF6\", \"showlakes\": true, \"showland\": true, \"subunitcolor\": \"white\"}, \"hoverlabel\": {\"align\": \"left\"}, \"hovermode\": \"closest\", \"mapbox\": {\"style\": \"light\"}, \"paper_bgcolor\": \"white\", \"plot_bgcolor\": \"#E5ECF6\", \"polar\": {\"angularaxis\": {\"gridcolor\": \"white\", \"linecolor\": \"white\", \"ticks\": \"\"}, \"bgcolor\": \"#E5ECF6\", \"radialaxis\": {\"gridcolor\": \"white\", \"linecolor\": \"white\", \"ticks\": \"\"}}, \"scene\": {\"xaxis\": {\"backgroundcolor\": \"#E5ECF6\", \"gridcolor\": \"white\", \"gridwidth\": 2, \"linecolor\": \"white\", \"showbackground\": true, \"ticks\": \"\", \"zerolinecolor\": \"white\"}, \"yaxis\": {\"backgroundcolor\": \"#E5ECF6\", \"gridcolor\": \"white\", \"gridwidth\": 2, \"linecolor\": \"white\", \"showbackground\": true, \"ticks\": \"\", \"zerolinecolor\": \"white\"}, \"zaxis\": {\"backgroundcolor\": \"#E5ECF6\", \"gridcolor\": \"white\", \"gridwidth\": 2, \"linecolor\": \"white\", \"showbackground\": true, \"ticks\": \"\", \"zerolinecolor\": \"white\"}}, \"shapedefaults\": {\"line\": {\"color\": \"#2a3f5f\"}}, \"ternary\": {\"aaxis\": {\"gridcolor\": \"white\", \"linecolor\": \"white\", \"ticks\": \"\"}, \"baxis\": {\"gridcolor\": \"white\", \"linecolor\": \"white\", \"ticks\": \"\"}, \"bgcolor\": \"#E5ECF6\", \"caxis\": {\"gridcolor\": \"white\", \"linecolor\": \"white\", \"ticks\": \"\"}}, \"title\": {\"x\": 0.05}, \"xaxis\": {\"automargin\": true, \"gridcolor\": \"white\", \"linecolor\": \"white\", \"ticks\": \"\", \"title\": {\"standoff\": 15}, \"zerolinecolor\": \"white\", \"zerolinewidth\": 2}, \"yaxis\": {\"automargin\": true, \"gridcolor\": \"white\", \"linecolor\": \"white\", \"ticks\": \"\", \"title\": {\"standoff\": 15}, \"zerolinecolor\": \"white\", \"zerolinewidth\": 2}}}, \"title\": {\"text\": \"F1 Score Increase for MLP\"}},                        {\"responsive\": true}                    ).then(function(){\n",
              "                            \n",
              "var gd = document.getElementById('8e2b8700-f918-4c87-bfcf-a70f28f7c4fc');\n",
              "var x = new MutationObserver(function (mutations, observer) {{\n",
              "        var display = window.getComputedStyle(gd).display;\n",
              "        if (!display || display === 'none') {{\n",
              "            console.log([gd, 'removed!']);\n",
              "            Plotly.purge(gd);\n",
              "            observer.disconnect();\n",
              "        }}\n",
              "}});\n",
              "\n",
              "// Listen for the removal of the full notebook cells\n",
              "var notebookContainer = gd.closest('#notebook-container');\n",
              "if (notebookContainer) {{\n",
              "    x.observe(notebookContainer, {childList: true});\n",
              "}}\n",
              "\n",
              "// Listen for the clearing of the current output cell\n",
              "var outputEl = gd.closest('.output');\n",
              "if (outputEl) {{\n",
              "    x.observe(outputEl, {childList: true});\n",
              "}}\n",
              "\n",
              "                        })                };                            </script>        </div>\n",
              "</body>\n",
              "</html>"
            ]
          },
          "metadata": {
            "tags": []
          }
        }
      ]
    },
    {
      "cell_type": "markdown",
      "metadata": {
        "id": "hHS_zLeaULSx"
      },
      "source": [
        "Στα παραπάνω δυο σχήματα βλέπουμε μια μικρή βελτίωση της απόδοσης του KNN και μια λίγο πιο αξιόλογη αύξηση της απόδοσης του MLP. Θεωρούμε οτι η χρήση του MLP αποδεικνύεται πάλι κακιά επιλογή για αυτό το πρόβλημα, αφού μια μακρά διαδικασία βελτιστοποίησης των υπερπαραμέτρων του δεν κατάφερε να ξεπεράσει την απόδοση των GNB, KNN και του RBF SVC. Παρ' όλα αυτά, η αύξηση της απόδοσης σε σχέση με το baseline είναι σαφής."
      ]
    },
    {
      "cell_type": "code",
      "metadata": {
        "id": "CzDF85wiULSx",
        "colab": {
          "base_uri": "https://localhost:8080/",
          "height": 542
        },
        "outputId": "879a9006-ba58-4438-ae07-0db770cdd2d9"
      },
      "source": [
        "# sorry for ugly code here\n",
        "vals_macro = np.zeros(4)\n",
        "vals_micro = np.zeros(4)\n",
        "\n",
        "vals_macro[0] = f1_scores_macro[4]\n",
        "vals_macro[1:] =  f1_best_macro[4:7]\n",
        "vals_micro[0] = f1_scores_micro[4]\n",
        "vals_micro[1:] =  f1_best_micro[4:7]\n",
        "\n",
        "fig = go.Figure([\n",
        "    go.Bar(name='Macro', x=['Baseline','Lin SVC','Poly SVC', 'RBF SVC'],\n",
        "           y=vals_macro,\n",
        "          text=np.array(vals_macro /vals_macro[0])),\n",
        "    go.Bar(name='Micro', x=['Baseline','Lin SVC','Poly SVC', 'RBF SVC'],\n",
        "           y=vals_micro,\n",
        "          text=np.array(vals_micro/vals_micro[0]))\n",
        "])\n",
        "fig.update_traces(texttemplate='%{text:.3p} base',\n",
        "                  textposition='outside')\n",
        "fig.update_layout(\n",
        "    title_text='F1 Score Increase for SVC',\n",
        "    legend_title='Averaging Strategy'\n",
        ")"
      ],
      "execution_count": null,
      "outputs": [
        {
          "output_type": "display_data",
          "data": {
            "text/html": [
              "<html>\n",
              "<head><meta charset=\"utf-8\" /></head>\n",
              "<body>\n",
              "    <div>            <script src=\"https://cdnjs.cloudflare.com/ajax/libs/mathjax/2.7.5/MathJax.js?config=TeX-AMS-MML_SVG\"></script><script type=\"text/javascript\">if (window.MathJax) {MathJax.Hub.Config({SVG: {font: \"STIX-Web\"}});}</script>                <script type=\"text/javascript\">window.PlotlyConfig = {MathJaxConfig: 'local'};</script>\n",
              "        <script src=\"https://cdn.plot.ly/plotly-latest.min.js\"></script>                <div id=\"541ce25a-eed2-49ee-a9a0-ed6f485a167f\" class=\"plotly-graph-div\" style=\"height:525px; width:100%;\"></div>            <script type=\"text/javascript\">                                    window.PLOTLYENV=window.PLOTLYENV || {};                                    if (document.getElementById(\"541ce25a-eed2-49ee-a9a0-ed6f485a167f\")) {                    Plotly.newPlot(                        \"541ce25a-eed2-49ee-a9a0-ed6f485a167f\",                        [{\"name\": \"Macro\", \"text\": [1.0, 0.7201887399530511, 0.8262045240225482, 1.009639580140689], \"textposition\": \"outside\", \"texttemplate\": \"%{text:.3p} base\", \"type\": \"bar\", \"x\": [\"Baseline\", \"Lin SVC\", \"Poly SVC\", \"RBF SVC\"], \"y\": [0.9526073352492566, 0.6860570764431958, 0.78704849, 0.96179007]}, {\"name\": \"Micro\", \"text\": [1.0, 0.8729066985645935, 0.9204545423145933, 1.0065789433313397], \"textposition\": \"outside\", \"texttemplate\": \"%{text:.3p} base\", \"type\": \"bar\", \"x\": [\"Baseline\", \"Lin SVC\", \"Poly SVC\", \"RBF SVC\"], \"y\": [0.9692753623188406, 0.8460869565217393, 0.89217391, 0.97565217]}],                        {\"legend\": {\"title\": {\"text\": \"Averaging Strategy\"}}, \"template\": {\"data\": {\"bar\": [{\"error_x\": {\"color\": \"#2a3f5f\"}, \"error_y\": {\"color\": \"#2a3f5f\"}, \"marker\": {\"line\": {\"color\": \"#E5ECF6\", \"width\": 0.5}}, \"type\": \"bar\"}], \"barpolar\": [{\"marker\": {\"line\": {\"color\": \"#E5ECF6\", \"width\": 0.5}}, \"type\": \"barpolar\"}], \"carpet\": [{\"aaxis\": {\"endlinecolor\": \"#2a3f5f\", \"gridcolor\": \"white\", \"linecolor\": \"white\", \"minorgridcolor\": \"white\", \"startlinecolor\": \"#2a3f5f\"}, \"baxis\": {\"endlinecolor\": \"#2a3f5f\", \"gridcolor\": \"white\", \"linecolor\": \"white\", \"minorgridcolor\": \"white\", \"startlinecolor\": \"#2a3f5f\"}, \"type\": \"carpet\"}], \"choropleth\": [{\"colorbar\": {\"outlinewidth\": 0, \"ticks\": \"\"}, \"type\": \"choropleth\"}], \"contour\": [{\"colorbar\": {\"outlinewidth\": 0, \"ticks\": \"\"}, \"colorscale\": [[0.0, \"#0d0887\"], [0.1111111111111111, \"#46039f\"], [0.2222222222222222, \"#7201a8\"], [0.3333333333333333, \"#9c179e\"], [0.4444444444444444, \"#bd3786\"], [0.5555555555555556, \"#d8576b\"], [0.6666666666666666, \"#ed7953\"], [0.7777777777777778, \"#fb9f3a\"], [0.8888888888888888, \"#fdca26\"], [1.0, \"#f0f921\"]], \"type\": \"contour\"}], \"contourcarpet\": [{\"colorbar\": {\"outlinewidth\": 0, \"ticks\": \"\"}, \"type\": \"contourcarpet\"}], \"heatmap\": [{\"colorbar\": {\"outlinewidth\": 0, \"ticks\": \"\"}, \"colorscale\": [[0.0, \"#0d0887\"], [0.1111111111111111, \"#46039f\"], [0.2222222222222222, \"#7201a8\"], [0.3333333333333333, \"#9c179e\"], [0.4444444444444444, \"#bd3786\"], [0.5555555555555556, \"#d8576b\"], [0.6666666666666666, \"#ed7953\"], [0.7777777777777778, \"#fb9f3a\"], [0.8888888888888888, \"#fdca26\"], [1.0, \"#f0f921\"]], \"type\": \"heatmap\"}], \"heatmapgl\": [{\"colorbar\": {\"outlinewidth\": 0, \"ticks\": \"\"}, \"colorscale\": [[0.0, \"#0d0887\"], [0.1111111111111111, \"#46039f\"], [0.2222222222222222, \"#7201a8\"], [0.3333333333333333, \"#9c179e\"], [0.4444444444444444, \"#bd3786\"], [0.5555555555555556, \"#d8576b\"], [0.6666666666666666, \"#ed7953\"], [0.7777777777777778, \"#fb9f3a\"], [0.8888888888888888, \"#fdca26\"], [1.0, \"#f0f921\"]], \"type\": \"heatmapgl\"}], \"histogram\": [{\"marker\": {\"colorbar\": {\"outlinewidth\": 0, \"ticks\": \"\"}}, \"type\": \"histogram\"}], \"histogram2d\": [{\"colorbar\": {\"outlinewidth\": 0, \"ticks\": \"\"}, \"colorscale\": [[0.0, \"#0d0887\"], [0.1111111111111111, \"#46039f\"], [0.2222222222222222, \"#7201a8\"], [0.3333333333333333, \"#9c179e\"], [0.4444444444444444, \"#bd3786\"], [0.5555555555555556, \"#d8576b\"], [0.6666666666666666, \"#ed7953\"], [0.7777777777777778, \"#fb9f3a\"], [0.8888888888888888, \"#fdca26\"], [1.0, \"#f0f921\"]], \"type\": \"histogram2d\"}], \"histogram2dcontour\": [{\"colorbar\": {\"outlinewidth\": 0, \"ticks\": \"\"}, \"colorscale\": [[0.0, \"#0d0887\"], [0.1111111111111111, \"#46039f\"], [0.2222222222222222, \"#7201a8\"], [0.3333333333333333, \"#9c179e\"], [0.4444444444444444, \"#bd3786\"], [0.5555555555555556, \"#d8576b\"], [0.6666666666666666, \"#ed7953\"], [0.7777777777777778, \"#fb9f3a\"], [0.8888888888888888, \"#fdca26\"], [1.0, \"#f0f921\"]], \"type\": \"histogram2dcontour\"}], \"mesh3d\": [{\"colorbar\": {\"outlinewidth\": 0, \"ticks\": \"\"}, \"type\": \"mesh3d\"}], \"parcoords\": [{\"line\": {\"colorbar\": {\"outlinewidth\": 0, \"ticks\": \"\"}}, \"type\": \"parcoords\"}], \"pie\": [{\"automargin\": true, \"type\": \"pie\"}], \"scatter\": [{\"marker\": {\"colorbar\": {\"outlinewidth\": 0, \"ticks\": \"\"}}, \"type\": \"scatter\"}], \"scatter3d\": [{\"line\": {\"colorbar\": {\"outlinewidth\": 0, \"ticks\": \"\"}}, \"marker\": {\"colorbar\": {\"outlinewidth\": 0, \"ticks\": \"\"}}, \"type\": \"scatter3d\"}], \"scattercarpet\": [{\"marker\": {\"colorbar\": {\"outlinewidth\": 0, \"ticks\": \"\"}}, \"type\": \"scattercarpet\"}], \"scattergeo\": [{\"marker\": {\"colorbar\": {\"outlinewidth\": 0, \"ticks\": \"\"}}, \"type\": \"scattergeo\"}], \"scattergl\": [{\"marker\": {\"colorbar\": {\"outlinewidth\": 0, \"ticks\": \"\"}}, \"type\": \"scattergl\"}], \"scattermapbox\": [{\"marker\": {\"colorbar\": {\"outlinewidth\": 0, \"ticks\": \"\"}}, \"type\": \"scattermapbox\"}], \"scatterpolar\": [{\"marker\": {\"colorbar\": {\"outlinewidth\": 0, \"ticks\": \"\"}}, \"type\": \"scatterpolar\"}], \"scatterpolargl\": [{\"marker\": {\"colorbar\": {\"outlinewidth\": 0, \"ticks\": \"\"}}, \"type\": \"scatterpolargl\"}], \"scatterternary\": [{\"marker\": {\"colorbar\": {\"outlinewidth\": 0, \"ticks\": \"\"}}, \"type\": \"scatterternary\"}], \"surface\": [{\"colorbar\": {\"outlinewidth\": 0, \"ticks\": \"\"}, \"colorscale\": [[0.0, \"#0d0887\"], [0.1111111111111111, \"#46039f\"], [0.2222222222222222, \"#7201a8\"], [0.3333333333333333, \"#9c179e\"], [0.4444444444444444, \"#bd3786\"], [0.5555555555555556, \"#d8576b\"], [0.6666666666666666, \"#ed7953\"], [0.7777777777777778, \"#fb9f3a\"], [0.8888888888888888, \"#fdca26\"], [1.0, \"#f0f921\"]], \"type\": \"surface\"}], \"table\": [{\"cells\": {\"fill\": {\"color\": \"#EBF0F8\"}, \"line\": {\"color\": \"white\"}}, \"header\": {\"fill\": {\"color\": \"#C8D4E3\"}, \"line\": {\"color\": \"white\"}}, \"type\": \"table\"}]}, \"layout\": {\"annotationdefaults\": {\"arrowcolor\": \"#2a3f5f\", \"arrowhead\": 0, \"arrowwidth\": 1}, \"coloraxis\": {\"colorbar\": {\"outlinewidth\": 0, \"ticks\": \"\"}}, \"colorscale\": {\"diverging\": [[0, \"#8e0152\"], [0.1, \"#c51b7d\"], [0.2, \"#de77ae\"], [0.3, \"#f1b6da\"], [0.4, \"#fde0ef\"], [0.5, \"#f7f7f7\"], [0.6, \"#e6f5d0\"], [0.7, \"#b8e186\"], [0.8, \"#7fbc41\"], [0.9, \"#4d9221\"], [1, \"#276419\"]], \"sequential\": [[0.0, \"#0d0887\"], [0.1111111111111111, \"#46039f\"], [0.2222222222222222, \"#7201a8\"], [0.3333333333333333, \"#9c179e\"], [0.4444444444444444, \"#bd3786\"], [0.5555555555555556, \"#d8576b\"], [0.6666666666666666, \"#ed7953\"], [0.7777777777777778, \"#fb9f3a\"], [0.8888888888888888, \"#fdca26\"], [1.0, \"#f0f921\"]], \"sequentialminus\": [[0.0, \"#0d0887\"], [0.1111111111111111, \"#46039f\"], [0.2222222222222222, \"#7201a8\"], [0.3333333333333333, \"#9c179e\"], [0.4444444444444444, \"#bd3786\"], [0.5555555555555556, \"#d8576b\"], [0.6666666666666666, \"#ed7953\"], [0.7777777777777778, \"#fb9f3a\"], [0.8888888888888888, \"#fdca26\"], [1.0, \"#f0f921\"]]}, \"colorway\": [\"#636efa\", \"#EF553B\", \"#00cc96\", \"#ab63fa\", \"#FFA15A\", \"#19d3f3\", \"#FF6692\", \"#B6E880\", \"#FF97FF\", \"#FECB52\"], \"font\": {\"color\": \"#2a3f5f\"}, \"geo\": {\"bgcolor\": \"white\", \"lakecolor\": \"white\", \"landcolor\": \"#E5ECF6\", \"showlakes\": true, \"showland\": true, \"subunitcolor\": \"white\"}, \"hoverlabel\": {\"align\": \"left\"}, \"hovermode\": \"closest\", \"mapbox\": {\"style\": \"light\"}, \"paper_bgcolor\": \"white\", \"plot_bgcolor\": \"#E5ECF6\", \"polar\": {\"angularaxis\": {\"gridcolor\": \"white\", \"linecolor\": \"white\", \"ticks\": \"\"}, \"bgcolor\": \"#E5ECF6\", \"radialaxis\": {\"gridcolor\": \"white\", \"linecolor\": \"white\", \"ticks\": \"\"}}, \"scene\": {\"xaxis\": {\"backgroundcolor\": \"#E5ECF6\", \"gridcolor\": \"white\", \"gridwidth\": 2, \"linecolor\": \"white\", \"showbackground\": true, \"ticks\": \"\", \"zerolinecolor\": \"white\"}, \"yaxis\": {\"backgroundcolor\": \"#E5ECF6\", \"gridcolor\": \"white\", \"gridwidth\": 2, \"linecolor\": \"white\", \"showbackground\": true, \"ticks\": \"\", \"zerolinecolor\": \"white\"}, \"zaxis\": {\"backgroundcolor\": \"#E5ECF6\", \"gridcolor\": \"white\", \"gridwidth\": 2, \"linecolor\": \"white\", \"showbackground\": true, \"ticks\": \"\", \"zerolinecolor\": \"white\"}}, \"shapedefaults\": {\"line\": {\"color\": \"#2a3f5f\"}}, \"ternary\": {\"aaxis\": {\"gridcolor\": \"white\", \"linecolor\": \"white\", \"ticks\": \"\"}, \"baxis\": {\"gridcolor\": \"white\", \"linecolor\": \"white\", \"ticks\": \"\"}, \"bgcolor\": \"#E5ECF6\", \"caxis\": {\"gridcolor\": \"white\", \"linecolor\": \"white\", \"ticks\": \"\"}}, \"title\": {\"x\": 0.05}, \"xaxis\": {\"automargin\": true, \"gridcolor\": \"white\", \"linecolor\": \"white\", \"ticks\": \"\", \"title\": {\"standoff\": 15}, \"zerolinecolor\": \"white\", \"zerolinewidth\": 2}, \"yaxis\": {\"automargin\": true, \"gridcolor\": \"white\", \"linecolor\": \"white\", \"ticks\": \"\", \"title\": {\"standoff\": 15}, \"zerolinecolor\": \"white\", \"zerolinewidth\": 2}}}, \"title\": {\"text\": \"F1 Score Increase for SVC\"}},                        {\"responsive\": true}                    ).then(function(){\n",
              "                            \n",
              "var gd = document.getElementById('541ce25a-eed2-49ee-a9a0-ed6f485a167f');\n",
              "var x = new MutationObserver(function (mutations, observer) {{\n",
              "        var display = window.getComputedStyle(gd).display;\n",
              "        if (!display || display === 'none') {{\n",
              "            console.log([gd, 'removed!']);\n",
              "            Plotly.purge(gd);\n",
              "            observer.disconnect();\n",
              "        }}\n",
              "}});\n",
              "\n",
              "// Listen for the removal of the full notebook cells\n",
              "var notebookContainer = gd.closest('#notebook-container');\n",
              "if (notebookContainer) {{\n",
              "    x.observe(notebookContainer, {childList: true});\n",
              "}}\n",
              "\n",
              "// Listen for the clearing of the current output cell\n",
              "var outputEl = gd.closest('.output');\n",
              "if (outputEl) {{\n",
              "    x.observe(outputEl, {childList: true});\n",
              "}}\n",
              "\n",
              "                        })                };                            </script>        </div>\n",
              "</body>\n",
              "</html>"
            ]
          },
          "metadata": {
            "tags": []
          }
        }
      ]
    },
    {
      "cell_type": "markdown",
      "metadata": {
        "id": "dJO9HnzXULSx"
      },
      "source": [
        "Τέλος, βλέπουμε πως η βελτίωση ή μη της απόδοσης του SVC εξαρτάται κατά κύριο λόγο από την σωστή επιλογή του πυρήνα. Με την χρήση σωστού πυρήνα όμως, η βελτιστοποίηση υπερπαραμέτρων δεν είναι ιδιαίτερα χρονοβόρα (ειδικά σε σχέση με τα μοντέλα KNN και MLP) και δίνει f1_macro = 0.968 και f1_micro = 0.979. Αυτή η απόδοση είναι η καλύτερη που έχουμε πετύχει και άρα αποτελεί και την τελική επιλογή μας για προβλέπτη σε αυτο το dataset."
      ]
    }
  ]
}