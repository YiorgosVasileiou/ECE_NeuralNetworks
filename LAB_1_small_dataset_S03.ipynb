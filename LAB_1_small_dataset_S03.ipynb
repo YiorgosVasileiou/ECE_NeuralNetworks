{
  "nbformat": 4,
  "nbformat_minor": 0,
  "metadata": {
    "colab": {
      "name": "small_dataset με καλά results.ipynb",
      "provenance": [],
      "collapsed_sections": [
        "6n7OgVfu4PfE",
        "F_v0y8Tie2uB",
        "SXNmYQvZgzk5",
        "XoSM83sqe7EJ",
        "U_GnYqbIOBTv",
        "aXdDZS8hg9NY",
        "z-h59SWwebQK",
        "MC0ijm4W_nJG",
        "-7TbjE0kefjk",
        "l8ZIrq8lel-L",
        "slw7RImj4vz0",
        "DnWb-RUfiKh4",
        "YYUq9ueviuM_",
        "DHyVSV-W4vz3",
        "Ft3DTeBNnYgo",
        "Jc48T5q0L_O2",
        "JsWnEJjoxCjI",
        "5nCs1AiPNF62",
        "3xU4cNKNwGO8",
        "jb6a6C3G61ZB",
        "Krr5lxxUxMop",
        "XSXcthOWxMow",
        "qFcks28CxMo4",
        "F-w9I5f3Jntn",
        "JYMP5j6KxI9k",
        "WVnqoPCZw_Oa",
        "Vxjpn9mrITiX",
        "5WCofwWLrt-M",
        "9_T5ypw62X4H",
        "N0_tpkNU-uVN",
        "tvcSk-00IeCC"
      ],
      "toc_visible": true
    },
    "kernelspec": {
      "display_name": "Python 3",
      "name": "python3"
    }
  },
  "cells": [
    {
      "cell_type": "markdown",
      "metadata": {
        "id": "782JLYOa34F4"
      },
      "source": [
        "#Στοιχεία Ομάδας 33\n",
        "1. Αλατζας Κωνσταντίνος- el15028\n",
        "2. Βασιλείου Γεώργιος - el16062\n",
        "3. Στεντούμης Σπυρίδων-Παρασκευάς - el16747\n",
        "\n",
        "Dataset -> S03\n",
        "\n",
        "\n"
      ]
    },
    {
      "cell_type": "markdown",
      "metadata": {
        "id": "6n7OgVfu4PfE"
      },
      "source": [
        "#Μικρό Dataset (S)"
      ]
    },
    {
      "cell_type": "markdown",
      "metadata": {
        "id": "F_v0y8Tie2uB"
      },
      "source": [
        "##Βασικές Πληροφορίες"
      ]
    },
    {
      "cell_type": "markdown",
      "metadata": {
        "id": "SXNmYQvZgzk5"
      },
      "source": [
        "####Προετοιμασία Δεδομένων - Αρχικοποιήσεις\n"
      ]
    },
    {
      "cell_type": "code",
      "metadata": {
        "colab": {
          "base_uri": "https://localhost:8080/"
        },
        "id": "0Hs6B73a3z_3",
        "outputId": "f1973c13-b021-4d1c-c724-fe541d7d0e64"
      },
      "source": [
        "!pip install --upgrade pip #upgrade pip package installer\n",
        "!pip install scikit-learn --upgrade #upgrade scikit-learn package\n",
        "!pip install numpy --upgrade #upgrade numpy package\n",
        "!pip install pandas --upgrade #--upgrade #upgrade pandas package"
      ],
      "execution_count": null,
      "outputs": [
        {
          "output_type": "stream",
          "text": [
            "Requirement already satisfied: pip in /usr/local/lib/python3.6/dist-packages (20.3)\n",
            "Requirement already satisfied: scikit-learn in /usr/local/lib/python3.6/dist-packages (0.23.2)\n",
            "Requirement already satisfied: scipy>=0.19.1 in /usr/local/lib/python3.6/dist-packages (from scikit-learn) (1.4.1)\n",
            "Requirement already satisfied: numpy>=1.13.3 in /usr/local/lib/python3.6/dist-packages (from scikit-learn) (1.19.4)\n",
            "Requirement already satisfied: joblib>=0.11 in /usr/local/lib/python3.6/dist-packages (from scikit-learn) (0.17.0)\n",
            "Requirement already satisfied: threadpoolctl>=2.0.0 in /usr/local/lib/python3.6/dist-packages (from scikit-learn) (2.1.0)\n",
            "Requirement already satisfied: numpy>=1.13.3 in /usr/local/lib/python3.6/dist-packages (from scikit-learn) (1.19.4)\n",
            "Requirement already satisfied: numpy in /usr/local/lib/python3.6/dist-packages (1.19.4)\n",
            "Requirement already satisfied: pandas in /usr/local/lib/python3.6/dist-packages (1.1.4)\n",
            "Requirement already satisfied: numpy>=1.15.4 in /usr/local/lib/python3.6/dist-packages (from pandas) (1.19.4)\n",
            "Requirement already satisfied: python-dateutil>=2.7.3 in /usr/local/lib/python3.6/dist-packages (from pandas) (2.8.1)\n",
            "Requirement already satisfied: pytz>=2017.2 in /usr/local/lib/python3.6/dist-packages (from pandas) (2018.9)\n",
            "Requirement already satisfied: six>=1.5 in /usr/local/lib/python3.6/dist-packages (from python-dateutil>=2.7.3->pandas) (1.15.0)\n"
          ],
          "name": "stdout"
        }
      ]
    },
    {
      "cell_type": "code",
      "metadata": {
        "id": "JcM_UqzM4nKK"
      },
      "source": [
        "#Εισαγωγή Βιβλιοθηκών\n",
        "import numpy as np\n",
        "import pandas as pd"
      ],
      "execution_count": null,
      "outputs": []
    },
    {
      "cell_type": "code",
      "metadata": {
        "colab": {
          "base_uri": "https://localhost:8080/",
          "height": 669
        },
        "id": "TiThVCrV4_OR",
        "outputId": "2726923a-95b3-4eb4-f102-b074cdf2411b"
      },
      "source": [
        "#διάβασμα του dataset από csv. To αρχείο hepatitis.data πρέπει να ανέβει\n",
        "#χειροκίνητα γιατί σβήνεται όταν κλείνει το runtime.\n",
        "data_folder = pd.read_csv('hepatitis.data.txt',header=None,na_values='?')\n",
        "data_folder.head(20)"
      ],
      "execution_count": null,
      "outputs": [
        {
          "output_type": "execute_result",
          "data": {
            "text/html": [
              "<div>\n",
              "<style scoped>\n",
              "    .dataframe tbody tr th:only-of-type {\n",
              "        vertical-align: middle;\n",
              "    }\n",
              "\n",
              "    .dataframe tbody tr th {\n",
              "        vertical-align: top;\n",
              "    }\n",
              "\n",
              "    .dataframe thead th {\n",
              "        text-align: right;\n",
              "    }\n",
              "</style>\n",
              "<table border=\"1\" class=\"dataframe\">\n",
              "  <thead>\n",
              "    <tr style=\"text-align: right;\">\n",
              "      <th></th>\n",
              "      <th>0</th>\n",
              "      <th>1</th>\n",
              "      <th>2</th>\n",
              "      <th>3</th>\n",
              "      <th>4</th>\n",
              "      <th>5</th>\n",
              "      <th>6</th>\n",
              "      <th>7</th>\n",
              "      <th>8</th>\n",
              "      <th>9</th>\n",
              "      <th>10</th>\n",
              "      <th>11</th>\n",
              "      <th>12</th>\n",
              "      <th>13</th>\n",
              "      <th>14</th>\n",
              "      <th>15</th>\n",
              "      <th>16</th>\n",
              "      <th>17</th>\n",
              "      <th>18</th>\n",
              "      <th>19</th>\n",
              "    </tr>\n",
              "  </thead>\n",
              "  <tbody>\n",
              "    <tr>\n",
              "      <th>0</th>\n",
              "      <td>2</td>\n",
              "      <td>30</td>\n",
              "      <td>2</td>\n",
              "      <td>1.0</td>\n",
              "      <td>2</td>\n",
              "      <td>2.0</td>\n",
              "      <td>2.0</td>\n",
              "      <td>2.0</td>\n",
              "      <td>1.0</td>\n",
              "      <td>2.0</td>\n",
              "      <td>2.0</td>\n",
              "      <td>2.0</td>\n",
              "      <td>2.0</td>\n",
              "      <td>2.0</td>\n",
              "      <td>1.0</td>\n",
              "      <td>85.0</td>\n",
              "      <td>18.0</td>\n",
              "      <td>4.0</td>\n",
              "      <td>NaN</td>\n",
              "      <td>1</td>\n",
              "    </tr>\n",
              "    <tr>\n",
              "      <th>1</th>\n",
              "      <td>2</td>\n",
              "      <td>50</td>\n",
              "      <td>1</td>\n",
              "      <td>1.0</td>\n",
              "      <td>2</td>\n",
              "      <td>1.0</td>\n",
              "      <td>2.0</td>\n",
              "      <td>2.0</td>\n",
              "      <td>1.0</td>\n",
              "      <td>2.0</td>\n",
              "      <td>2.0</td>\n",
              "      <td>2.0</td>\n",
              "      <td>2.0</td>\n",
              "      <td>2.0</td>\n",
              "      <td>0.9</td>\n",
              "      <td>135.0</td>\n",
              "      <td>42.0</td>\n",
              "      <td>3.5</td>\n",
              "      <td>NaN</td>\n",
              "      <td>1</td>\n",
              "    </tr>\n",
              "    <tr>\n",
              "      <th>2</th>\n",
              "      <td>2</td>\n",
              "      <td>78</td>\n",
              "      <td>1</td>\n",
              "      <td>2.0</td>\n",
              "      <td>2</td>\n",
              "      <td>1.0</td>\n",
              "      <td>2.0</td>\n",
              "      <td>2.0</td>\n",
              "      <td>2.0</td>\n",
              "      <td>2.0</td>\n",
              "      <td>2.0</td>\n",
              "      <td>2.0</td>\n",
              "      <td>2.0</td>\n",
              "      <td>2.0</td>\n",
              "      <td>0.7</td>\n",
              "      <td>96.0</td>\n",
              "      <td>32.0</td>\n",
              "      <td>4.0</td>\n",
              "      <td>NaN</td>\n",
              "      <td>1</td>\n",
              "    </tr>\n",
              "    <tr>\n",
              "      <th>3</th>\n",
              "      <td>2</td>\n",
              "      <td>31</td>\n",
              "      <td>1</td>\n",
              "      <td>NaN</td>\n",
              "      <td>1</td>\n",
              "      <td>2.0</td>\n",
              "      <td>2.0</td>\n",
              "      <td>2.0</td>\n",
              "      <td>2.0</td>\n",
              "      <td>2.0</td>\n",
              "      <td>2.0</td>\n",
              "      <td>2.0</td>\n",
              "      <td>2.0</td>\n",
              "      <td>2.0</td>\n",
              "      <td>0.7</td>\n",
              "      <td>46.0</td>\n",
              "      <td>52.0</td>\n",
              "      <td>4.0</td>\n",
              "      <td>80.0</td>\n",
              "      <td>1</td>\n",
              "    </tr>\n",
              "    <tr>\n",
              "      <th>4</th>\n",
              "      <td>2</td>\n",
              "      <td>34</td>\n",
              "      <td>1</td>\n",
              "      <td>2.0</td>\n",
              "      <td>2</td>\n",
              "      <td>2.0</td>\n",
              "      <td>2.0</td>\n",
              "      <td>2.0</td>\n",
              "      <td>2.0</td>\n",
              "      <td>2.0</td>\n",
              "      <td>2.0</td>\n",
              "      <td>2.0</td>\n",
              "      <td>2.0</td>\n",
              "      <td>2.0</td>\n",
              "      <td>1.0</td>\n",
              "      <td>NaN</td>\n",
              "      <td>200.0</td>\n",
              "      <td>4.0</td>\n",
              "      <td>NaN</td>\n",
              "      <td>1</td>\n",
              "    </tr>\n",
              "    <tr>\n",
              "      <th>5</th>\n",
              "      <td>2</td>\n",
              "      <td>34</td>\n",
              "      <td>1</td>\n",
              "      <td>2.0</td>\n",
              "      <td>2</td>\n",
              "      <td>2.0</td>\n",
              "      <td>2.0</td>\n",
              "      <td>2.0</td>\n",
              "      <td>2.0</td>\n",
              "      <td>2.0</td>\n",
              "      <td>2.0</td>\n",
              "      <td>2.0</td>\n",
              "      <td>2.0</td>\n",
              "      <td>2.0</td>\n",
              "      <td>0.9</td>\n",
              "      <td>95.0</td>\n",
              "      <td>28.0</td>\n",
              "      <td>4.0</td>\n",
              "      <td>75.0</td>\n",
              "      <td>1</td>\n",
              "    </tr>\n",
              "    <tr>\n",
              "      <th>6</th>\n",
              "      <td>1</td>\n",
              "      <td>51</td>\n",
              "      <td>1</td>\n",
              "      <td>1.0</td>\n",
              "      <td>2</td>\n",
              "      <td>1.0</td>\n",
              "      <td>2.0</td>\n",
              "      <td>1.0</td>\n",
              "      <td>2.0</td>\n",
              "      <td>2.0</td>\n",
              "      <td>1.0</td>\n",
              "      <td>1.0</td>\n",
              "      <td>2.0</td>\n",
              "      <td>2.0</td>\n",
              "      <td>NaN</td>\n",
              "      <td>NaN</td>\n",
              "      <td>NaN</td>\n",
              "      <td>NaN</td>\n",
              "      <td>NaN</td>\n",
              "      <td>1</td>\n",
              "    </tr>\n",
              "    <tr>\n",
              "      <th>7</th>\n",
              "      <td>2</td>\n",
              "      <td>23</td>\n",
              "      <td>1</td>\n",
              "      <td>2.0</td>\n",
              "      <td>2</td>\n",
              "      <td>2.0</td>\n",
              "      <td>2.0</td>\n",
              "      <td>2.0</td>\n",
              "      <td>2.0</td>\n",
              "      <td>2.0</td>\n",
              "      <td>2.0</td>\n",
              "      <td>2.0</td>\n",
              "      <td>2.0</td>\n",
              "      <td>2.0</td>\n",
              "      <td>1.0</td>\n",
              "      <td>NaN</td>\n",
              "      <td>NaN</td>\n",
              "      <td>NaN</td>\n",
              "      <td>NaN</td>\n",
              "      <td>1</td>\n",
              "    </tr>\n",
              "    <tr>\n",
              "      <th>8</th>\n",
              "      <td>2</td>\n",
              "      <td>39</td>\n",
              "      <td>1</td>\n",
              "      <td>2.0</td>\n",
              "      <td>2</td>\n",
              "      <td>1.0</td>\n",
              "      <td>2.0</td>\n",
              "      <td>2.0</td>\n",
              "      <td>2.0</td>\n",
              "      <td>1.0</td>\n",
              "      <td>2.0</td>\n",
              "      <td>2.0</td>\n",
              "      <td>2.0</td>\n",
              "      <td>2.0</td>\n",
              "      <td>0.7</td>\n",
              "      <td>NaN</td>\n",
              "      <td>48.0</td>\n",
              "      <td>4.4</td>\n",
              "      <td>NaN</td>\n",
              "      <td>1</td>\n",
              "    </tr>\n",
              "    <tr>\n",
              "      <th>9</th>\n",
              "      <td>2</td>\n",
              "      <td>30</td>\n",
              "      <td>1</td>\n",
              "      <td>2.0</td>\n",
              "      <td>2</td>\n",
              "      <td>2.0</td>\n",
              "      <td>2.0</td>\n",
              "      <td>2.0</td>\n",
              "      <td>2.0</td>\n",
              "      <td>2.0</td>\n",
              "      <td>2.0</td>\n",
              "      <td>2.0</td>\n",
              "      <td>2.0</td>\n",
              "      <td>2.0</td>\n",
              "      <td>1.0</td>\n",
              "      <td>NaN</td>\n",
              "      <td>120.0</td>\n",
              "      <td>3.9</td>\n",
              "      <td>NaN</td>\n",
              "      <td>1</td>\n",
              "    </tr>\n",
              "    <tr>\n",
              "      <th>10</th>\n",
              "      <td>2</td>\n",
              "      <td>39</td>\n",
              "      <td>1</td>\n",
              "      <td>1.0</td>\n",
              "      <td>1</td>\n",
              "      <td>2.0</td>\n",
              "      <td>2.0</td>\n",
              "      <td>2.0</td>\n",
              "      <td>1.0</td>\n",
              "      <td>1.0</td>\n",
              "      <td>2.0</td>\n",
              "      <td>2.0</td>\n",
              "      <td>2.0</td>\n",
              "      <td>2.0</td>\n",
              "      <td>1.3</td>\n",
              "      <td>78.0</td>\n",
              "      <td>30.0</td>\n",
              "      <td>4.4</td>\n",
              "      <td>85.0</td>\n",
              "      <td>1</td>\n",
              "    </tr>\n",
              "    <tr>\n",
              "      <th>11</th>\n",
              "      <td>2</td>\n",
              "      <td>32</td>\n",
              "      <td>1</td>\n",
              "      <td>2.0</td>\n",
              "      <td>1</td>\n",
              "      <td>1.0</td>\n",
              "      <td>2.0</td>\n",
              "      <td>2.0</td>\n",
              "      <td>2.0</td>\n",
              "      <td>1.0</td>\n",
              "      <td>2.0</td>\n",
              "      <td>1.0</td>\n",
              "      <td>2.0</td>\n",
              "      <td>2.0</td>\n",
              "      <td>1.0</td>\n",
              "      <td>59.0</td>\n",
              "      <td>249.0</td>\n",
              "      <td>3.7</td>\n",
              "      <td>54.0</td>\n",
              "      <td>1</td>\n",
              "    </tr>\n",
              "    <tr>\n",
              "      <th>12</th>\n",
              "      <td>2</td>\n",
              "      <td>41</td>\n",
              "      <td>1</td>\n",
              "      <td>2.0</td>\n",
              "      <td>1</td>\n",
              "      <td>1.0</td>\n",
              "      <td>2.0</td>\n",
              "      <td>2.0</td>\n",
              "      <td>2.0</td>\n",
              "      <td>1.0</td>\n",
              "      <td>2.0</td>\n",
              "      <td>2.0</td>\n",
              "      <td>2.0</td>\n",
              "      <td>2.0</td>\n",
              "      <td>0.9</td>\n",
              "      <td>81.0</td>\n",
              "      <td>60.0</td>\n",
              "      <td>3.9</td>\n",
              "      <td>52.0</td>\n",
              "      <td>1</td>\n",
              "    </tr>\n",
              "    <tr>\n",
              "      <th>13</th>\n",
              "      <td>2</td>\n",
              "      <td>30</td>\n",
              "      <td>1</td>\n",
              "      <td>2.0</td>\n",
              "      <td>2</td>\n",
              "      <td>1.0</td>\n",
              "      <td>2.0</td>\n",
              "      <td>2.0</td>\n",
              "      <td>2.0</td>\n",
              "      <td>1.0</td>\n",
              "      <td>2.0</td>\n",
              "      <td>2.0</td>\n",
              "      <td>2.0</td>\n",
              "      <td>2.0</td>\n",
              "      <td>2.2</td>\n",
              "      <td>57.0</td>\n",
              "      <td>144.0</td>\n",
              "      <td>4.9</td>\n",
              "      <td>78.0</td>\n",
              "      <td>1</td>\n",
              "    </tr>\n",
              "    <tr>\n",
              "      <th>14</th>\n",
              "      <td>2</td>\n",
              "      <td>47</td>\n",
              "      <td>1</td>\n",
              "      <td>1.0</td>\n",
              "      <td>1</td>\n",
              "      <td>2.0</td>\n",
              "      <td>2.0</td>\n",
              "      <td>2.0</td>\n",
              "      <td>2.0</td>\n",
              "      <td>2.0</td>\n",
              "      <td>2.0</td>\n",
              "      <td>2.0</td>\n",
              "      <td>2.0</td>\n",
              "      <td>2.0</td>\n",
              "      <td>NaN</td>\n",
              "      <td>NaN</td>\n",
              "      <td>60.0</td>\n",
              "      <td>NaN</td>\n",
              "      <td>NaN</td>\n",
              "      <td>1</td>\n",
              "    </tr>\n",
              "    <tr>\n",
              "      <th>15</th>\n",
              "      <td>2</td>\n",
              "      <td>38</td>\n",
              "      <td>1</td>\n",
              "      <td>1.0</td>\n",
              "      <td>2</td>\n",
              "      <td>1.0</td>\n",
              "      <td>1.0</td>\n",
              "      <td>1.0</td>\n",
              "      <td>2.0</td>\n",
              "      <td>2.0</td>\n",
              "      <td>2.0</td>\n",
              "      <td>2.0</td>\n",
              "      <td>1.0</td>\n",
              "      <td>2.0</td>\n",
              "      <td>2.0</td>\n",
              "      <td>72.0</td>\n",
              "      <td>89.0</td>\n",
              "      <td>2.9</td>\n",
              "      <td>46.0</td>\n",
              "      <td>1</td>\n",
              "    </tr>\n",
              "    <tr>\n",
              "      <th>16</th>\n",
              "      <td>2</td>\n",
              "      <td>66</td>\n",
              "      <td>1</td>\n",
              "      <td>2.0</td>\n",
              "      <td>2</td>\n",
              "      <td>1.0</td>\n",
              "      <td>2.0</td>\n",
              "      <td>2.0</td>\n",
              "      <td>2.0</td>\n",
              "      <td>2.0</td>\n",
              "      <td>2.0</td>\n",
              "      <td>2.0</td>\n",
              "      <td>2.0</td>\n",
              "      <td>2.0</td>\n",
              "      <td>1.2</td>\n",
              "      <td>102.0</td>\n",
              "      <td>53.0</td>\n",
              "      <td>4.3</td>\n",
              "      <td>NaN</td>\n",
              "      <td>1</td>\n",
              "    </tr>\n",
              "    <tr>\n",
              "      <th>17</th>\n",
              "      <td>2</td>\n",
              "      <td>40</td>\n",
              "      <td>1</td>\n",
              "      <td>1.0</td>\n",
              "      <td>2</td>\n",
              "      <td>1.0</td>\n",
              "      <td>2.0</td>\n",
              "      <td>2.0</td>\n",
              "      <td>2.0</td>\n",
              "      <td>1.0</td>\n",
              "      <td>2.0</td>\n",
              "      <td>2.0</td>\n",
              "      <td>2.0</td>\n",
              "      <td>2.0</td>\n",
              "      <td>0.6</td>\n",
              "      <td>62.0</td>\n",
              "      <td>166.0</td>\n",
              "      <td>4.0</td>\n",
              "      <td>63.0</td>\n",
              "      <td>1</td>\n",
              "    </tr>\n",
              "    <tr>\n",
              "      <th>18</th>\n",
              "      <td>2</td>\n",
              "      <td>38</td>\n",
              "      <td>1</td>\n",
              "      <td>2.0</td>\n",
              "      <td>2</td>\n",
              "      <td>2.0</td>\n",
              "      <td>2.0</td>\n",
              "      <td>2.0</td>\n",
              "      <td>2.0</td>\n",
              "      <td>2.0</td>\n",
              "      <td>2.0</td>\n",
              "      <td>2.0</td>\n",
              "      <td>2.0</td>\n",
              "      <td>2.0</td>\n",
              "      <td>0.7</td>\n",
              "      <td>53.0</td>\n",
              "      <td>42.0</td>\n",
              "      <td>4.1</td>\n",
              "      <td>85.0</td>\n",
              "      <td>2</td>\n",
              "    </tr>\n",
              "    <tr>\n",
              "      <th>19</th>\n",
              "      <td>2</td>\n",
              "      <td>38</td>\n",
              "      <td>1</td>\n",
              "      <td>1.0</td>\n",
              "      <td>1</td>\n",
              "      <td>2.0</td>\n",
              "      <td>2.0</td>\n",
              "      <td>2.0</td>\n",
              "      <td>1.0</td>\n",
              "      <td>1.0</td>\n",
              "      <td>2.0</td>\n",
              "      <td>2.0</td>\n",
              "      <td>2.0</td>\n",
              "      <td>2.0</td>\n",
              "      <td>0.7</td>\n",
              "      <td>70.0</td>\n",
              "      <td>28.0</td>\n",
              "      <td>4.2</td>\n",
              "      <td>62.0</td>\n",
              "      <td>1</td>\n",
              "    </tr>\n",
              "  </tbody>\n",
              "</table>\n",
              "</div>"
            ],
            "text/plain": [
              "    0   1   2    3   4    5    6   ...   13   14     15     16   17    18  19\n",
              "0    2  30   2  1.0   2  2.0  2.0  ...  2.0  1.0   85.0   18.0  4.0   NaN   1\n",
              "1    2  50   1  1.0   2  1.0  2.0  ...  2.0  0.9  135.0   42.0  3.5   NaN   1\n",
              "2    2  78   1  2.0   2  1.0  2.0  ...  2.0  0.7   96.0   32.0  4.0   NaN   1\n",
              "3    2  31   1  NaN   1  2.0  2.0  ...  2.0  0.7   46.0   52.0  4.0  80.0   1\n",
              "4    2  34   1  2.0   2  2.0  2.0  ...  2.0  1.0    NaN  200.0  4.0   NaN   1\n",
              "5    2  34   1  2.0   2  2.0  2.0  ...  2.0  0.9   95.0   28.0  4.0  75.0   1\n",
              "6    1  51   1  1.0   2  1.0  2.0  ...  2.0  NaN    NaN    NaN  NaN   NaN   1\n",
              "7    2  23   1  2.0   2  2.0  2.0  ...  2.0  1.0    NaN    NaN  NaN   NaN   1\n",
              "8    2  39   1  2.0   2  1.0  2.0  ...  2.0  0.7    NaN   48.0  4.4   NaN   1\n",
              "9    2  30   1  2.0   2  2.0  2.0  ...  2.0  1.0    NaN  120.0  3.9   NaN   1\n",
              "10   2  39   1  1.0   1  2.0  2.0  ...  2.0  1.3   78.0   30.0  4.4  85.0   1\n",
              "11   2  32   1  2.0   1  1.0  2.0  ...  2.0  1.0   59.0  249.0  3.7  54.0   1\n",
              "12   2  41   1  2.0   1  1.0  2.0  ...  2.0  0.9   81.0   60.0  3.9  52.0   1\n",
              "13   2  30   1  2.0   2  1.0  2.0  ...  2.0  2.2   57.0  144.0  4.9  78.0   1\n",
              "14   2  47   1  1.0   1  2.0  2.0  ...  2.0  NaN    NaN   60.0  NaN   NaN   1\n",
              "15   2  38   1  1.0   2  1.0  1.0  ...  2.0  2.0   72.0   89.0  2.9  46.0   1\n",
              "16   2  66   1  2.0   2  1.0  2.0  ...  2.0  1.2  102.0   53.0  4.3   NaN   1\n",
              "17   2  40   1  1.0   2  1.0  2.0  ...  2.0  0.6   62.0  166.0  4.0  63.0   1\n",
              "18   2  38   1  2.0   2  2.0  2.0  ...  2.0  0.7   53.0   42.0  4.1  85.0   2\n",
              "19   2  38   1  1.0   1  2.0  2.0  ...  2.0  0.7   70.0   28.0  4.2  62.0   1\n",
              "\n",
              "[20 rows x 20 columns]"
            ]
          },
          "metadata": {
            "tags": []
          },
          "execution_count": 3
        }
      ]
    },
    {
      "cell_type": "markdown",
      "metadata": {
        "id": "9OH73nlHlivX"
      },
      "source": [
        "###1. \n",
        "Το dataset περιγράφει περιπτώσεις θανατηφόρας ή μη ηπατίτιδας. Δημιουργήθηκε το 1988 και έχει χρησιμοποιηθεί σε 2 γνωστές εφαρμογές, μια με 80% ακρίβεια και μια με 83%"
      ]
    },
    {
      "cell_type": "markdown",
      "metadata": {
        "id": "Y6YjpSNjmc6U"
      },
      "source": [
        "###2. \n",
        "  * Αριθμός δειγμάτων: 155\n",
        "  * Αριθμός Χαρακτηριστικών: 18 (+1 η κλαση στην οποία ανήκει το κάθε δείγμα)\n",
        "  * Υπάρχουν μη διατατεγμένα χαρακτηριστικά. Συγκεκριμένα είναι 1 και είναι το Φύλο.\n"
      ]
    },
    {
      "cell_type": "markdown",
      "metadata": {
        "id": "BYQUDrSKnUOe"
      },
      "source": [
        "###3. \n",
        "Δεν υπάρχουν ούτε επικεφαλίδες, ούτε αρίθμηση γραμμών."
      ]
    },
    {
      "cell_type": "markdown",
      "metadata": {
        "id": "uai_GFtqnc1z"
      },
      "source": [
        "###4. \n",
        "Οι ετικέτες κλάσεων είναι 2. 1 (DIE), 2(LIVE) και βρίσκονται στη πρώτη κολώνα."
      ]
    },
    {
      "cell_type": "markdown",
      "metadata": {
        "id": "PVq19os8nrnC"
      },
      "source": [
        "###5. \n",
        "Χρείαστηκαν μετατροπές. \n",
        "  * Αυτές ήταν η αλλαγή του \"?\", στις απουσιάζοντες τιμές με το NaN, και \n",
        "  * η αλλαγή των τιμών από 1-2 σε 0-1 για την καλύτερη αναπαράσταση του \"Δεν Βρέθηκε\" - \"Βρέθηκε\" για κάθε κολώνα που περιγράφουν τέτοια ιδιότητα."
      ]
    },
    {
      "cell_type": "markdown",
      "metadata": {
        "id": "ypjTDiDnonIB"
      },
      "source": [
        "###6.\n",
        "Υπήρχαν Απουσιάζουσες τιμές.\n",
        "\n",
        "Όπως θα δούμε παρακάτω (8.), υπάρχουν απουσιάζουσες τιμές. Ο αριθμός των δειγμάτων με απουσιάζουσες τιμές είναι 75 και το ποσοστό τους επί του συνόλου είναι 48%. Για αυτό τον λόγο παρακάτω οδηγούμαστε στο να κάνουμε Impute τις τιμές αυτές, αντί να διαγράψουμε τα δείγματα με απουσιάζουσες τιμές, με βάση την οδηγία να διαγραφούν τα δείγματα μόνο όταν το ποσοστό των απουσιάζοντων τιμών είναι <5%"
      ]
    },
    {
      "cell_type": "markdown",
      "metadata": {
        "id": "J083QgZ-ovJ0"
      },
      "source": [
        "###7.\n",
        "Ο αριθμός των κλάσεων είναι 2.\n",
        "\n",
        "Όπως θα δούμε και παρακάτω (8.), η Κλάση 2 (LIVE) είναι το 80% των δειγμάτων, ενώ η Κλάση 1(DIE) το 20%, έτσι το Dataset εύκολα χαρακτηρίζεται ως Μη Ισορροπημένο."
      ]
    },
    {
      "cell_type": "markdown",
      "metadata": {
        "id": "PugKg_ufLdGI"
      },
      "source": [
        "###8. \n",
        "Διαχωρισμός σε Train και Test Set αφού προηγείται η αντιμετώπιση των απουσιάζοντων τιμών και των μη διατεταγμένων χαρακτηριστικών."
      ]
    },
    {
      "cell_type": "code",
      "metadata": {
        "id": "LmCafh9JTvzo"
      },
      "source": [
        "data_folder[2].replace({1:\"male\", 2:\"female\"}, inplace=True)\n",
        "for i in range(3,14):\n",
        "  data_folder[i].replace({1:0, 2:1}, inplace=True)\n",
        "data_folder[19].replace({1:0, 2:1}, inplace=True)\n",
        "data_folder[0].replace({1:0, 2:1}, inplace=True)"
      ],
      "execution_count": null,
      "outputs": []
    },
    {
      "cell_type": "code",
      "metadata": {
        "colab": {
          "base_uri": "https://localhost:8080/"
        },
        "id": "pCMi8LzC6xGm",
        "outputId": "8f5329b8-c87a-4157-fb74-c8caef39d7a5"
      },
      "source": [
        "labels_df = data_folder.iloc[:, [0]] #Αν το άτομο έζησε ή πέθανε. 1-> Πέθανε, 2-> Έζησε\n",
        "features_df = data_folder.iloc[:, 1:20] #Τα χαρακτηριστικά του άτομου. Ηλικία->1, Φύλο->2 κλπ\n",
        "print(\"Labels:\")\n",
        "print(labels_df)\n",
        "print(\"Features:\")\n",
        "print(features_df)"
      ],
      "execution_count": null,
      "outputs": [
        {
          "output_type": "stream",
          "text": [
            "Labels:\n",
            "     0\n",
            "0    1\n",
            "1    1\n",
            "2    1\n",
            "3    1\n",
            "4    1\n",
            "..  ..\n",
            "150  0\n",
            "151  1\n",
            "152  1\n",
            "153  1\n",
            "154  0\n",
            "\n",
            "[155 rows x 1 columns]\n",
            "Features:\n",
            "     1       2    3   4    5    6    7   ...   13   14     15     16   17    18  19\n",
            "0    30  female  0.0   1  1.0  1.0  1.0  ...  1.0  1.0   85.0   18.0  4.0   NaN   0\n",
            "1    50    male  0.0   1  0.0  1.0  1.0  ...  1.0  0.9  135.0   42.0  3.5   NaN   0\n",
            "2    78    male  1.0   1  0.0  1.0  1.0  ...  1.0  0.7   96.0   32.0  4.0   NaN   0\n",
            "3    31    male  NaN   0  1.0  1.0  1.0  ...  1.0  0.7   46.0   52.0  4.0  80.0   0\n",
            "4    34    male  1.0   1  1.0  1.0  1.0  ...  1.0  1.0    NaN  200.0  4.0   NaN   0\n",
            "..   ..     ...  ...  ..  ...  ...  ...  ...  ...  ...    ...    ...  ...   ...  ..\n",
            "150  46    male  1.0   1  0.0  0.0  0.0  ...  0.0  7.6    NaN  242.0  3.3  50.0   1\n",
            "151  44    male  1.0   1  0.0  1.0  1.0  ...  1.0  0.9  126.0  142.0  4.3   NaN   1\n",
            "152  61    male  0.0   1  0.0  0.0  1.0  ...  1.0  0.8   75.0   20.0  4.1   NaN   1\n",
            "153  53  female  0.0   1  0.0  1.0  1.0  ...  0.0  1.5   81.0   19.0  4.1  48.0   1\n",
            "154  43    male  1.0   1  0.0  1.0  1.0  ...  1.0  1.2  100.0   19.0  3.1  42.0   1\n",
            "\n",
            "[155 rows x 19 columns]\n"
          ],
          "name": "stdout"
        }
      ]
    },
    {
      "cell_type": "markdown",
      "metadata": {
        "id": "3szWkge3NXx4"
      },
      "source": [
        "Για τα μη διατεταγμένα χαρακτηριστικά, που είναι μόνο το φύλο, επιλέξαμε τη δημιουργία 2 binary χαρακτηριστικών, ένα για male και ένα για female, που κάθε φορά θα είναι μόνο ένα εκ των 2 ενεργό."
      ]
    },
    {
      "cell_type": "code",
      "metadata": {
        "colab": {
          "base_uri": "https://localhost:8080/"
        },
        "id": "313lmohrlF4I",
        "outputId": "b25e3f8e-67da-4baa-db7a-8701982c4c74"
      },
      "source": [
        "x = pd.get_dummies(features_df, columns=[2])\n",
        "print(x)"
      ],
      "execution_count": null,
      "outputs": [
        {
          "output_type": "stream",
          "text": [
            "      1    3  4    5    6    7  ...     16   17    18  19  2_female  2_male\n",
            "0    30  0.0  1  1.0  1.0  1.0  ...   18.0  4.0   NaN   0         1       0\n",
            "1    50  0.0  1  0.0  1.0  1.0  ...   42.0  3.5   NaN   0         0       1\n",
            "2    78  1.0  1  0.0  1.0  1.0  ...   32.0  4.0   NaN   0         0       1\n",
            "3    31  NaN  0  1.0  1.0  1.0  ...   52.0  4.0  80.0   0         0       1\n",
            "4    34  1.0  1  1.0  1.0  1.0  ...  200.0  4.0   NaN   0         0       1\n",
            "..   ..  ... ..  ...  ...  ...  ...    ...  ...   ...  ..       ...     ...\n",
            "150  46  1.0  1  0.0  0.0  0.0  ...  242.0  3.3  50.0   1         0       1\n",
            "151  44  1.0  1  0.0  1.0  1.0  ...  142.0  4.3   NaN   1         0       1\n",
            "152  61  0.0  1  0.0  0.0  1.0  ...   20.0  4.1   NaN   1         0       1\n",
            "153  53  0.0  1  0.0  1.0  1.0  ...   19.0  4.1  48.0   1         1       0\n",
            "154  43  1.0  1  0.0  1.0  1.0  ...   19.0  3.1  42.0   1         0       1\n",
            "\n",
            "[155 rows x 20 columns]\n"
          ],
          "name": "stdout"
        }
      ]
    },
    {
      "cell_type": "markdown",
      "metadata": {
        "id": "N9GsmLqkN6yo"
      },
      "source": [
        "Για τις απουσιάζουσες τιμές, επιλέξαμε να τις κάνουμε Impute ακολουθώντας την στρατηγική Mean για να μην επηρεαστούν τα δεδομένα μας. \n",
        "Θα μπορούσαμε επίσης να πετάξουμε τα δείγματα που περιείχαν απουσιάζουσα τιμή σε ένα από τα χαρακτηριστικά τους. Αυτό όμως, θα οδηγούσε σε μεγάλη απώλεια δεδομένων, που σε συνδυασμό με τον μικρό όγκο διαθέσιμων δεδομένων πιθανώς να οδηγούσε σε μικρότερη ακρίβεια."
      ]
    },
    {
      "cell_type": "code",
      "metadata": {
        "colab": {
          "base_uri": "https://localhost:8080/"
        },
        "id": "Io6RiyV591M1",
        "outputId": "55c6a76a-2193-4e5b-c744-f1cf11605d35"
      },
      "source": [
        "#Το dataset μας έχει τιμές \"?\". \n",
        "#οπότε θα χρησιμοποιήσουμε SimpleImputer για \n",
        "#να έχουμε ένα dataset με το οποίο μπορούμε να δουλέψουμε\n",
        "from sklearn.impute import SimpleImputer\n",
        "x.replace('?',np.NaN,inplace=True)\n",
        "print(x)\n",
        "imp=SimpleImputer(missing_values=np.NaN,strategy='mean',)\n",
        "\n",
        "features_idf=pd.DataFrame(imp.fit_transform(x))\n",
        "features_idf.columns=x.columns\n",
        "features_idf.index=x.index\n",
        "\n",
        "print(features_idf)\n"
      ],
      "execution_count": null,
      "outputs": [
        {
          "output_type": "stream",
          "text": [
            "      1    3  4    5    6    7  ...     16   17    18  19  2_female  2_male\n",
            "0    30  0.0  1  1.0  1.0  1.0  ...   18.0  4.0   NaN   0         1       0\n",
            "1    50  0.0  1  0.0  1.0  1.0  ...   42.0  3.5   NaN   0         0       1\n",
            "2    78  1.0  1  0.0  1.0  1.0  ...   32.0  4.0   NaN   0         0       1\n",
            "3    31  NaN  0  1.0  1.0  1.0  ...   52.0  4.0  80.0   0         0       1\n",
            "4    34  1.0  1  1.0  1.0  1.0  ...  200.0  4.0   NaN   0         0       1\n",
            "..   ..  ... ..  ...  ...  ...  ...    ...  ...   ...  ..       ...     ...\n",
            "150  46  1.0  1  0.0  0.0  0.0  ...  242.0  3.3  50.0   1         0       1\n",
            "151  44  1.0  1  0.0  1.0  1.0  ...  142.0  4.3   NaN   1         0       1\n",
            "152  61  0.0  1  0.0  0.0  1.0  ...   20.0  4.1   NaN   1         0       1\n",
            "153  53  0.0  1  0.0  1.0  1.0  ...   19.0  4.1  48.0   1         1       0\n",
            "154  43  1.0  1  0.0  1.0  1.0  ...   19.0  3.1  42.0   1         0       1\n",
            "\n",
            "[155 rows x 20 columns]\n",
            "        1         3    4    5    6  ...   17         18   19  2_female  2_male\n",
            "0    30.0  0.000000  1.0  1.0  1.0  ...  4.0  61.852273  0.0       1.0     0.0\n",
            "1    50.0  0.000000  1.0  0.0  1.0  ...  3.5  61.852273  0.0       0.0     1.0\n",
            "2    78.0  1.000000  1.0  0.0  1.0  ...  4.0  61.852273  0.0       0.0     1.0\n",
            "3    31.0  0.506494  0.0  1.0  1.0  ...  4.0  80.000000  0.0       0.0     1.0\n",
            "4    34.0  1.000000  1.0  1.0  1.0  ...  4.0  61.852273  0.0       0.0     1.0\n",
            "..    ...       ...  ...  ...  ...  ...  ...        ...  ...       ...     ...\n",
            "150  46.0  1.000000  1.0  0.0  0.0  ...  3.3  50.000000  1.0       0.0     1.0\n",
            "151  44.0  1.000000  1.0  0.0  1.0  ...  4.3  61.852273  1.0       0.0     1.0\n",
            "152  61.0  0.000000  1.0  0.0  0.0  ...  4.1  61.852273  1.0       0.0     1.0\n",
            "153  53.0  0.000000  1.0  0.0  1.0  ...  4.1  48.000000  1.0       1.0     0.0\n",
            "154  43.0  1.000000  1.0  0.0  1.0  ...  3.1  42.000000  1.0       0.0     1.0\n",
            "\n",
            "[155 rows x 20 columns]\n"
          ],
          "name": "stdout"
        }
      ]
    },
    {
      "cell_type": "code",
      "metadata": {
        "colab": {
          "base_uri": "https://localhost:8080/"
        },
        "id": "SZTQcV0ERj8E",
        "outputId": "0b5a7432-6a7b-4d05-c2ec-674c9667dddd"
      },
      "source": [
        "#Μετατροπή σε numpy array\n",
        "features = features_idf.values\n",
        "labels = labels_df.values.reshape(155,)\n",
        "\n",
        "print(features[:, 0]) #Επιβεβαιώνουμε ότι πρόκειται για ηλικίες.\n",
        "print(features.shape)\n",
        "print(features)\n",
        "print(labels.shape)\n",
        "print(labels.dtype)\n",
        "print(\"frequencies:\", np.bincount(labels)) #Πλήθος εμφανίσεων αποτελεσμάτων. Βλέπουμε ότι συμφωνεί με αυτό που μας έχει δώσει το dataset στο hypatitis.name\n",
        "print(\"Percentages: \", np.bincount(labels)[0]/len(labels), np.bincount(labels)[1]/len(labels))"
      ],
      "execution_count": null,
      "outputs": [
        {
          "output_type": "stream",
          "text": [
            "[30. 50. 78. 31. 34. 34. 51. 23. 39. 30. 39. 32. 41. 30. 47. 38. 66. 40.\n",
            " 38. 38. 22. 27. 31. 42. 25. 27. 49. 58. 61. 51. 39. 62. 41. 26. 35. 37.\n",
            " 23. 20. 42. 65. 52. 23. 33. 56. 34. 28. 37. 28. 36. 38. 39. 39. 44. 40.\n",
            " 30. 37. 34. 30. 64. 45. 37. 32. 32. 36. 49. 27. 56. 57. 39. 44. 24. 34.\n",
            " 51. 36. 50. 32. 58. 34. 34. 28. 23. 36. 30. 67. 62. 28. 44. 30. 38. 38.\n",
            " 50. 42. 33. 52. 59. 40. 30. 44. 47. 60. 48. 22. 27. 51. 47. 25. 35. 45.\n",
            " 54. 33.  7. 42. 52. 45. 36. 69. 24. 50. 61. 54. 56. 20. 42. 37. 50. 34.\n",
            " 28. 50. 54. 57. 54. 31. 48. 72. 38. 25. 51. 38. 47. 45. 36. 54. 51. 49.\n",
            " 45. 31. 41. 70. 20. 36. 46. 44. 61. 53. 43.]\n",
            "(155, 20)\n",
            "[[30.  0.  1. ...  0.  1.  0.]\n",
            " [50.  0.  1. ...  0.  0.  1.]\n",
            " [78.  1.  1. ...  0.  0.  1.]\n",
            " ...\n",
            " [61.  0.  1. ...  1.  0.  1.]\n",
            " [53.  0.  1. ...  1.  1.  0.]\n",
            " [43.  1.  1. ...  1.  0.  1.]]\n",
            "(155,)\n",
            "int64\n",
            "frequencies: [ 32 123]\n",
            "Percentages:  0.2064516129032258 0.7935483870967742\n"
          ],
          "name": "stdout"
        }
      ]
    },
    {
      "cell_type": "code",
      "metadata": {
        "colab": {
          "base_uri": "https://localhost:8080/"
        },
        "id": "QWAiXYj6_x1_",
        "outputId": "a76a996e-8485-48ec-f567-6e0b7b0295a5"
      },
      "source": [
        "#Χωρίζουμε τα δεδομενα σε train και test set\n",
        "from sklearn.model_selection import train_test_split\n",
        "\n",
        "train, test, train_labels, test_labels = train_test_split(features, labels, test_size=0.2)\n",
        "print(train.shape)\n",
        "print(test.shape)\n",
        "print(train_labels.shape)\n",
        "print(test_labels.shape)"
      ],
      "execution_count": null,
      "outputs": [
        {
          "output_type": "stream",
          "text": [
            "(124, 20)\n",
            "(31, 20)\n",
            "(124,)\n",
            "(31,)\n"
          ],
          "name": "stdout"
        }
      ]
    },
    {
      "cell_type": "markdown",
      "metadata": {
        "id": "XoSM83sqe7EJ"
      },
      "source": [
        "##Ταξινόμηση"
      ]
    },
    {
      "cell_type": "markdown",
      "metadata": {
        "id": "U_GnYqbIOBTv"
      },
      "source": [
        "###Baseline Classification"
      ]
    },
    {
      "cell_type": "markdown",
      "metadata": {
        "id": "aXdDZS8hg9NY"
      },
      "source": [
        "####Δημιουργία απλών Classifier και εκπαίδευση τους"
      ]
    },
    {
      "cell_type": "code",
      "metadata": {
        "colab": {
          "base_uri": "https://localhost:8080/"
        },
        "id": "2fyJCeQzADBc",
        "outputId": "3eda2003-df49-4e6f-9a8e-7cfc4b1b0962"
      },
      "source": [
        "#Φτιάχνω τους Base Classifiers και τους κάνω train.\n",
        "from sklearn.dummy import DummyClassifier\n",
        "from sklearn.naive_bayes import GaussianNB\n",
        "from sklearn.neighbors import KNeighborsClassifier\n",
        "\n",
        "dummy = DummyClassifier()\n",
        "GNB = GaussianNB()\n",
        "knn = KNeighborsClassifier()\n",
        "\n",
        "dummy_model = dummy.fit(train, train_labels)\n",
        "gnb_model = GNB.fit(train, train_labels)\n",
        "knn_model = knn.fit(train, train_labels)"
      ],
      "execution_count": null,
      "outputs": [
        {
          "output_type": "stream",
          "text": [
            "/usr/local/lib/python3.6/dist-packages/sklearn/dummy.py:132: FutureWarning: The default value of strategy will change from stratified to prior in 0.24.\n",
            "  \"stratified to prior in 0.24.\", FutureWarning)\n"
          ],
          "name": "stderr"
        }
      ]
    },
    {
      "cell_type": "code",
      "metadata": {
        "id": "CjcdpA7tBbr2"
      },
      "source": [
        "#Predictions.\n",
        "dummy_preds = dummy.predict(test)\n",
        "gnb_preds = GNB.predict(test)\n",
        "knn_preds = knn.predict(test)"
      ],
      "execution_count": null,
      "outputs": []
    },
    {
      "cell_type": "markdown",
      "metadata": {
        "id": "z-h59SWwebQK"
      },
      "source": [
        "####Confusion Matrix"
      ]
    },
    {
      "cell_type": "code",
      "metadata": {
        "colab": {
          "base_uri": "https://localhost:8080/",
          "height": 862
        },
        "id": "ZLYbolQPU748",
        "outputId": "02427d57-5a3a-46dc-db1b-a4bb89dd159a"
      },
      "source": [
        "#Confusion Matrix\n",
        "from sklearn.metrics import confusion_matrix, plot_confusion_matrix\n",
        "\n",
        "# τυπώνουμε το confusion matrix\n",
        "cnf_dum_base = plot_confusion_matrix(dummy, test, test_labels, display_labels=[\"DIE\", \"LIVE\"], cmap='Blues', normalize='true')\n",
        "print()\n",
        "\n",
        "\n",
        "# τυπώνουμε το confusion matrix\n",
        "cnf_gnb_base = plot_confusion_matrix(GNB, test, test_labels, display_labels=[\"DIE\", \"LIVE\"], cmap='Blues', normalize='true')\n",
        "print()\n",
        "\n",
        "\n",
        "# τυπώνουμε το confusion matrix\n",
        "cnf_knn_base = plot_confusion_matrix(knn, test, test_labels, display_labels=[\"DIE\", \"LIVE\"], cmap='Blues', normalize='true')\n",
        "\n",
        "print()"
      ],
      "execution_count": null,
      "outputs": [
        {
          "output_type": "stream",
          "text": [
            "\n",
            "\n",
            "\n"
          ],
          "name": "stdout"
        },
        {
          "output_type": "display_data",
          "data": {
            "image/png": "[encoded data removed]",
            "text/plain": [
              "<Figure size 432x288 with 2 Axes>"
            ]
          },
          "metadata": {
            "tags": [],
            "needs_background": "light"
          }
        },
        {
          "output_type": "display_data",
          "data": {
            "image/png": "[encoded data removed]",
            "text/plain": [
              "<Figure size 432x288 with 2 Axes>"
            ]
          },
          "metadata": {
            "tags": [],
            "needs_background": "light"
          }
        },
        {
          "output_type": "display_data",
          "data": {
            "image/png": "[encoded data removed]",
            "text/plain": [
              "<Figure size 432x288 with 2 Axes>"
            ]
          },
          "metadata": {
            "tags": [],
            "needs_background": "light"
          }
        }
      ]
    },
    {
      "cell_type": "markdown",
      "metadata": {
        "id": "MC0ijm4W_nJG"
      },
      "source": [
        "####Precision & Recall"
      ]
    },
    {
      "cell_type": "code",
      "metadata": {
        "colab": {
          "base_uri": "https://localhost:8080/"
        },
        "id": "XEbZ75hFv4FW",
        "outputId": "bf84dfb6-8b25-414e-9015-d0251be5d47e"
      },
      "source": [
        "from sklearn.metrics import f1_score, classification_report, precision_score, recall_score\n",
        "\n",
        "print(\"========PRECISION=========\")\n",
        "print(precision_score(test_labels, dummy_preds))\n",
        "print(precision_score(test_labels, gnb_preds))\n",
        "print(precision_score(test_labels, knn_preds))\n",
        "print(\"========RECALL=========\")\n",
        "print(recall_score(test_labels, dummy_preds))\n",
        "print(recall_score(test_labels, gnb_preds))\n",
        "print(recall_score(test_labels, knn_preds))"
      ],
      "execution_count": null,
      "outputs": [
        {
          "output_type": "stream",
          "text": [
            "========PRECISION=========\n",
            "0.8076923076923077\n",
            "1.0\n",
            "0.7741935483870968\n",
            "========RECALL=========\n",
            "0.875\n",
            "0.4583333333333333\n",
            "1.0\n"
          ],
          "name": "stdout"
        }
      ]
    },
    {
      "cell_type": "markdown",
      "metadata": {
        "id": "-7TbjE0kefjk"
      },
      "source": [
        "####F1-Micro Average"
      ]
    },
    {
      "cell_type": "code",
      "metadata": {
        "colab": {
          "base_uri": "https://localhost:8080/"
        },
        "id": "aUy0jN2MVDK6",
        "outputId": "5f38b9db-61a4-4d7e-9258-d05ad4d35f26"
      },
      "source": [
        "f1_mi_dummy = f1_score(test_labels, dummy_preds, average='micro')\n",
        "f1_mi_gnb = f1_score(test_labels, gnb_preds, average='micro')\n",
        "f1_mi_knn = f1_score(test_labels, knn_preds, average='micro')\n",
        "\n",
        "print(\"F1-Micro Average for Dummy Classifier: \", f1_mi_dummy)\n",
        "print(\"F1-Micro Average for Gaussian NB Classifier: \", f1_mi_gnb)\n",
        "print(\"F1-Micro Average for k-Nearest Neighbors Classifier: \", f1_mi_knn)"
      ],
      "execution_count": null,
      "outputs": [
        {
          "output_type": "stream",
          "text": [
            "F1-Micro Average for Dummy Classifier:  0.6451612903225806\n",
            "F1-Micro Average for Gaussian NB Classifier:  0.4838709677419355\n",
            "F1-Micro Average for k-Nearest Neighbors Classifier:  0.6774193548387096\n"
          ],
          "name": "stdout"
        }
      ]
    },
    {
      "cell_type": "markdown",
      "metadata": {
        "id": "l8ZIrq8lel-L"
      },
      "source": [
        "####F1-Macro Average"
      ]
    },
    {
      "cell_type": "code",
      "metadata": {
        "colab": {
          "base_uri": "https://localhost:8080/"
        },
        "id": "Q6hFm8JYeoRB",
        "outputId": "3ef15307-7aac-4f60-bafd-08b908704a4b"
      },
      "source": [
        "f1_ma_dummy = f1_score(test_labels, dummy_preds, average='macro')\n",
        "f1_ma_gnb = f1_score(test_labels, gnb_preds, average='macro')\n",
        "f1_ma_knn = f1_score(test_labels, knn_preds, average='macro')\n",
        "\n",
        "print(\"F1-Macro Average for Dummy Classifier: \", f1_ma_dummy)\n",
        "print(\"F1-Macro Average for Gaussian NB Classifier: \", f1_ma_gnb)\n",
        "print(\"F1-Macro Average for k-Nearest Neighbors Classifier: \", f1_ma_knn)"
      ],
      "execution_count": null,
      "outputs": [
        {
          "output_type": "stream",
          "text": [
            "F1-Macro Average for Dummy Classifier:  0.5163120567375887\n",
            "F1-Macro Average for Gaussian NB Classifier:  0.47899159663865554\n",
            "F1-Macro Average for k-Nearest Neighbors Classifier:  0.40384615384615385\n"
          ],
          "name": "stdout"
        }
      ]
    },
    {
      "cell_type": "markdown",
      "metadata": {
        "id": "slw7RImj4vz0"
      },
      "source": [
        "####F1-Weighted Average"
      ]
    },
    {
      "cell_type": "code",
      "metadata": {
        "colab": {
          "base_uri": "https://localhost:8080/"
        },
        "id": "r6SKB_5L4vz1",
        "outputId": "804e68fd-3197-4898-de1c-9a1e262704f5"
      },
      "source": [
        "f1_w_dummy = f1_score(test_labels, dummy_preds, average='weighted')\n",
        "f1_w_gnb = f1_score(test_labels, gnb_preds, average='weighted')\n",
        "f1_w_knn = f1_score(test_labels, knn_preds, average='weighted')\n",
        "\n",
        "print(\"F1-Weighted Average for Dummy Classifier: \", f1_w_dummy)\n",
        "print(\"F1-Weighted Average for Gaussian NB Classifier: \", f1_w_gnb)\n",
        "print(\"F1-Weighted Average for k-Nearest Neighbors Classifier: \", f1_w_knn)"
      ],
      "execution_count": null,
      "outputs": [
        {
          "output_type": "stream",
          "text": [
            "F1-Weighted Average for Dummy Classifier:  0.6532143674216427\n",
            "F1-Weighted Average for Gaussian NB Classifier:  0.506641366223909\n",
            "F1-Weighted Average for k-Nearest Neighbors Classifier:  0.6253101736972705\n"
          ],
          "name": "stdout"
        }
      ]
    },
    {
      "cell_type": "markdown",
      "metadata": {
        "id": "DnWb-RUfiKh4"
      },
      "source": [
        "####F1-Micro Average Bar Plot"
      ]
    },
    {
      "cell_type": "code",
      "metadata": {
        "colab": {
          "base_uri": "https://localhost:8080/"
        },
        "id": "80_5Y5gNiLoU",
        "outputId": "4f917b8c-4d21-4fea-c8f8-60eb694bf47b"
      },
      "source": [
        "import matplotlib.pyplot as plt\n",
        "base_micros = [f1_mi_dummy, f1_mi_gnb, f1_mi_knn]\n",
        "names = [\"Dummy\", \"Gaussian NB\", \"kNN\"]\n",
        "plt.bar(names, base_micros)"
      ],
      "execution_count": null,
      "outputs": [
        {
          "output_type": "execute_result",
          "data": {
            "text/plain": [
              "<BarContainer object of 3 artists>"
            ]
          },
          "metadata": {
            "tags": []
          },
          "execution_count": 91
        },
        {
          "output_type": "display_data",
          "data": {
            "image/png": "[encoded data removed]",
            "text/plain": [
              "<Figure size 432x288 with 1 Axes>"
            ]
          },
          "metadata": {
            "tags": [],
            "needs_background": "light"
          }
        }
      ]
    },
    {
      "cell_type": "markdown",
      "metadata": {
        "id": "YYUq9ueviuM_"
      },
      "source": [
        "####F1-Macro Average Bar Plot"
      ]
    },
    {
      "cell_type": "code",
      "metadata": {
        "colab": {
          "base_uri": "https://localhost:8080/"
        },
        "id": "gBIarTBuit1h",
        "outputId": "3edf3d8d-8ea3-4966-929d-3182160b1b3a"
      },
      "source": [
        "base_macros = [f1_ma_dummy, f1_ma_gnb, f1_ma_knn]\n",
        "names = [\"Dummy\", \"Gaussian NB\", \"kNN\"]\n",
        "plt.bar(names, base_macros)"
      ],
      "execution_count": null,
      "outputs": [
        {
          "output_type": "execute_result",
          "data": {
            "text/plain": [
              "<BarContainer object of 3 artists>"
            ]
          },
          "metadata": {
            "tags": []
          },
          "execution_count": 92
        },
        {
          "output_type": "display_data",
          "data": {
            "image/png": "[encoded data removed]",
            "text/plain": [
              "<Figure size 432x288 with 1 Axes>"
            ]
          },
          "metadata": {
            "tags": [],
            "needs_background": "light"
          }
        }
      ]
    },
    {
      "cell_type": "markdown",
      "metadata": {
        "id": "DHyVSV-W4vz3"
      },
      "source": [
        "####F1-Weighted Average Bar Plot"
      ]
    },
    {
      "cell_type": "code",
      "metadata": {
        "colab": {
          "base_uri": "https://localhost:8080/",
          "height": 282
        },
        "id": "ttiafUPG4vz3",
        "outputId": "f963cb17-d212-433e-85fe-a629b9b3f88c"
      },
      "source": [
        "base_ws = [f1_w_dummy, f1_w_gnb, f1_w_knn]\n",
        "names = [\"Dummy\", \"Gaussian NB\", \"kNN\"]\n",
        "plt.bar(names, base_ws)"
      ],
      "execution_count": null,
      "outputs": [
        {
          "output_type": "execute_result",
          "data": {
            "text/plain": [
              "<BarContainer object of 3 artists>"
            ]
          },
          "metadata": {
            "tags": []
          },
          "execution_count": 93
        },
        {
          "output_type": "display_data",
          "data": {
            "image/png": "[encoded data removed]",
            "text/plain": [
              "<Figure size 432x288 with 1 Axes>"
            ]
          },
          "metadata": {
            "tags": [],
            "needs_background": "light"
          }
        }
      ]
    },
    {
      "cell_type": "markdown",
      "metadata": {
        "id": "Ft3DTeBNnYgo"
      },
      "source": [
        "####Σχολιασμός Αποτελεσμάτων"
      ]
    },
    {
      "cell_type": "markdown",
      "metadata": {
        "id": "ZL6l22-5ngvj"
      },
      "source": [
        "Εξετάζοντας τους πίνακες σύγχυσης βλέπουμε ότι ο Dummy και ο kNN αναγνωρίζουν καλύτερα τα True Positives (LIVE) από τα True Negatives (DIE), με τον kNN να μην έχει κανένα TN. O GNB από την άλλη, κάνει πιο κατανεμημένη δουλειά από τους άλλους 2 αλλά με αρκετά περισσότερα False Positives.\n",
        "\n",
        "Οι τιμές Precision είναι σχεδόν ίδιες και στους Dummy και kNN και κοντα στο 0.8 ενώ στον GNB είναι 1.\n",
        "\n",
        "Οι τιμές Recall είναι καλές στο Dummy (0.875) και πάρα πολύ καλές στον kNN (1) αλλά αυτό δεν σημαίνει απαραίτητα ότι θα αναγνωρίζει πάντα σωστά τα δεδομένα που ανήκουν σε αυτή τη κλάση, καθώς έχει πάρα πολύ λίγα δεδομένα για αυτή την κλάση. Στο GNB από την άλλη είναι χαμηλες (0.5). Εμείς θα θέλαμε αυτή η τιμή να είναι όσο το δυνατόν καλύτερη, διότι πρόκειται για πρόβλεψη σχετικά με την υγεία, οπότε τα True Negatives πρέπει να είναι αρκετά  περισσότερα από τα False Negatives.\n",
        "\n",
        "Όσον αφορά τα διαγράμματα, βλέπουμε ότι και για τους 3 ταξινομητές έχουν την ίδια μορφή, δηλαδή τα Micros με Weighted είναι σχεδόν ίδια και καλύτερα από τα Macros. Από αυτά μπορούμε να δούμε ότι οι προβλέψεις μας είναι καλές μιας και τα Weighted έχουν σχετικά υψήλα τιμές και δίνουμε λίγο μεγαλύτερη βάση σε αυτά τα F1 διότι το dataset είναι unbalanced που έχει αρκετή σημασία."
      ]
    },
    {
      "cell_type": "markdown",
      "metadata": {
        "id": "Jc48T5q0L_O2"
      },
      "source": [
        "###Βελτιστοποίηση Ταξινομητών\n"
      ]
    },
    {
      "cell_type": "markdown",
      "metadata": {
        "id": "JsWnEJjoxCjI"
      },
      "source": [
        "####Εισαγωγή απαραίτητων βιβλιοθηκών"
      ]
    },
    {
      "cell_type": "code",
      "metadata": {
        "colab": {
          "base_uri": "https://localhost:8080/"
        },
        "id": "2VhbReAMzkx7",
        "outputId": "ac851a5a-2446-4ce2-8d28-fde082d544da"
      },
      "source": [
        "!pip install -U imbalanced-learn"
      ],
      "execution_count": null,
      "outputs": [
        {
          "output_type": "stream",
          "text": [
            "Requirement already satisfied: imbalanced-learn in /usr/local/lib/python3.6/dist-packages (0.4.3)\n",
            "Collecting imbalanced-learn\n",
            "  Downloading imbalanced_learn-0.7.0-py3-none-any.whl (167 kB)\n",
            "\u001b[K     |████████████████████████████████| 167 kB 4.4 MB/s \n",
            "\u001b[?25hRequirement already satisfied: scikit-learn>=0.23 in /usr/local/lib/python3.6/dist-packages (from imbalanced-learn) (0.23.2)\n",
            "Requirement already satisfied: numpy>=1.13.3 in /usr/local/lib/python3.6/dist-packages (from imbalanced-learn) (1.19.4)\n",
            "Requirement already satisfied: scipy>=0.19.1 in /usr/local/lib/python3.6/dist-packages (from imbalanced-learn) (1.4.1)\n",
            "Requirement already satisfied: joblib>=0.11 in /usr/local/lib/python3.6/dist-packages (from imbalanced-learn) (0.17.0)\n",
            "Requirement already satisfied: threadpoolctl>=2.0.0 in /usr/local/lib/python3.6/dist-packages (from scikit-learn>=0.23->imbalanced-learn) (2.1.0)\n",
            "Requirement already satisfied: numpy>=1.13.3 in /usr/local/lib/python3.6/dist-packages (from imbalanced-learn) (1.19.4)\n",
            "Requirement already satisfied: scipy>=0.19.1 in /usr/local/lib/python3.6/dist-packages (from imbalanced-learn) (1.4.1)\n",
            "Requirement already satisfied: joblib>=0.11 in /usr/local/lib/python3.6/dist-packages (from imbalanced-learn) (0.17.0)\n",
            "Requirement already satisfied: numpy>=1.13.3 in /usr/local/lib/python3.6/dist-packages (from imbalanced-learn) (1.19.4)\n",
            "Installing collected packages: imbalanced-learn\n",
            "  Attempting uninstall: imbalanced-learn\n",
            "    Found existing installation: imbalanced-learn 0.4.3\n",
            "    Uninstalling imbalanced-learn-0.4.3:\n",
            "      Successfully uninstalled imbalanced-learn-0.4.3\n",
            "Successfully installed imbalanced-learn-0.7.0\n"
          ],
          "name": "stdout"
        }
      ]
    },
    {
      "cell_type": "code",
      "metadata": {
        "id": "x7fHQMRezYFP"
      },
      "source": [
        "from sklearn.feature_selection import VarianceThreshold\n",
        "from sklearn import preprocessing\n",
        "from imblearn.over_sampling import RandomOverSampler\n",
        "from sklearn.decomposition import PCA\n",
        "from sklearn.metrics import classification_report, accuracy_score, precision_recall_fscore_support, precision_score, recall_score\n",
        "import matplotlib.pyplot as plt\n",
        "from imblearn.pipeline import Pipeline\n",
        "from sklearn.model_selection import GridSearchCV\n",
        "import time"
      ],
      "execution_count": null,
      "outputs": []
    },
    {
      "cell_type": "markdown",
      "metadata": {
        "id": "5nCs1AiPNF62"
      },
      "source": [
        "####Ορισμός Συναρτήσεων"
      ]
    },
    {
      "cell_type": "code",
      "metadata": {
        "id": "2McAT9cQFE_a"
      },
      "source": [
        "def var_threshold(thres, train, test):\n",
        "  selector = VarianceThreshold(threshold= thres)\n",
        "  train_reduced = selector.fit_transform(train)\n",
        "  test_reduced = selector.transform(test)\n",
        "  print(\"Dimensions with Threshold=\", thres, \": \", test_reduced.shape)\n",
        "  return train_reduced, test_reduced"
      ],
      "execution_count": null,
      "outputs": []
    },
    {
      "cell_type": "code",
      "metadata": {
        "id": "6q5FR4drF95q"
      },
      "source": [
        "def scaling(scaler_type, train, test):\n",
        "  if scaler_type == 1:\n",
        "    scaler = preprocessing.StandardScaler().fit(train_reduced) \n",
        "  if scaler_type == 2:\n",
        "    scaler = preprocessing.MinMaxScaler().fit(train_reduced) \n",
        "  if scaler_type == 3:\n",
        "    scaler = preprocessing.MaxAbsScaler().fit(train_reduced) \n",
        "  train_scaled = scaler.transform(train_reduced)\n",
        "  test_scaled = scaler.transform(test_reduced)\n",
        "  \n",
        "  print(train_reduced[0])\n",
        "  print(train_scaled[0])\n",
        "  return train_scaled, test_scaled"
      ],
      "execution_count": null,
      "outputs": []
    },
    {
      "cell_type": "code",
      "metadata": {
        "id": "2O1zuB-YMjNz"
      },
      "source": [
        "def oversampling(train, labels):\n",
        "  ros = RandomOverSampler()\n",
        "  train_resampled, labels_resampled = ros.fit_sample(train, train_labels)\n",
        "  print(train_resampled.shape)\n",
        "  print(train_labels_resampled.shape)\n",
        "  print(\"New Sample Numbers of Each Class:\", np.bincount(train_labels_resampled)[1:])\n",
        "  print(\"New Percentages: \", np.bincount(train_labels_resampled)[1]/len(train_labels_resampled), np.bincount(train_labels_resampled)[2]/len(train_labels_resampled))\n",
        "  return train_resampled, labels_resampled"
      ],
      "execution_count": null,
      "outputs": []
    },
    {
      "cell_type": "markdown",
      "metadata": {
        "id": "3xU4cNKNwGO8"
      },
      "source": [
        "####Παράμετροι για το Grid Search Cross-Validation"
      ]
    },
    {
      "cell_type": "code",
      "metadata": {
        "id": "a5c9bN0Cjkxb"
      },
      "source": [
        "vthresh = [0, 0.05, 0.1, 0.15, 0.2]\n",
        "n_pca = list(range(5,20,2))\n",
        "k = range(1,30,2)"
      ],
      "execution_count": null,
      "outputs": []
    },
    {
      "cell_type": "markdown",
      "metadata": {
        "id": "jb6a6C3G61ZB"
      },
      "source": [
        "####Dummy Classifier\n",
        "Για τον συγκεκριμένο ταξινομητή δεν έχει καμία σημασία το τι προεπεξεργασία δεδομένων θα γίνει καθώς η απόφαση του δεν βασίζεται στα δεδομένα όπως οι υπόλοιποι αλλά αποφασίζει με βάση τους κανόνες που του έχουμε ορίσει.\n",
        "Για τον λόγο αυτό θα παρουσιάσουμε τον \"χειροκίνητο\" τρόπο προεπεξεργασίας και όχι τον αυτοματοποιημένο που χρησιμοποιούμε στους 2 επόμενους (GridSearchCV).\n"
      ]
    },
    {
      "cell_type": "markdown",
      "metadata": {
        "id": "Krr5lxxUxMop"
      },
      "source": [
        "#####Μείωση διαστάσεων με Variance Threshold"
      ]
    },
    {
      "cell_type": "code",
      "metadata": {
        "colab": {
          "base_uri": "https://localhost:8080/"
        },
        "id": "gb9_o-T4xMop",
        "outputId": "1d0dfb58-4323-4165-9fd5-f24c1507098c"
      },
      "source": [
        "print(\"Initial Dimensions: \", train.shape)\n",
        "\n",
        "#Threshold = 0\n",
        "# αρχικοποιούμε έναν selector\n",
        "zero_selector = VarianceThreshold(threshold=0)\n",
        "# όπως κάναμε και με τους ταξινομητές τον κάνουμε fit στα δεδομένα εκπαίδευσης\n",
        "train_zero_reduced = zero_selector.fit_transform(train)\n",
        "test_zero_reduced = zero_selector.transform(test)\n",
        "print(\"Dimensions with Threshold=0: \", test_zero_reduced.shape)\n",
        "\n",
        "#Threshold = 0.15\n",
        "selector = VarianceThreshold(threshold=0.15)\n",
        "train_reduced = selector.fit_transform(train)\n",
        "test_reduced = selector.transform(test)\n",
        "print(\"Dimensions with Threshold=0.15: \", test_reduced.shape)"
      ],
      "execution_count": null,
      "outputs": [
        {
          "output_type": "stream",
          "text": [
            "Initial Dimensions:  (124, 20)\n",
            "Dimensions with Threshold=0:  (31, 20)\n",
            "Dimensions with Threshold=0.15:  (31, 13)\n"
          ],
          "name": "stdout"
        }
      ]
    },
    {
      "cell_type": "markdown",
      "metadata": {
        "id": "g7icykkcxMow"
      },
      "source": [
        "Όπως βλέπουμε αν έχουμε Threshold=0, οι διαστάσεις δεν μπορούν να μειωθούν καθώς δεν η διακύμανση όλων είναι μεγαλύτερη του 0 (το ίδιο ισχύει για Threshold=0.1). Με Threshold=0.15 όμως βλέπουμε ότι καταφέραμε να ρίξουμε τις διαστάσεις από 19 σε 14, δηλαδή \"κόψαμε\" 5 διαστάσεις."
      ]
    },
    {
      "cell_type": "markdown",
      "metadata": {
        "id": "XSXcthOWxMow"
      },
      "source": [
        "#####Κανονικοποιήση Δεδομένων\n"
      ]
    },
    {
      "cell_type": "code",
      "metadata": {
        "colab": {
          "base_uri": "https://localhost:8080/",
          "height": 1000
        },
        "id": "nkBe7oxZxMox",
        "outputId": "a76dfa27-a069-4f13-d5c7-8625c851b514"
      },
      "source": [
        "indices = np.where(train_labels==1)\n",
        "class_one = train[indices]\n",
        "print(class_one.shape)\n",
        "print(\"Column 1\")\n",
        "for line in class_one[:,0]:\n",
        "  print(line)\n",
        "print(\"Column 2\")\n",
        "for line in class_one[:,1]:\n",
        "  print(line)\n",
        "print(\"Column 3\")\n",
        "for line in class_one[:,2]:\n",
        "  print(line)\n",
        "plt.scatter(range(0,len(class_one[:,0])),class_one[:,0])"
      ],
      "execution_count": null,
      "outputs": [
        {
          "output_type": "stream",
          "text": [
            "(99, 20)\n",
            "Column 1\n",
            "40.0\n",
            "51.0\n",
            "27.0\n",
            "24.0\n",
            "36.0\n",
            "44.0\n",
            "53.0\n",
            "23.0\n",
            "44.0\n",
            "56.0\n",
            "67.0\n",
            "22.0\n",
            "38.0\n",
            "30.0\n",
            "32.0\n",
            "36.0\n",
            "33.0\n",
            "69.0\n",
            "20.0\n",
            "38.0\n",
            "61.0\n",
            "39.0\n",
            "34.0\n",
            "65.0\n",
            "28.0\n",
            "64.0\n",
            "38.0\n",
            "34.0\n",
            "54.0\n",
            "52.0\n",
            "27.0\n",
            "41.0\n",
            "38.0\n",
            "51.0\n",
            "41.0\n",
            "34.0\n",
            "39.0\n",
            "23.0\n",
            "26.0\n",
            "49.0\n",
            "45.0\n",
            "23.0\n",
            "44.0\n",
            "30.0\n",
            "40.0\n",
            "48.0\n",
            "36.0\n",
            "42.0\n",
            "78.0\n",
            "33.0\n",
            "23.0\n",
            "30.0\n",
            "37.0\n",
            "39.0\n",
            "34.0\n",
            "66.0\n",
            "52.0\n",
            "37.0\n",
            "27.0\n",
            "37.0\n",
            "44.0\n",
            "58.0\n",
            "34.0\n",
            "60.0\n",
            "50.0\n",
            "37.0\n",
            "32.0\n",
            "36.0\n",
            "50.0\n",
            "45.0\n",
            "28.0\n",
            "36.0\n",
            "39.0\n",
            "50.0\n",
            "54.0\n",
            "31.0\n",
            "34.0\n",
            "7.0\n",
            "30.0\n",
            "54.0\n",
            "62.0\n",
            "52.0\n",
            "50.0\n",
            "45.0\n",
            "56.0\n",
            "30.0\n",
            "51.0\n",
            "51.0\n",
            "28.0\n",
            "50.0\n",
            "51.0\n",
            "38.0\n",
            "61.0\n",
            "40.0\n",
            "28.0\n",
            "42.0\n",
            "28.0\n",
            "20.0\n",
            "36.0\n",
            "Column 2\n",
            "1.0\n",
            "0.0\n",
            "1.0\n",
            "0.0\n",
            "1.0\n",
            "0.0\n",
            "0.0\n",
            "1.0\n",
            "1.0\n",
            "0.0\n",
            "0.0\n",
            "1.0\n",
            "0.0\n",
            "1.0\n",
            "1.0\n",
            "0.0\n",
            "1.0\n",
            "1.0\n",
            "0.0\n",
            "1.0\n",
            "0.0\n",
            "1.0\n",
            "1.0\n",
            "1.0\n",
            "1.0\n",
            "1.0\n",
            "1.0\n",
            "0.0\n",
            "1.0\n",
            "0.0\n",
            "0.0\n",
            "1.0\n",
            "1.0\n",
            "1.0\n",
            "1.0\n",
            "1.0\n",
            "1.0\n",
            "1.0\n",
            "0.0\n",
            "1.0\n",
            "0.0\n",
            "1.0\n",
            "1.0\n",
            "1.0\n",
            "0.0\n",
            "1.0\n",
            "0.0\n",
            "0.0\n",
            "1.0\n",
            "1.0\n",
            "1.0\n",
            "0.0\n",
            "0.0\n",
            "0.0\n",
            "1.0\n",
            "1.0\n",
            "0.0\n",
            "0.0\n",
            "1.0\n",
            "1.0\n",
            "0.0\n",
            "1.0\n",
            "0.0\n",
            "0.0\n",
            "0.0\n",
            "0.0\n",
            "1.0\n",
            "0.0\n",
            "1.0\n",
            "0.0\n",
            "1.0\n",
            "0.0\n",
            "1.0\n",
            "1.0\n",
            "0.0\n",
            "0.5064935064935064\n",
            "1.0\n",
            "1.0\n",
            "0.0\n",
            "1.0\n",
            "1.0\n",
            "0.0\n",
            "0.0\n",
            "1.0\n",
            "0.0\n",
            "1.0\n",
            "1.0\n",
            "1.0\n",
            "1.0\n",
            "1.0\n",
            "0.0\n",
            "0.0\n",
            "0.0\n",
            "0.0\n",
            "0.0\n",
            "1.0\n",
            "1.0\n",
            "0.0\n",
            "1.0\n",
            "Column 3\n",
            "0.0\n",
            "0.0\n",
            "1.0\n",
            "1.0\n",
            "1.0\n",
            "1.0\n",
            "1.0\n",
            "1.0\n",
            "1.0\n",
            "1.0\n",
            "1.0\n",
            "0.0\n",
            "0.0\n",
            "1.0\n",
            "0.0\n",
            "1.0\n",
            "1.0\n",
            "1.0\n",
            "1.0\n",
            "1.0\n",
            "1.0\n",
            "1.0\n",
            "1.0\n",
            "1.0\n",
            "1.0\n",
            "0.0\n",
            "0.0\n",
            "0.0\n",
            "1.0\n",
            "0.0\n",
            "1.0\n",
            "0.0\n",
            "1.0\n",
            "1.0\n",
            "0.0\n",
            "1.0\n",
            "1.0\n",
            "1.0\n",
            "1.0\n",
            "1.0\n",
            "1.0\n",
            "1.0\n",
            "1.0\n",
            "1.0\n",
            "1.0\n",
            "1.0\n",
            "1.0\n",
            "1.0\n",
            "1.0\n",
            "1.0\n",
            "1.0\n",
            "1.0\n",
            "1.0\n",
            "1.0\n",
            "1.0\n",
            "1.0\n",
            "1.0\n",
            "1.0\n",
            "1.0\n",
            "1.0\n",
            "1.0\n",
            "1.0\n",
            "1.0\n",
            "1.0\n",
            "1.0\n",
            "1.0\n",
            "1.0\n",
            "1.0\n",
            "1.0\n",
            "1.0\n",
            "1.0\n",
            "1.0\n",
            "1.0\n",
            "1.0\n",
            "0.0\n",
            "0.0\n",
            "1.0\n",
            "1.0\n",
            "1.0\n",
            "1.0\n",
            "1.0\n",
            "1.0\n",
            "1.0\n",
            "0.0\n",
            "1.0\n",
            "1.0\n",
            "1.0\n",
            "1.0\n",
            "1.0\n",
            "1.0\n",
            "1.0\n",
            "1.0\n",
            "1.0\n",
            "0.0\n",
            "1.0\n",
            "1.0\n",
            "1.0\n",
            "1.0\n",
            "1.0\n"
          ],
          "name": "stdout"
        },
        {
          "output_type": "execute_result",
          "data": {
            "text/plain": [
              "<matplotlib.collections.PathCollection at 0x7f196513bac8>"
            ]
          },
          "metadata": {
            "tags": []
          },
          "execution_count": 73
        },
        {
          "output_type": "display_data",
          "data": {
            "image/png": "[encoded data removed]",
            "text/plain": [
              "<Figure size 432x288 with 1 Axes>"
            ]
          },
          "metadata": {
            "tags": [],
            "needs_background": "light"
          }
        }
      ]
    },
    {
      "cell_type": "markdown",
      "metadata": {
        "id": "Bgkgq-_0xMo0"
      },
      "source": [
        "Παραπάνω έχουμε κρατήσει όλα τα δείγματα του Train Set που ανήκουν στην 1η Κατηγορία και έχουμε εκτυπώσει τις τιμές των 3 πρώτων χαρακτηριστικών. Βλέπουμε ότι στο πρώτο χαρακτηριστικό, που είναι ένα από αυτά που δεν παίρνουν 2 τιμές, υπάρχει σχετικά μεγάλη διακύμανση στις τιμές όποτε θα κάνουμε κανονικοποιήση δεδομένων.\n",
        "Στο τέλος παρουσιάζεται ένα διάγραμμα Scatter για να γίνει πιο ξεκάθαρη η διακύμανση που αναφέρουμε."
      ]
    },
    {
      "cell_type": "code",
      "metadata": {
        "colab": {
          "base_uri": "https://localhost:8080/"
        },
        "id": "1ZU7yZWVxMo0",
        "outputId": "27b91d62-ee0c-48fc-bc26-8bd1e4c40dad"
      },
      "source": [
        "scaler = preprocessing.StandardScaler().fit(train_reduced)\n",
        "train_scaled = scaler.transform(train_reduced)\n",
        "print(train_reduced[:2])\n",
        "print(train_scaled[:2])\n",
        "test_scaled = scaler.transform(test_reduced)"
      ],
      "execution_count": null,
      "outputs": [
        {
          "output_type": "stream",
          "text": [
            "[[ 40.    1.    0.    1.    0.    0.    1.    1.2  85.   31.    4.  100.\n",
            "    0. ]\n",
            " [ 51.    0.    0.    0.    1.    1.    1.    1.   78.   58.    4.6  52.\n",
            "    0. ]]\n",
            "[[-0.16816748  0.96425954 -0.73613606  0.78981828 -1.18055124 -1.88678312\n",
            "   0.73969126 -0.19518088 -0.43451128 -0.6849992   0.31747142  2.26718946\n",
            "  -0.87831007]\n",
            " [ 0.71068481 -1.04550909 -0.73613606 -1.27654284  0.92828459  0.55031174\n",
            "   0.73969126 -0.35579382 -0.58095202 -0.35260526  1.38659203 -0.57834736\n",
            "  -0.87831007]]\n"
          ],
          "name": "stdout"
        }
      ]
    },
    {
      "cell_type": "markdown",
      "metadata": {
        "id": "qFcks28CxMo4"
      },
      "source": [
        "#####Εξισορρόπιση Δεδομένων"
      ]
    },
    {
      "cell_type": "code",
      "metadata": {
        "colab": {
          "base_uri": "https://localhost:8080/"
        },
        "id": "8iFMXgLuxMo5",
        "outputId": "8fc6f0ec-a687-4ac8-9f27-3b35c532ae22"
      },
      "source": [
        "print(\"Sample Numbers of Each Class:\", np.bincount(train_labels)[0:])\n",
        "print(\"Percentages: \", np.bincount(train_labels)[0]/len(train_labels), np.bincount(train_labels)[1]/len(train_labels))"
      ],
      "execution_count": null,
      "outputs": [
        {
          "output_type": "stream",
          "text": [
            "Sample Numbers of Each Class: [25 99]\n",
            "Percentages:  0.20161290322580644 0.7983870967741935\n"
          ],
          "name": "stdout"
        }
      ]
    },
    {
      "cell_type": "markdown",
      "metadata": {
        "id": "B_04eHhCxMo_"
      },
      "source": [
        "Όπως βλέπουμε έχουμε μια αναλογία 1:4 μεταξύ των κλάσεων, που είναι πολύ μικρότερη της επιθυμητής 2:3. Για αυτόν τον λόγο θα τα εξισορροπήσουμε με την μέθοδο Oversampling που έχουμε δει στο εργαστήριο."
      ]
    },
    {
      "cell_type": "code",
      "metadata": {
        "colab": {
          "base_uri": "https://localhost:8080/"
        },
        "id": "zWfoLBrPxMpC",
        "outputId": "86b61ba6-bd3d-45b1-bea9-9c48a3ee778e"
      },
      "source": [
        "ros = RandomOverSampler()\n",
        "train_resampled, train_labels_resampled = ros.fit_sample(train, train_labels)\n",
        "\n",
        "print(train_resampled.shape)\n",
        "print(train_labels_resampled.shape)\n",
        "print(\"New Sample Numbers of Each Class:\", np.bincount(train_labels_resampled)[0:])\n",
        "print(\"New Percentages: \", np.bincount(train_labels_resampled)[0]/len(train_labels_resampled), np.bincount(train_labels_resampled)[1]/len(train_labels_resampled))"
      ],
      "execution_count": null,
      "outputs": [
        {
          "output_type": "stream",
          "text": [
            "(198, 20)\n",
            "(198,)\n",
            "New Sample Numbers of Each Class: [99 99]\n",
            "New Percentages:  0.5 0.5\n"
          ],
          "name": "stdout"
        }
      ]
    },
    {
      "cell_type": "markdown",
      "metadata": {
        "id": "frZmhHsTxMpE"
      },
      "source": [
        "#####PCA\n"
      ]
    },
    {
      "cell_type": "code",
      "metadata": {
        "colab": {
          "base_uri": "https://localhost:8080/"
        },
        "id": "dHe3lHKexMpF",
        "outputId": "0c109efa-5fb6-4d1d-84e5-ba2b48ba081d"
      },
      "source": [
        "n = 5\n",
        "pca = PCA(n_components=n)\n",
        "trainPCA = pca.fit_transform(train_resampled)\n",
        "testPCA = pca.transform(test)\n",
        "\n",
        "print(train_resampled.shape)\n",
        "print(trainPCA.shape)\n",
        "print(\"\")\n",
        "print(test_scaled.shape)\n",
        "print(testPCA.shape)"
      ],
      "execution_count": null,
      "outputs": [
        {
          "output_type": "stream",
          "text": [
            "(198, 20)\n",
            "(198, 5)\n",
            "\n",
            "(31, 13)\n",
            "(31, 5)\n"
          ],
          "name": "stdout"
        }
      ]
    },
    {
      "cell_type": "code",
      "metadata": {
        "colab": {
          "base_uri": "https://localhost:8080/",
          "height": 351
        },
        "id": "IHhsJOTGxMpH",
        "outputId": "1927a7b0-7e02-4921-98d4-42a41ed77e1f"
      },
      "source": [
        "evar = pca.explained_variance_ratio_\n",
        "cum_evar = np.cumsum(evar)\n",
        "print(cum_evar)\n",
        "plt.figure(1, figsize=(5, 5))\n",
        "plt.xlabel(\"Principal Component number\")\n",
        "plt.ylabel('Cumulative Variance')\n",
        "plt.plot(cum_evar, linewidth=2)\n",
        "plt.show()"
      ],
      "execution_count": null,
      "outputs": [
        {
          "output_type": "stream",
          "text": [
            "[0.81962316 0.96644839 0.98945349 0.9996028  0.99982471]\n"
          ],
          "name": "stdout"
        },
        {
          "output_type": "display_data",
          "data": {
            "image/png": "[encoded data removed]",
            "text/plain": [
              "<Figure size 360x360 with 1 Axes>"
            ]
          },
          "metadata": {
            "tags": [],
            "needs_background": "light"
          }
        }
      ]
    },
    {
      "cell_type": "code",
      "metadata": {
        "colab": {
          "base_uri": "https://localhost:8080/"
        },
        "id": "WCNEhqUmJlmq",
        "outputId": "c27eee4c-def7-4b14-b637-7839d6e003ab"
      },
      "source": [
        "dummy = DummyClassifier(\"uniform\")\n",
        "dummy.fit(trainPCA, train_labels_resampled)\n",
        "opt_dum = dummy.predict(testPCA)"
      ],
      "execution_count": null,
      "outputs": [
        {
          "output_type": "stream",
          "text": [
            "/usr/local/lib/python3.6/dist-packages/sklearn/utils/validation.py:70: FutureWarning: Pass strategy=uniform as keyword args. From version 0.25 passing these as positional arguments will result in an error\n",
            "  FutureWarning)\n"
          ],
          "name": "stderr"
        }
      ]
    },
    {
      "cell_type": "markdown",
      "metadata": {
        "id": "F-w9I5f3Jntn"
      },
      "source": [
        "#####Ακολουθεί και ο αυτοματοποιημένος τρόπος για μετέπειται χρήση"
      ]
    },
    {
      "cell_type": "code",
      "metadata": {
        "colab": {
          "base_uri": "https://localhost:8080/"
        },
        "id": "6cV95AutxMpK",
        "outputId": "bd8c45df-d58f-4e5f-b5b1-922028252714"
      },
      "source": [
        "selector_dum = VarianceThreshold()\n",
        "scaler_dum = preprocessing.StandardScaler()\n",
        "ros_dum = RandomOverSampler()\n",
        "pca_dum = PCA()\n",
        "dum = DummyClassifier()\n",
        "#Pipe and GSCV\n",
        "pipe = Pipeline(steps=[('selector', selector_dum), ('scaler', scaler_dum), ('sampler', ros_dum), ('pca', pca_dum), ('dummy', dum)], memory = 'tmp')\n",
        "dum_est = GridSearchCV(pipe, dict(selector__threshold=vthresh, pca__n_components=n_pca), cv=10, scoring='f1_micro', n_jobs=-1)\n",
        "#Fit-Prediction and timing\n",
        "curr_time = time.time()\n",
        "dum_est.fit(train, train_labels)\n",
        "opt_dum = dum_est.predict(test)\n",
        "dum_time = time.time() - curr_time\n",
        "print(dum_est.best_estimator_)"
      ],
      "execution_count": null,
      "outputs": [
        {
          "output_type": "stream",
          "text": [
            "Pipeline(memory='tmp',\n",
            "         steps=[('selector', VarianceThreshold(threshold=0.15)),\n",
            "                ('scaler', StandardScaler()), ('sampler', RandomOverSampler()),\n",
            "                ('pca', PCA(n_components=7)), ('dummy', DummyClassifier())])\n"
          ],
          "name": "stdout"
        },
        {
          "output_type": "stream",
          "text": [
            "/usr/local/lib/python3.6/dist-packages/sklearn/dummy.py:132: FutureWarning: The default value of strategy will change from stratified to prior in 0.24.\n",
            "  \"stratified to prior in 0.24.\", FutureWarning)\n"
          ],
          "name": "stderr"
        }
      ]
    },
    {
      "cell_type": "markdown",
      "metadata": {
        "id": "JYMP5j6KxI9k"
      },
      "source": [
        "####Gaussian Naive Bayes Classifier\n"
      ]
    },
    {
      "cell_type": "code",
      "metadata": {
        "id": "C156iVBNjkxb"
      },
      "source": [
        "selector_gnb = VarianceThreshold()\n",
        "scaler_gnb = preprocessing.StandardScaler()\n",
        "ros_gnb = RandomOverSampler()\n",
        "pca_gnb = PCA()\n",
        "clf_gnb = GaussianNB()\n",
        "pipe_gnb = Pipeline(steps=[('selector', selector_gnb), ('scaler', scaler_gnb), ('sampler', ros_gnb), ('pca', pca_gnb), ('GNB', clf_gnb)], memory = 'tmp')\n",
        "pipe_gnb_ma = Pipeline(steps=[('selector', selector_gnb), ('scaler', scaler_gnb), ('sampler', ros_gnb), ('pca', pca_gnb), ('GNB', clf_gnb)], memory = 'tmp')\n",
        "estimator_gnb_micro = GridSearchCV(pipe_gnb, dict(selector__threshold=vthresh, pca__n_components=n_pca), cv=10, scoring='f1_micro', n_jobs=-1)\n",
        "estimator_gnb_macro = GridSearchCV(pipe_gnb_ma, dict(selector__threshold=vthresh, pca__n_components=n_pca), cv=10, scoring='f1_macro', n_jobs=-1)"
      ],
      "execution_count": null,
      "outputs": []
    },
    {
      "cell_type": "code",
      "metadata": {
        "colab": {
          "base_uri": "https://localhost:8080/"
        },
        "id": "kf78vuktjkxb",
        "outputId": "36588a08-55a1-4f97-9716-76e1bc09e5bd"
      },
      "source": [
        "print(\"Best Classifier with F1-Micro Scoring\")\n",
        "curr_time = time.time()\n",
        "estimator_gnb_micro.fit(train, train_labels)\n",
        "preds_gnb_micro = estimator_gnb_micro.predict(test)\n",
        "gnb_micro_time = time.time() - curr_time\n",
        "print(classification_report(test_labels, preds_gnb_micro))\n",
        "print(estimator_gnb_micro.best_estimator_)\n",
        "print(estimator_gnb_micro.best_params_)\n",
        "\n",
        "print()\n",
        "\n",
        "print(\"Best Classifier with F1-Macro Scoring\")\n",
        "curr_time = time.time()\n",
        "estimator_gnb_macro.fit(train, train_labels)\n",
        "preds_gnb_macro = estimator_gnb_macro.predict(test)\n",
        "gnb_macro_time = time.time() - curr_time\n",
        "print(classification_report(test_labels, preds_gnb_macro))\n",
        "print(estimator_gnb_macro.best_estimator_)\n",
        "print(estimator_gnb_macro.best_params_)"
      ],
      "execution_count": null,
      "outputs": [
        {
          "output_type": "stream",
          "text": [
            "Best Classifier with F1-Micro Scoring\n",
            "              precision    recall  f1-score   support\n",
            "\n",
            "           0       0.62      0.71      0.67         7\n",
            "           1       0.91      0.88      0.89        24\n",
            "\n",
            "    accuracy                           0.84        31\n",
            "   macro avg       0.77      0.79      0.78        31\n",
            "weighted avg       0.85      0.84      0.84        31\n",
            "\n",
            "Pipeline(memory='tmp',\n",
            "         steps=[('selector', VarianceThreshold(threshold=0)),\n",
            "                ('scaler', StandardScaler()), ('sampler', RandomOverSampler()),\n",
            "                ('pca', PCA(n_components=17)), ('GNB', GaussianNB())])\n",
            "{'pca__n_components': 17, 'selector__threshold': 0}\n",
            "\n",
            "Best Classifier with F1-Macro Scoring\n",
            "              precision    recall  f1-score   support\n",
            "\n",
            "           0       0.58      1.00      0.74         7\n",
            "           1       1.00      0.79      0.88        24\n",
            "\n",
            "    accuracy                           0.84        31\n",
            "   macro avg       0.79      0.90      0.81        31\n",
            "weighted avg       0.91      0.84      0.85        31\n",
            "\n",
            "Pipeline(memory='tmp',\n",
            "         steps=[('selector', VarianceThreshold(threshold=0)),\n",
            "                ('scaler', StandardScaler()), ('sampler', RandomOverSampler()),\n",
            "                ('pca', PCA(n_components=9)), ('GNB', GaussianNB())])\n",
            "{'pca__n_components': 9, 'selector__threshold': 0}\n"
          ],
          "name": "stdout"
        }
      ]
    },
    {
      "cell_type": "markdown",
      "metadata": {
        "id": "WVnqoPCZw_Oa"
      },
      "source": [
        "####k-Nearest Neighbors Classifier\n"
      ]
    },
    {
      "cell_type": "code",
      "metadata": {
        "id": "X0BFi6SbjOm-"
      },
      "source": [
        "params = dict(\n",
        "    selector__threshold = vthresh,\n",
        "    pca__n_components = n_pca,\n",
        "    kNN__n_neighbors= k \n",
        ")\n",
        "\n",
        "selector = VarianceThreshold()\n",
        "sampler = RandomOverSampler()\n",
        "scaler = preprocessing.StandardScaler()\n",
        "pca = PCA()\n",
        "clf = KNeighborsClassifier(n_jobs=-1) # η παράμετρος n_jobs = 1 χρησιμοποιεί όλους τους πυρήνες του υπολογιστή\n",
        "\n",
        "knn_micro = Pipeline(steps=[('selector', selector), ('scaler', scaler), ('ros', sampler), ('pca', pca), ('kNN', clf)], memory = 'tmp')\n",
        "knn_macro = Pipeline(steps=[('selector', selector), ('scaler', scaler), ('ros', sampler), ('pca', pca), ('kNN', clf)], memory = 'tmp')\n",
        "\n",
        "estimator_knn_micro = GridSearchCV(knn_micro, params, cv=10, scoring='f1_micro', n_jobs=-1)\n",
        "estimator_knn_macro = GridSearchCV(knn_macro, params, cv=10, scoring='f1_macro', n_jobs=-1)"
      ],
      "execution_count": null,
      "outputs": []
    },
    {
      "cell_type": "code",
      "metadata": {
        "colab": {
          "base_uri": "https://localhost:8080/"
        },
        "id": "SNKLQpqQjc02",
        "outputId": "0f2de148-b6a6-4ab9-9a2f-264f8363d4f7"
      },
      "source": [
        "print(\"Best Estimator with F1-Micro Scoring\")\n",
        "curr_time = time.time()\n",
        "estimator_knn_micro.fit(train, train_labels)\n",
        "preds_knn_micro = estimator_knn_micro.predict(test)\n",
        "knn_micro_time = time.time() - curr_time\n",
        "print(classification_report(test_labels, preds_knn_micro))\n",
        "print(estimator_knn_micro.best_estimator_)\n",
        "print(estimator_knn_micro.best_params_)\n",
        "\n",
        "print()\n",
        "\n",
        "print(\"Best Estimator with F1-Macro Scoring\")\n",
        "curr_time = time.time()\n",
        "estimator_knn_macro.fit(train, train_labels)\n",
        "preds_knn_macro = estimator_knn_macro.predict(test)\n",
        "knn_macro_time = time.time() - curr_time\n",
        "print(classification_report(test_labels, preds_knn_macro))\n",
        "print(estimator_knn_macro.best_estimator_)\n",
        "print(estimator_knn_macro.best_params_)"
      ],
      "execution_count": null,
      "outputs": [
        {
          "output_type": "stream",
          "text": [
            "Best Estimator with F1-Micro Scoring\n",
            "              precision    recall  f1-score   support\n",
            "\n",
            "           0       0.64      1.00      0.78         7\n",
            "           1       1.00      0.83      0.91        24\n",
            "\n",
            "    accuracy                           0.87        31\n",
            "   macro avg       0.82      0.92      0.84        31\n",
            "weighted avg       0.92      0.87      0.88        31\n",
            "\n",
            "Pipeline(memory='tmp',\n",
            "         steps=[('selector', VarianceThreshold(threshold=0)),\n",
            "                ('scaler', StandardScaler()), ('ros', RandomOverSampler()),\n",
            "                ('pca', PCA(n_components=11)),\n",
            "                ('kNN', KNeighborsClassifier(n_jobs=-1))])\n",
            "{'kNN__n_neighbors': 5, 'pca__n_components': 11, 'selector__threshold': 0}\n",
            "\n",
            "Best Estimator with F1-Macro Scoring\n",
            "              precision    recall  f1-score   support\n",
            "\n",
            "           0       0.64      1.00      0.78         7\n",
            "           1       1.00      0.83      0.91        24\n",
            "\n",
            "    accuracy                           0.87        31\n",
            "   macro avg       0.82      0.92      0.84        31\n",
            "weighted avg       0.92      0.87      0.88        31\n",
            "\n",
            "Pipeline(memory='tmp',\n",
            "         steps=[('selector', VarianceThreshold(threshold=0)),\n",
            "                ('scaler', StandardScaler()), ('ros', RandomOverSampler()),\n",
            "                ('pca', PCA(n_components=11)),\n",
            "                ('kNN', KNeighborsClassifier(n_jobs=-1, n_neighbors=7))])\n",
            "{'kNN__n_neighbors': 7, 'pca__n_components': 11, 'selector__threshold': 0}\n"
          ],
          "name": "stdout"
        }
      ]
    },
    {
      "cell_type": "markdown",
      "metadata": {
        "id": "Vxjpn9mrITiX"
      },
      "source": [
        "####Αποτελέσματα"
      ]
    },
    {
      "cell_type": "markdown",
      "metadata": {
        "id": "-fgcb89sP5iI"
      },
      "source": [
        "Όπως βλέπουμε από τα παραπάνω αποτελέσματα, ανεξαρτήτως ποιου Score (F1-Micro ή F1-Macro) θέλουμε να μεγιστοποιήσουμε, βγαίνει ο ίδιος συνδυασμός παραμέτρων για τον Gaussian Naive Bayes Classifier και τον k-Nearest Neighbor Classifier (αλλάζει μόνο ο αριθμός γειτόνων, 5 στον F1-Micro Optimized, 7 στο F1-Macro Optimized).Για τον λόγο αυτό, από εδώ και στο εξής θα έχουμε έναν GNB και έναν kNN αφού είναι ίδιοι μεταξύ τους."
      ]
    },
    {
      "cell_type": "markdown",
      "metadata": {
        "id": "5WCofwWLrt-M"
      },
      "source": [
        "#####1. Confussion Matrices, F1-Micro Averages, F1-Macro Averages"
      ]
    },
    {
      "cell_type": "code",
      "metadata": {
        "colab": {
          "base_uri": "https://localhost:8080/",
          "height": 947
        },
        "id": "5mOeHcXzL03W",
        "outputId": "2b3c69a9-4059-447a-d9e1-92d37f9ba34a"
      },
      "source": [
        "from sklearn.metrics import f1_score, plot_confusion_matrix\n",
        "\n",
        "plot_confusion_matrix(dummy, test, test_labels, display_labels=[\"DIE\", \"LIVE\"], cmap='Blues', normalize='true')\n",
        "plot_confusion_matrix(estimator_gnb_macro, test, test_labels, display_labels=[\"DIE\", \"LIVE\"], cmap='Blues', normalize='true')\n",
        "plot_confusion_matrix(estimator_knn_macro, test, test_labels, display_labels=[\"DIE\", \"LIVE\"], cmap='Blues', normalize='true')\n",
        "\n",
        "#print(cnf_dum.confusion_matrix)\n",
        "#print(cnf_gnb.confusion_matrix)\n",
        "#print(cnf_knn.confusion_matrix)\n",
        "\n",
        "\n",
        "print(\"F1-Macro Average for Optimized Dummy Classifier:\", f1_score(test_labels, opt_dum, average='macro'))\n",
        "print(\"F1-Micro Average for Optimized Dummy Classifier:\", f1_score(test_labels, opt_dum, average='micro'),\"\\n\")\n",
        "\n",
        "print(\"F1-Macro Average for Optimized Gaussian Naive Bayes Classifier:\", f1_score(test_labels, preds_gnb_macro, average='macro'))\n",
        "print(\"F1-Micro Average for Optimized Gaussian Naive Bayes Classifier:\", f1_score(test_labels, preds_gnb_macro, average='micro'),\"\\n\")\n",
        "\n",
        "print(\"F1-Macro Average for Optimized k-Nearest Neighbors Classifier:\", f1_score(test_labels, preds_knn_micro, average='macro'))\n",
        "print(\"F1-Micro Average for Optimized k-Nearest Neighbors Classifier:\", f1_score(test_labels, preds_knn_micro, average='micro'))"
      ],
      "execution_count": null,
      "outputs": [
        {
          "output_type": "stream",
          "text": [
            "F1-Macro Average for Optimized Dummy Classifier: 0.4700854700854701\n",
            "F1-Micro Average for Optimized Dummy Classifier: 0.4838709677419355 \n",
            "\n",
            "F1-Macro Average for Optimized Gaussian Naive Bayes Classifier: 0.810281517747858\n",
            "F1-Micro Average for Optimized Gaussian Naive Bayes Classifier: 0.8387096774193549 \n",
            "\n",
            "F1-Macro Average for Optimized k-Nearest Neighbors Classifier: 0.8434343434343434\n",
            "F1-Micro Average for Optimized k-Nearest Neighbors Classifier: 0.8709677419354839\n"
          ],
          "name": "stdout"
        },
        {
          "output_type": "display_data",
          "data": {
            "image/png": "[encoded data removed]",
            "text/plain": [
              "<Figure size 432x288 with 2 Axes>"
            ]
          },
          "metadata": {
            "tags": [],
            "needs_background": "light"
          }
        },
        {
          "output_type": "display_data",
          "data": {
            "image/png": "[encoded data removed]",
            "text/plain": [
              "<Figure size 432x288 with 2 Axes>"
            ]
          },
          "metadata": {
            "tags": [],
            "needs_background": "light"
          }
        },
        {
          "output_type": "display_data",
          "data": {
            "image/png": "[encoded data removed]",
            "text/plain": [
              "<Figure size 432x288 with 2 Axes>"
            ]
          },
          "metadata": {
            "tags": [],
            "needs_background": "light"
          }
        }
      ]
    },
    {
      "cell_type": "markdown",
      "metadata": {
        "id": "9_T5ypw62X4H"
      },
      "source": [
        "#####2. Χρόνοι Εκτέλεσης των τελικών Fit του κάθε ταξινομητή στο σύνολο του Training Set και για Predict στο Test Set."
      ]
    },
    {
      "cell_type": "code",
      "metadata": {
        "colab": {
          "base_uri": "https://localhost:8080/"
        },
        "id": "EceDtlQ-8qnT",
        "outputId": "fcb1054e-9748-4042-ebec-71af605a8bb8"
      },
      "source": [
        "print(\"Completion Time of Optimization of Dummy Classifier:\", dum_time)\n",
        "print(\"Completion Time of Optimization of Gaussian Naive Bayes Classifier:\", gnb_micro_time)\n",
        "print(\"Completion Time of Optimization of k-Nearest Neighbors Classifier:\", knn_micro_time)"
      ],
      "execution_count": null,
      "outputs": [
        {
          "output_type": "stream",
          "text": [
            "Completion Time of Optimization of Dummy Classifier: 10.335782766342163\n",
            "Completion Time of Optimization of Gaussian Naive Bayes Classifier: 4.1544060707092285\n",
            "Completion Time of Optimization of k-Nearest Neighbors Classifier: 282.3427402973175\n"
          ],
          "name": "stdout"
        }
      ]
    },
    {
      "cell_type": "markdown",
      "metadata": {
        "id": "VQ1uAW_a-Sue"
      },
      "source": [
        "#####3. Bar Plots για κάθε Averaged Metric. "
      ]
    },
    {
      "cell_type": "code",
      "metadata": {
        "colab": {
          "base_uri": "https://localhost:8080/",
          "height": 958
        },
        "id": "zRq8eadc9EX6",
        "outputId": "e4139c8d-6ea3-46a8-9a9e-74cbc24b61f9"
      },
      "source": [
        "preds_opt = [opt_dum, preds_gnb_macro, preds_knn_macro]\n",
        "pred_labels = [\"Dummy\", \"GNB\",\"KNN\"]\n",
        "macros = []\n",
        "micros = []\n",
        "weighted = []\n",
        "for pred_opt in preds_opt:\n",
        "  macros.append(f1_score(test_labels, pred_opt, average='macro'))\n",
        "  micros.append(f1_score(test_labels, pred_opt, average='micro'))\n",
        "  weighted.append(f1_score(test_labels, pred_opt, average='weighted'))\n",
        "\n",
        "fig = plt.figure(1, figsize=(8,4.8))\n",
        "plt.bar(pred_labels, macros, color='r', width= 0.5)\n",
        "xlocs=[i for i in range(0,4)]\n",
        "for i, v in enumerate(macros):\n",
        "    plt.text(xlocs[i] - 0.25, v + 0.01, str(round(v,2)))\n",
        "plt.title(\"F1 Scores with Macro Average\")\n",
        "\n",
        "fig = plt.figure(2, figsize=(8,4.8))\n",
        "plt.bar(pred_labels, micros, color='g', width= 0.5)\n",
        "for i, v in enumerate(micros):\n",
        "    plt.text(xlocs[i] - 0.25, v + 0.01, str(round(v,2)))\n",
        "plt.title(\"F1 Scores with Micro Average\")\n",
        "\n",
        "fig = plt.figure(3, figsize=(8,4.8))\n",
        "plt.bar(pred_labels, weighted, color='b', width= 0.5)\n",
        "for i, v in enumerate(weighted):\n",
        "    plt.text(xlocs[i] - 0.25, v + 0.01, str(round(v,2)))\n",
        "plt.title(\"F1 Scores with Weighted Average\")"
      ],
      "execution_count": null,
      "outputs": [
        {
          "output_type": "execute_result",
          "data": {
            "text/plain": [
              "Text(0.5, 1.0, 'F1 Scores with Weighted Average')"
            ]
          },
          "metadata": {
            "tags": []
          },
          "execution_count": 83
        },
        {
          "output_type": "display_data",
          "data": {
            "image/png": "[encoded data removed]",
            "text/plain": [
              "<Figure size 576x345.6 with 1 Axes>"
            ]
          },
          "metadata": {
            "tags": [],
            "needs_background": "light"
          }
        },
        {
          "output_type": "display_data",
          "data": {
            "image/png": "[encoded data removed]",
            "text/plain": [
              "<Figure size 576x345.6 with 1 Axes>"
            ]
          },
          "metadata": {
            "tags": [],
            "needs_background": "light"
          }
        },
        {
          "output_type": "display_data",
          "data": {
            "image/png": "[encoded data removed]",
            "text/plain": [
              "<Figure size 576x345.6 with 1 Axes>"
            ]
          },
          "metadata": {
            "tags": [],
            "needs_background": "light"
          }
        }
      ]
    },
    {
      "cell_type": "markdown",
      "metadata": {
        "id": "N0_tpkNU-uVN"
      },
      "source": [
        "#####Precision & Recall"
      ]
    },
    {
      "cell_type": "code",
      "metadata": {
        "colab": {
          "base_uri": "https://localhost:8080/"
        },
        "id": "n-S37PT0-s00",
        "outputId": "bbfb8ef7-b265-4162-8f3e-472defbb9789"
      },
      "source": [
        "print(\"========PRECISION=========\")\n",
        "print(precision_score(test_labels, opt_dum))\n",
        "print(precision_score(test_labels, preds_gnb_macro))\n",
        "print(precision_score(test_labels, preds_knn_macro))\n",
        "print(\"========RECALL=========\")\n",
        "print(recall_score(test_labels, opt_dum))\n",
        "print(recall_score(test_labels, preds_gnb_macro))\n",
        "print(recall_score(test_labels, preds_knn_macro))"
      ],
      "execution_count": null,
      "outputs": [
        {
          "output_type": "stream",
          "text": [
            "========PRECISION=========\n",
            "0.8333333333333334\n",
            "1.0\n",
            "1.0\n",
            "========RECALL=========\n",
            "0.4166666666666667\n",
            "0.7916666666666666\n",
            "0.8333333333333334\n"
          ],
          "name": "stdout"
        }
      ]
    },
    {
      "cell_type": "markdown",
      "metadata": {
        "id": "tvcSk-00IeCC"
      },
      "source": [
        "#####4. Μεταβολή επίδοσης ταξινομητών"
      ]
    },
    {
      "cell_type": "code",
      "metadata": {
        "colab": {
          "base_uri": "https://localhost:8080/",
          "height": 386
        },
        "id": "3ssViAgpIjFf",
        "outputId": "8be72ca3-21f3-4ee3-dcdd-eb8a8c1641c1"
      },
      "source": [
        "classifiers = [\"F1-Micro\\nDummy\", \"F1-Micro\\nGNB\", \"F1-Micro\\nkNN\", \"F1-Macro\\nDummy\", \"F1-Macro\\nGNB\", \"F1-Macro\\nkNN\", \"F1-Weighted\\nDummy\", \"F1-Weighted\\nGNB\", \"F1-Weighted\\nkNN\"]\n",
        "baseline = [f1_mi_dummy, f1_mi_gnb, f1_mi_knn, f1_ma_dummy, f1_ma_gnb, f1_ma_knn, f1_w_dummy, f1_w_gnb, f1_w_knn]\n",
        "optimized = [micros[0], micros[1], micros[2], macros[0], macros[1], macros[2], weighted[0], weighted[1], weighted[2]]\n",
        "\n",
        "ticks = [x+0.4 for x in range(9)]\n",
        "xax = np.arange(9)\n",
        "plt.figure(1, figsize=(12,6))\n",
        "plt.bar(xax, baseline, align='edge', width=0.4, label=\"Baseline Classifier\")\n",
        "plt.bar(xax+0.4, optimized, align='edge', width=0.4, label=\"Optimized Classifier\")\n",
        "plt.xticks(ticks, classifiers)\n",
        "plt.legend()\n",
        "plt.show()"
      ],
      "execution_count": null,
      "outputs": [
        {
          "output_type": "display_data",
          "data": {
            "image/png": "[encoded data removed]",
            "text/plain": [
              "<Figure size 864x432 with 1 Axes>"
            ]
          },
          "metadata": {
            "tags": [],
            "needs_background": "light"
          }
        }
      ]
    },
    {
      "cell_type": "markdown",
      "metadata": {
        "id": "dOy_b9Iu9i5G"
      },
      "source": [
        "#####Σχολιασμός \n",
        "Όπως βλέπουμε από τους πίνακες σύγχυσης η εικόνα είναι πολύ διαφορετική από πριν(τον dummy δεν θα τον σχολιάσουμε αφού δεν είναι κανονικός ταξινομητής). Ο GNB έχει πλέον αρκετά καλύτερα αποτελέσματα στο Positive καθώς επίσης και στο Negative. Ο kNN όμως έχει την καλύτερη επίδοση στο True Positive με 83% με τον GNB 79%. Εύκολα βλέπουμε ότι η απόδοση είναι πολύ καλύτερη. Στα True Negative από την άλλη, η εικόνα είναι άρκως ικανοποιητική αφού οι ταξινομητές μας έκριναν σωστά τα Negative που αυτό θέλαμε να πετύχουμε.\n",
        "\n",
        "Οι τιμές Precision όπως βλέπουμε αυξήθηκαν αρκετά, συγκεκριμένα έφτασε την τιμή 1 στο GNB και kNN από 1 και 0.77 αντίστοιχα. Το Recall έφτασε στον kNN το 0.83, που είναι χειρότερο από το 1 που είχε στο Baseline. Μπορεί το νούμερο να είναι χειρότερο, όμως αυτό δεν σημαίνει ότι είναι και χειρότερος ο ταξινομητής. Αυτό γίνεται διότι η προεπεξεργασία που κάναμε πρόσθεσε δεδομένα με το OverSampling οπότε ο ταξινομητής έχει πλέον περισσότερα δεδομένα για να συγκρίνει.\n",
        "\n",
        "Όσον αφορά τα plots, έχουν ένα παρόμοιο μοτίβο με το Baseline, δηλαδή τα Micros είναι σχεδόν ίδια με τα Weighted και τα 2 όμως είναι καλύτερα από τα Macros. Και στα 3 Plots βλέπουμε ότι ο kNN ταξινομητής αποδίδει καλύτερα από τους άλλους 2 με διαφορά 0.03 από τον δεύτερο.\n",
        "\n",
        "Μπορεί ο kNN να έχει την καλύτερη επίδοση, αυτό όμως έρχεται και με μεγάλη καθυστέρηση, καθώς για την ίδια ποσότητα δεδομένων, ο kNN χρειάζεται 282sec ενώ ο GNB 3sec, δηλαδή 7 φορές περισσότερο χρόνο κι αυτό είναι λογικό αφού αποθηκεύει όλα τα δεδομένα που του δίνουμε.\n",
        "\n",
        "Να σημειωθεί ότι για να καταλήξουμε στο τελικό Pipe που επιλέχθηκε, έγινε εξαντλητική έρευνα ως προς το είδος Selector(ή όχι), Scaler(Standar, MinMax, MaxAbs ή καθόλου), Sampler (Over/Under Sampler ή καθόλου), PCA(ή όχι) και επιλέξαμε τον συνδυασμό preprocessing που μας έβγαλε τα καλύτερα αποτελέσματα στο συγκεκριμένο Dataset"
      ]
    }
  ]
}